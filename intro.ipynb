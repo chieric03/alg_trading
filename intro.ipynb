{
 "cells": [
  {
   "cell_type": "markdown",
   "metadata": {},
   "source": [
    "This Notebook contains my process through creating my first algorithmic trading bot, I guess its my \"Hello World\" for this project. So during this notebook I probably have no clue what I'm doing, but I hope theres clear progress from this notebook to future entries in the project. My favorite ticker to look at is the NQ future, so thats what I'll do the project on."
   ]
  },
  {
   "cell_type": "code",
   "execution_count": 107,
   "metadata": {},
   "outputs": [],
   "source": [
    "import numpy as np\n",
    "import pandas as pd\n",
    "import matplotlib.pyplot as plt\n",
    "import yfinance as yf\n",
    "import plotly.graph_objects as go"
   ]
  },
  {
   "cell_type": "markdown",
   "metadata": {},
   "source": [
    "### Importing Data\n",
    "Getting data from yahoo finance data api"
   ]
  },
  {
   "cell_type": "code",
   "execution_count": 108,
   "metadata": {},
   "outputs": [
    {
     "name": "stderr",
     "output_type": "stream",
     "text": [
      "[*********************100%***********************]  1 of 1 completed\n"
     ]
    }
   ],
   "source": [
    "nqdf = yf.download('NQ=F', start='2025-02-4', end='2025-04-1', interval='15m')\n",
    "nqdf.columns = nqdf.columns.get_level_values(0)"
   ]
  },
  {
   "cell_type": "code",
   "execution_count": 109,
   "metadata": {},
   "outputs": [
    {
     "data": {
      "text/html": [
       "<div>\n",
       "<style scoped>\n",
       "    .dataframe tbody tr th:only-of-type {\n",
       "        vertical-align: middle;\n",
       "    }\n",
       "\n",
       "    .dataframe tbody tr th {\n",
       "        vertical-align: top;\n",
       "    }\n",
       "\n",
       "    .dataframe thead th {\n",
       "        text-align: right;\n",
       "    }\n",
       "</style>\n",
       "<table border=\"1\" class=\"dataframe\">\n",
       "  <thead>\n",
       "    <tr style=\"text-align: right;\">\n",
       "      <th>Price</th>\n",
       "      <th>Close</th>\n",
       "      <th>High</th>\n",
       "      <th>Low</th>\n",
       "      <th>Open</th>\n",
       "      <th>Volume</th>\n",
       "    </tr>\n",
       "    <tr>\n",
       "      <th>Datetime</th>\n",
       "      <th></th>\n",
       "      <th></th>\n",
       "      <th></th>\n",
       "      <th></th>\n",
       "      <th></th>\n",
       "    </tr>\n",
       "  </thead>\n",
       "  <tbody>\n",
       "    <tr>\n",
       "      <th>2025-02-04 05:00:00+00:00</th>\n",
       "      <td>21306.00</td>\n",
       "      <td>21348.50</td>\n",
       "      <td>21289.00</td>\n",
       "      <td>21301.50</td>\n",
       "      <td>1470</td>\n",
       "    </tr>\n",
       "    <tr>\n",
       "      <th>2025-02-04 05:15:00+00:00</th>\n",
       "      <td>21334.50</td>\n",
       "      <td>21344.25</td>\n",
       "      <td>21242.50</td>\n",
       "      <td>21302.50</td>\n",
       "      <td>4369</td>\n",
       "    </tr>\n",
       "    <tr>\n",
       "      <th>2025-02-04 05:30:00+00:00</th>\n",
       "      <td>21352.50</td>\n",
       "      <td>21361.50</td>\n",
       "      <td>21317.75</td>\n",
       "      <td>21333.50</td>\n",
       "      <td>2149</td>\n",
       "    </tr>\n",
       "    <tr>\n",
       "      <th>2025-02-04 05:45:00+00:00</th>\n",
       "      <td>21358.25</td>\n",
       "      <td>21410.00</td>\n",
       "      <td>21344.00</td>\n",
       "      <td>21354.25</td>\n",
       "      <td>2405</td>\n",
       "    </tr>\n",
       "    <tr>\n",
       "      <th>2025-02-04 06:00:00+00:00</th>\n",
       "      <td>21359.75</td>\n",
       "      <td>21374.75</td>\n",
       "      <td>21337.50</td>\n",
       "      <td>21359.25</td>\n",
       "      <td>1395</td>\n",
       "    </tr>\n",
       "    <tr>\n",
       "      <th>...</th>\n",
       "      <td>...</td>\n",
       "      <td>...</td>\n",
       "      <td>...</td>\n",
       "      <td>...</td>\n",
       "      <td>...</td>\n",
       "    </tr>\n",
       "    <tr>\n",
       "      <th>2025-04-01 02:45:00+00:00</th>\n",
       "      <td>19380.00</td>\n",
       "      <td>19381.75</td>\n",
       "      <td>19364.75</td>\n",
       "      <td>19366.25</td>\n",
       "      <td>939</td>\n",
       "    </tr>\n",
       "    <tr>\n",
       "      <th>2025-04-01 03:00:00+00:00</th>\n",
       "      <td>19378.25</td>\n",
       "      <td>19386.75</td>\n",
       "      <td>19373.50</td>\n",
       "      <td>19380.25</td>\n",
       "      <td>778</td>\n",
       "    </tr>\n",
       "    <tr>\n",
       "      <th>2025-04-01 03:15:00+00:00</th>\n",
       "      <td>19371.50</td>\n",
       "      <td>19379.25</td>\n",
       "      <td>19367.50</td>\n",
       "      <td>19379.25</td>\n",
       "      <td>665</td>\n",
       "    </tr>\n",
       "    <tr>\n",
       "      <th>2025-04-01 03:30:00+00:00</th>\n",
       "      <td>19360.25</td>\n",
       "      <td>19374.25</td>\n",
       "      <td>19354.50</td>\n",
       "      <td>19372.50</td>\n",
       "      <td>1168</td>\n",
       "    </tr>\n",
       "    <tr>\n",
       "      <th>2025-04-01 03:45:00+00:00</th>\n",
       "      <td>19365.00</td>\n",
       "      <td>19369.00</td>\n",
       "      <td>19359.50</td>\n",
       "      <td>19359.50</td>\n",
       "      <td>472</td>\n",
       "    </tr>\n",
       "  </tbody>\n",
       "</table>\n",
       "<p>3559 rows × 5 columns</p>\n",
       "</div>"
      ],
      "text/plain": [
       "Price                         Close      High       Low      Open  Volume\n",
       "Datetime                                                                 \n",
       "2025-02-04 05:00:00+00:00  21306.00  21348.50  21289.00  21301.50    1470\n",
       "2025-02-04 05:15:00+00:00  21334.50  21344.25  21242.50  21302.50    4369\n",
       "2025-02-04 05:30:00+00:00  21352.50  21361.50  21317.75  21333.50    2149\n",
       "2025-02-04 05:45:00+00:00  21358.25  21410.00  21344.00  21354.25    2405\n",
       "2025-02-04 06:00:00+00:00  21359.75  21374.75  21337.50  21359.25    1395\n",
       "...                             ...       ...       ...       ...     ...\n",
       "2025-04-01 02:45:00+00:00  19380.00  19381.75  19364.75  19366.25     939\n",
       "2025-04-01 03:00:00+00:00  19378.25  19386.75  19373.50  19380.25     778\n",
       "2025-04-01 03:15:00+00:00  19371.50  19379.25  19367.50  19379.25     665\n",
       "2025-04-01 03:30:00+00:00  19360.25  19374.25  19354.50  19372.50    1168\n",
       "2025-04-01 03:45:00+00:00  19365.00  19369.00  19359.50  19359.50     472\n",
       "\n",
       "[3559 rows x 5 columns]"
      ]
     },
     "execution_count": 109,
     "metadata": {},
     "output_type": "execute_result"
    }
   ],
   "source": [
    "nqdf"
   ]
  },
  {
   "cell_type": "markdown",
   "metadata": {},
   "source": [
    "Signal: Engulfing Candle\n",
    "This is probably the most basic signal there is. Its simply when the following candle opens and closes below the previous (for a bearish indicator, opposite for bullish)  \n",
    "<img src=\"pictures/engulfingpic.jpg\" alt=\"Description\" style=\"display:block;margin:auto\" width=\"300\" height=\"200\"/>\n"
   ]
  },
  {
   "cell_type": "code",
   "execution_count": 110,
   "metadata": {},
   "outputs": [],
   "source": [
    "def engulf_signal(df):\n",
    "    \"\"\"\n",
    "    Generate buy/sell signals based on the closing prices of the candles. If the 2nd candle in a sequence closes below or above\n",
    "    the opening price of the candle before, the signal will occur.\n",
    "    For a sell signal, the closing price of the 2nd candle must be below the opening price of the previous candle and the function will return 1.\n",
    "    For a buy signal, the closing price of the 2nd candle must be above the opening price of the previous candle and the function will return 2.\n",
    "    No signal returns 0\n",
    "    \"\"\"\n",
    "    open_ = float(df.Open.iloc[-1])\n",
    "    close_ = float(df.Close.iloc[-1])\n",
    "    prev_open = float(df.Open.iloc[-2])\n",
    "    prev_close = float(df.Close.iloc[-2])\n",
    "\n",
    "    #Sell signal\n",
    "    if (open_>close_ and\n",
    "        prev_open<prev_close and\n",
    "        close_<prev_open and\n",
    "        open_>=prev_close):\n",
    "        return 1\n",
    "\n",
    "    #Buy signal\n",
    "    elif (open_<close_ and\n",
    "          prev_open>prev_close and\n",
    "          close_>prev_open and\n",
    "          open_<=prev_close):\n",
    "        return 2\n",
    "    \n",
    "    #No signal\n",
    "    else:\n",
    "        return 0"
   ]
  },
  {
   "cell_type": "code",
   "execution_count": 111,
   "metadata": {},
   "outputs": [],
   "source": [
    "#Checking through our df for signals\n",
    "signal = []\n",
    "signal.append(0)\n",
    "for i in range(1, len(nqdf)):\n",
    "    data = nqdf.iloc[i-1:i+1]\n",
    "    signal.append(engulf_signal(data))\n",
    "nqdf['Signal'] = signal"
   ]
  },
  {
   "cell_type": "code",
   "execution_count": 112,
   "metadata": {},
   "outputs": [
    {
     "data": {
      "text/plain": [
       "Signal\n",
       "0    3078\n",
       "1     252\n",
       "2     229\n",
       "Name: count, dtype: int64"
      ]
     },
     "execution_count": 112,
     "metadata": {},
     "output_type": "execute_result"
    }
   ],
   "source": [
    "nqdf.Signal.value_counts()"
   ]
  },
  {
   "cell_type": "code",
   "execution_count": 113,
   "metadata": {},
   "outputs": [
    {
     "data": {
      "text/plain": [
       "np.float64(21306.0)"
      ]
     },
     "execution_count": 113,
     "metadata": {},
     "output_type": "execute_result"
    }
   ],
   "source": [
    "nqdf.Close.iloc[0]"
   ]
  },
  {
   "cell_type": "markdown",
   "metadata": {},
   "source": [
    "Plotting the signals on a chart"
   ]
  },
  {
   "cell_type": "code",
   "execution_count": 125,
   "metadata": {},
   "outputs": [],
   "source": [
    "def plot_candlestick_signals(df, day=None, start_time=None, end_time=None):\n",
    "    \"\"\"\n",
    "    Plot candlestick chart with engulfing buy/sell signals for a specific day and optional time range.\n",
    "    \n",
    "    Parameters:\n",
    "        df (DataFrame): OHLC dataframe with a datetime index and a 'Signal' column.\n",
    "        day (str or datetime.date, optional): The date to plot (e.g., '2025-03-10').\n",
    "        start_time (str, optional): Start time (e.g., '09:30') in HH:MM format.\n",
    "        end_time (str, optional): End time (e.g., '16:00') in HH:MM format.\n",
    "    \"\"\"\n",
    "    df = df.copy()\n",
    "    df.index = pd.to_datetime(df.index)\n",
    "    df = df.dropna(subset=['Open', 'High', 'Low', 'Close'])\n",
    "\n",
    "    # Filter by day\n",
    "    if day is not None:\n",
    "        day = pd.to_datetime(day).date()\n",
    "        df = df[df.index.date == day]\n",
    "\n",
    "    # Filter by time range\n",
    "    if start_time or end_time:\n",
    "        # Convert to datetime.time objects\n",
    "        if start_time:\n",
    "            start_time = pd.to_datetime(start_time).time()\n",
    "        if end_time:\n",
    "            end_time = pd.to_datetime(end_time).time()\n",
    "\n",
    "        df = df[(df.index.time >= (start_time or df.index.time.min())) &\n",
    "                (df.index.time <= (end_time or df.index.time.max()))]\n",
    "\n",
    "    if df.empty:\n",
    "        print(\"No data for the specified day/time range.\")\n",
    "        return\n",
    "\n",
    "    # Plot\n",
    "    fig = go.Figure()\n",
    "\n",
    "    fig.add_trace(go.Candlestick(\n",
    "        x=df.index,\n",
    "        open=df['Open'],\n",
    "        high=df['High'],\n",
    "        low=df['Low'],\n",
    "        close=df['Close'],\n",
    "        name='Candles'\n",
    "    ))\n",
    "\n",
    "    # Sell signals\n",
    "    sell_signals = df[df['Signal'] == 1]\n",
    "    fig.add_trace(go.Scatter(\n",
    "        x=sell_signals.index,\n",
    "        y=sell_signals['High'],\n",
    "        mode='markers',\n",
    "        marker=dict(color='red', symbol='triangle-down', size=10),\n",
    "        name='Sell Signal'\n",
    "    ))\n",
    "\n",
    "    # Buy signals\n",
    "    buy_signals = df[df['Signal'] == 2]\n",
    "    fig.add_trace(go.Scatter(\n",
    "        x=buy_signals.index,\n",
    "        y=buy_signals['Low'],\n",
    "        mode='markers',\n",
    "        marker=dict(color='green', symbol='triangle-up', size=10),\n",
    "        name='Buy Signal'\n",
    "    ))\n",
    "\n",
    "    fig.update_layout(\n",
    "        title=f'NQ=F Candlestick Chart with Signals ({day})',\n",
    "        xaxis_title='Time',\n",
    "        yaxis_title='Price',\n",
    "        xaxis_rangeslider_visible=False,\n",
    "        template='plotly_dark',\n",
    "        height=700\n",
    "    )\n",
    "\n",
    "    fig.show()\n"
   ]
  },
  {
   "cell_type": "code",
   "execution_count": 130,
   "metadata": {},
   "outputs": [
    {
     "data": {
      "application/vnd.plotly.v1+json": {
       "config": {
        "plotlyServerURL": "https://plot.ly"
       },
       "data": [
        {
         "close": {
          "bdata": "AAAAAPCS00AAAAAAMI3TQAAAAACQktNAAAAAAICY00AAAAAAsJzTQAAAAADwm9NAAAAAAHCi00AAAAAAcKnTQAAAAABwqNNAAAAAALCm00AAAAAAAKvTQAAAAAAwqtNAAAAAAACm00AAAAAAAKTTQAAAAACQqtNAAAAAAOCm00AAAAAAYKvTQAAAAACwrNNAAAAAABCl00AAAAAAkJ/TQAAAAACgpNNAAAAAAGCn00AAAAAAgKHTQAAAAACwntNAAAAAAOCj00AAAAAA0KPTQAAAAABgpNNAAAAAALCj00AAAAAAIKXTQAAAAADwn9NAAAAAAGCm00AAAAAA0J7TQAAAAACAkdNAAAAAAPCS00AAAAAAUITTQAAAAAAAftNAAAAAAFB900AAAAAA8IrTQAAAAADAkNNAAAAAAICI00AAAAAAQIbTQAAAAAAggtNAAAAAAMB900AAAAAAgIDTQAAAAAAAhdNAAAAAAKCK00AAAAAAkIDTQAAAAADge9NAAAAAAGBw00AAAAAAgGzTQAAAAAAgbdNAAAAAAHBy00AAAAAA4HDTQAAAAACAatNAAAAAAHBq00AAAAAAkFPTQAAAAACAQtNAAAAAAAA100AAAAAAACnTQAAAAACQGNNAAAAAAOAl00AAAAAAICzTQAAAAAAAJdNAAAAAANAg00AAAAAAECbTQAAAAADwHtNAAAAAABAU00AAAAAAsBXTQAAAAADwCtNAAAAAAOAM00AAAAAAUP/SQAAAAABw/NJAAAAAACD/0kAAAAAA0PnSQAAAAABw9tJAAAAAALDi0kAAAAAAIOTSQAAAAACA+tJAAAAAACDx0kAAAAAAEALTQAAAAACQAtNAAAAAAOAF00AAAAAAQATTQAAAAAAABNNAAAAAABDx0kAAAAAAkPbSQAAAAACQ+dJAAAAAACDs0kAAAAAA4OTSQAAAAAAQ3dJAAAAAAIDZ0kAAAAAAENrSQA==",
          "dtype": "f8"
         },
         "high": {
          "bdata": "AAAAAPCW00AAAAAA0JLTQAAAAACAk9NAAAAAAOCY00AAAAAAEKDTQAAAAACAntNAAAAAAHCn00AAAAAAIKrTQAAAAABQq9NAAAAAAJCp00AAAAAAAK/TQAAAAAAArdNAAAAAAPCt00AAAAAA8KfTQAAAAADgqtNAAAAAAJCs00AAAAAAEKzTQAAAAAAgrtNAAAAAAMCs00AAAAAAUKfTQAAAAABAptNAAAAAADCp00AAAAAA8KjTQAAAAADAo9NAAAAAAFCl00AAAAAAEKfTQAAAAACAptNAAAAAAOCm00AAAAAAMKvTQAAAAAAAptNAAAAAAMCn00AAAAAAEKbTQAAAAABApNNAAAAAANCV00AAAAAAAJPTQAAAAACgiNNAAAAAANCF00AAAAAAkI7TQAAAAADgktNAAAAAAMCV00AAAAAAII7TQAAAAACAh9NAAAAAAHCH00AAAAAAwIPTQAAAAABwh9NAAAAAABCN00AAAAAAgIzTQAAAAAAwhNNAAAAAAPB800AAAAAAMHfTQAAAAABwbtNAAAAAAIBz00AAAAAAgHnTQAAAAADgctNAAAAAACBw00AAAAAAoG7TQAAAAADAU9NAAAAAAFBJ00AAAAAAcDzTQAAAAADAL9NAAAAAAKAo00AAAAAAIC3TQAAAAADAPdNAAAAAAFAz00AAAAAAACnTQAAAAABQH9NAAAAAANAt00AAAAAA8B/TQAAAAACwF9NAAAAAAEAY00AAAAAAkA7TQAAAAADABtNAAAAAAAAL00AAAAAA8AbTQAAAAAAAA9NAAAAAAND40kAAAAAAgOnSQAAAAAAAC9NAAAAAANAX00AAAAAAcAjTQAAAAACgBdNAAAAAADAI00AAAAAA4AbTQAAAAACQB9NAAAAAAGAB00AAAAAAcPnSQAAAAAAg/dJAAAAAAED70kAAAAAAQPLSQAAAAAAw5tJAAAAAAJDe0kAAAAAAgODSQA==",
          "dtype": "f8"
         },
         "low": {
          "bdata": "AAAAAFCM00AAAAAAwInTQAAAAADgi9NAAAAAACCR00AAAAAAIJfTQAAAAACgmtNAAAAAAJCb00AAAAAAcKDTQAAAAACgptNAAAAAAFCl00AAAAAAoKXTQAAAAADQqNNAAAAAAMCj00AAAAAAgKHTQAAAAACAo9NAAAAAAFCm00AAAAAAUKbTQAAAAABwqtNAAAAAAECk00AAAAAA0J7TQAAAAACgn9NAAAAAADCk00AAAAAAUKHTQAAAAACAm9NAAAAAAPCe00AAAAAAwKLTQAAAAABQodNAAAAAAFCi00AAAAAAwKLTQAAAAACgndNAAAAAAFCd00AAAAAAUJ7TQAAAAAAAkdNAAAAAAICM00AAAAAAgILTQAAAAABAe9NAAAAAANB700AAAAAA8HzTQAAAAADwitNAAAAAAFCD00AAAAAAgIPTQAAAAADggNNAAAAAAAB800AAAAAAAHnTQAAAAACAedNAAAAAALCA00AAAAAAgH3TQAAAAAAgdNNAAAAAAGBr00AAAAAAwGvTQAAAAABAZdNAAAAAAJBq00AAAAAAwGjTQAAAAABwaNNAAAAAAOBS00AAAAAAEEjTQAAAAACwONNAAAAAAHAz00AAAAAAcCjTQAAAAABAENNAAAAAAIAX00AAAAAAIBrTQAAAAADwINNAAAAAAJAd00AAAAAAgBnTQAAAAACwENNAAAAAANAS00AAAAAAQBPTQAAAAADA/9JAAAAAABAJ00AAAAAAgPvSQAAAAACA99JAAAAAADDx0kAAAAAAcPXSQAAAAADQ79JAAAAAAIDg0kAAAAAAENLSQAAAAABg4tJAAAAAAGDw0kAAAAAAQPDSQAAAAAAQ9tJAAAAAAIAB00AAAAAAgADTQAAAAAAwA9NAAAAAAKDq0kAAAAAAQO/SQAAAAACw89JAAAAAACDs0kAAAAAAUOPSQAAAAACQ1dJAAAAAAFDH0kAAAAAAYNfSQA==",
          "dtype": "f8"
         },
         "name": "Candles",
         "open": {
          "bdata": "AAAAAFCQ00AAAAAAwJLTQAAAAADAjdNAAAAAADCS00AAAAAAwJjTQAAAAAAAndNAAAAAAJCb00AAAAAAkKLTQAAAAABgqdNAAAAAAPCn00AAAAAAkKbTQAAAAABwqtNAAAAAABCq00AAAAAAsKbTQAAAAADQpNNAAAAAAICq00AAAAAAoKfTQAAAAADAq9NAAAAAAICs00AAAAAAAKXTQAAAAACgn9NAAAAAALCk00AAAAAAYKfTQAAAAACAodNAAAAAAPCe00AAAAAAoKPTQAAAAADwo9NAAAAAAOCk00AAAAAAAKTTQAAAAAAgpdNAAAAAABCg00AAAAAAEKbTQAAAAACAn9NAAAAAABCS00AAAAAAAJPTQAAAAABQhNNAAAAAAIB900AAAAAAEH3TQAAAAAAAi9NAAAAAAMCQ00AAAAAAkInTQAAAAABghtNAAAAAAHCB00AAAAAAQH7TQAAAAACwgNNAAAAAAICE00AAAAAAUIrTQAAAAABQgdNAAAAAAPB700AAAAAAAHDTQAAAAABAbNNAAAAAADBt00AAAAAAgHLTQAAAAADQcNNAAAAAAEBq00AAAAAA0GrTQAAAAADAU9NAAAAAAABC00AAAAAAIDXTQAAAAAAAKdNAAAAAAKAY00AAAAAA8CXTQAAAAABgLNNAAAAAAFAl00AAAAAAoCDTQAAAAAAgGNNAAAAAADAf00AAAAAA0BPTQAAAAACgFdNAAAAAANAK00AAAAAA8AzTQAAAAABQ/9JAAAAAAHD80kAAAAAAYP/SQAAAAADw+dJAAAAAAID20kAAAAAAoOLSQAAAAACA5NJAAAAAAHD60kAAAAAAkPDSQAAAAADwAdNAAAAAACAC00AAAAAAIAbTQAAAAABwBNNAAAAAAAD80kAAAAAAMPHSQAAAAAAA99JAAAAAAOD50kAAAAAAYOzSQAAAAACA5NJAAAAAAEDd0kAAAAAAkNnSQA==",
          "dtype": "f8"
         },
         "type": "candlestick",
         "x": [
          "2025-03-10T00:00:00+00:00",
          "2025-03-10T00:15:00+00:00",
          "2025-03-10T00:30:00+00:00",
          "2025-03-10T00:45:00+00:00",
          "2025-03-10T01:00:00+00:00",
          "2025-03-10T01:15:00+00:00",
          "2025-03-10T01:30:00+00:00",
          "2025-03-10T01:45:00+00:00",
          "2025-03-10T02:00:00+00:00",
          "2025-03-10T02:15:00+00:00",
          "2025-03-10T02:30:00+00:00",
          "2025-03-10T02:45:00+00:00",
          "2025-03-10T03:00:00+00:00",
          "2025-03-10T03:15:00+00:00",
          "2025-03-10T03:30:00+00:00",
          "2025-03-10T03:45:00+00:00",
          "2025-03-10T04:00:00+00:00",
          "2025-03-10T04:15:00+00:00",
          "2025-03-10T04:30:00+00:00",
          "2025-03-10T04:45:00+00:00",
          "2025-03-10T05:00:00+00:00",
          "2025-03-10T05:15:00+00:00",
          "2025-03-10T05:30:00+00:00",
          "2025-03-10T05:45:00+00:00",
          "2025-03-10T06:00:00+00:00",
          "2025-03-10T06:15:00+00:00",
          "2025-03-10T06:30:00+00:00",
          "2025-03-10T06:45:00+00:00",
          "2025-03-10T07:00:00+00:00",
          "2025-03-10T07:15:00+00:00",
          "2025-03-10T07:30:00+00:00",
          "2025-03-10T07:45:00+00:00",
          "2025-03-10T08:00:00+00:00",
          "2025-03-10T08:15:00+00:00",
          "2025-03-10T08:30:00+00:00",
          "2025-03-10T08:45:00+00:00",
          "2025-03-10T09:00:00+00:00",
          "2025-03-10T09:15:00+00:00",
          "2025-03-10T09:30:00+00:00",
          "2025-03-10T09:45:00+00:00",
          "2025-03-10T10:00:00+00:00",
          "2025-03-10T10:15:00+00:00",
          "2025-03-10T10:30:00+00:00",
          "2025-03-10T10:45:00+00:00",
          "2025-03-10T11:00:00+00:00",
          "2025-03-10T11:15:00+00:00",
          "2025-03-10T11:30:00+00:00",
          "2025-03-10T11:45:00+00:00",
          "2025-03-10T12:00:00+00:00",
          "2025-03-10T12:15:00+00:00",
          "2025-03-10T12:30:00+00:00",
          "2025-03-10T12:45:00+00:00",
          "2025-03-10T13:00:00+00:00",
          "2025-03-10T13:15:00+00:00",
          "2025-03-10T13:30:00+00:00",
          "2025-03-10T13:45:00+00:00",
          "2025-03-10T14:00:00+00:00",
          "2025-03-10T14:15:00+00:00",
          "2025-03-10T14:30:00+00:00",
          "2025-03-10T14:45:00+00:00",
          "2025-03-10T15:00:00+00:00",
          "2025-03-10T15:15:00+00:00",
          "2025-03-10T15:30:00+00:00",
          "2025-03-10T15:45:00+00:00",
          "2025-03-10T16:00:00+00:00",
          "2025-03-10T16:15:00+00:00",
          "2025-03-10T16:30:00+00:00",
          "2025-03-10T16:45:00+00:00",
          "2025-03-10T17:00:00+00:00",
          "2025-03-10T17:15:00+00:00",
          "2025-03-10T17:30:00+00:00",
          "2025-03-10T17:45:00+00:00",
          "2025-03-10T18:00:00+00:00",
          "2025-03-10T18:15:00+00:00",
          "2025-03-10T18:30:00+00:00",
          "2025-03-10T18:45:00+00:00",
          "2025-03-10T19:00:00+00:00",
          "2025-03-10T19:15:00+00:00",
          "2025-03-10T19:30:00+00:00",
          "2025-03-10T19:45:00+00:00",
          "2025-03-10T20:00:00+00:00",
          "2025-03-10T20:15:00+00:00",
          "2025-03-10T20:30:00+00:00",
          "2025-03-10T20:45:00+00:00",
          "2025-03-10T22:00:00+00:00",
          "2025-03-10T22:15:00+00:00",
          "2025-03-10T22:30:00+00:00",
          "2025-03-10T22:45:00+00:00",
          "2025-03-10T23:00:00+00:00",
          "2025-03-10T23:15:00+00:00",
          "2025-03-10T23:30:00+00:00",
          "2025-03-10T23:45:00+00:00"
         ]
        },
        {
         "marker": {
          "color": "red",
          "size": 10,
          "symbol": "triangle-down"
         },
         "mode": "markers",
         "name": "Sell Signal",
         "type": "scatter",
         "x": [
          "2025-03-10T05:30:00+00:00",
          "2025-03-10T06:45:00+00:00",
          "2025-03-10T07:15:00+00:00",
          "2025-03-10T08:30:00+00:00",
          "2025-03-10T09:45:00+00:00",
          "2025-03-10T13:45:00+00:00",
          "2025-03-10T15:30:00+00:00",
          "2025-03-10T16:30:00+00:00",
          "2025-03-10T17:30:00+00:00",
          "2025-03-10T18:15:00+00:00",
          "2025-03-10T22:45:00+00:00"
         ],
         "y": {
          "bdata": "AAAAAPCo00AAAAAA4KbTQAAAAAAAptNAAAAAAACT00AAAAAAwJXTQAAAAACgbtNAAAAAAMA900AAAAAA0C3TQAAAAACQDtNAAAAAAPAG00AAAAAAQPvSQA==",
          "dtype": "f8"
         }
        },
        {
         "marker": {
          "color": "green",
          "size": 10,
          "symbol": "triangle-up"
         },
         "mode": "markers",
         "name": "Buy Signal",
         "type": "scatter",
         "x": [
          "2025-03-10T01:30:00+00:00",
          "2025-03-10T02:30:00+00:00",
          "2025-03-10T09:15:00+00:00",
          "2025-03-10T16:00:00+00:00",
          "2025-03-10T19:45:00+00:00"
         ],
         "y": {
          "bdata": "AAAAAJCb00AAAAAAoKXTQAAAAADwfNNAAAAAAIAZ00AAAAAAQPDSQA==",
          "dtype": "f8"
         }
        }
       ],
       "layout": {
        "height": 700,
        "template": {
         "data": {
          "bar": [
           {
            "error_x": {
             "color": "#f2f5fa"
            },
            "error_y": {
             "color": "#f2f5fa"
            },
            "marker": {
             "line": {
              "color": "rgb(17,17,17)",
              "width": 0.5
             },
             "pattern": {
              "fillmode": "overlay",
              "size": 10,
              "solidity": 0.2
             }
            },
            "type": "bar"
           }
          ],
          "barpolar": [
           {
            "marker": {
             "line": {
              "color": "rgb(17,17,17)",
              "width": 0.5
             },
             "pattern": {
              "fillmode": "overlay",
              "size": 10,
              "solidity": 0.2
             }
            },
            "type": "barpolar"
           }
          ],
          "carpet": [
           {
            "aaxis": {
             "endlinecolor": "#A2B1C6",
             "gridcolor": "#506784",
             "linecolor": "#506784",
             "minorgridcolor": "#506784",
             "startlinecolor": "#A2B1C6"
            },
            "baxis": {
             "endlinecolor": "#A2B1C6",
             "gridcolor": "#506784",
             "linecolor": "#506784",
             "minorgridcolor": "#506784",
             "startlinecolor": "#A2B1C6"
            },
            "type": "carpet"
           }
          ],
          "choropleth": [
           {
            "colorbar": {
             "outlinewidth": 0,
             "ticks": ""
            },
            "type": "choropleth"
           }
          ],
          "contour": [
           {
            "colorbar": {
             "outlinewidth": 0,
             "ticks": ""
            },
            "colorscale": [
             [
              0,
              "#0d0887"
             ],
             [
              0.1111111111111111,
              "#46039f"
             ],
             [
              0.2222222222222222,
              "#7201a8"
             ],
             [
              0.3333333333333333,
              "#9c179e"
             ],
             [
              0.4444444444444444,
              "#bd3786"
             ],
             [
              0.5555555555555556,
              "#d8576b"
             ],
             [
              0.6666666666666666,
              "#ed7953"
             ],
             [
              0.7777777777777778,
              "#fb9f3a"
             ],
             [
              0.8888888888888888,
              "#fdca26"
             ],
             [
              1,
              "#f0f921"
             ]
            ],
            "type": "contour"
           }
          ],
          "contourcarpet": [
           {
            "colorbar": {
             "outlinewidth": 0,
             "ticks": ""
            },
            "type": "contourcarpet"
           }
          ],
          "heatmap": [
           {
            "colorbar": {
             "outlinewidth": 0,
             "ticks": ""
            },
            "colorscale": [
             [
              0,
              "#0d0887"
             ],
             [
              0.1111111111111111,
              "#46039f"
             ],
             [
              0.2222222222222222,
              "#7201a8"
             ],
             [
              0.3333333333333333,
              "#9c179e"
             ],
             [
              0.4444444444444444,
              "#bd3786"
             ],
             [
              0.5555555555555556,
              "#d8576b"
             ],
             [
              0.6666666666666666,
              "#ed7953"
             ],
             [
              0.7777777777777778,
              "#fb9f3a"
             ],
             [
              0.8888888888888888,
              "#fdca26"
             ],
             [
              1,
              "#f0f921"
             ]
            ],
            "type": "heatmap"
           }
          ],
          "histogram": [
           {
            "marker": {
             "pattern": {
              "fillmode": "overlay",
              "size": 10,
              "solidity": 0.2
             }
            },
            "type": "histogram"
           }
          ],
          "histogram2d": [
           {
            "colorbar": {
             "outlinewidth": 0,
             "ticks": ""
            },
            "colorscale": [
             [
              0,
              "#0d0887"
             ],
             [
              0.1111111111111111,
              "#46039f"
             ],
             [
              0.2222222222222222,
              "#7201a8"
             ],
             [
              0.3333333333333333,
              "#9c179e"
             ],
             [
              0.4444444444444444,
              "#bd3786"
             ],
             [
              0.5555555555555556,
              "#d8576b"
             ],
             [
              0.6666666666666666,
              "#ed7953"
             ],
             [
              0.7777777777777778,
              "#fb9f3a"
             ],
             [
              0.8888888888888888,
              "#fdca26"
             ],
             [
              1,
              "#f0f921"
             ]
            ],
            "type": "histogram2d"
           }
          ],
          "histogram2dcontour": [
           {
            "colorbar": {
             "outlinewidth": 0,
             "ticks": ""
            },
            "colorscale": [
             [
              0,
              "#0d0887"
             ],
             [
              0.1111111111111111,
              "#46039f"
             ],
             [
              0.2222222222222222,
              "#7201a8"
             ],
             [
              0.3333333333333333,
              "#9c179e"
             ],
             [
              0.4444444444444444,
              "#bd3786"
             ],
             [
              0.5555555555555556,
              "#d8576b"
             ],
             [
              0.6666666666666666,
              "#ed7953"
             ],
             [
              0.7777777777777778,
              "#fb9f3a"
             ],
             [
              0.8888888888888888,
              "#fdca26"
             ],
             [
              1,
              "#f0f921"
             ]
            ],
            "type": "histogram2dcontour"
           }
          ],
          "mesh3d": [
           {
            "colorbar": {
             "outlinewidth": 0,
             "ticks": ""
            },
            "type": "mesh3d"
           }
          ],
          "parcoords": [
           {
            "line": {
             "colorbar": {
              "outlinewidth": 0,
              "ticks": ""
             }
            },
            "type": "parcoords"
           }
          ],
          "pie": [
           {
            "automargin": true,
            "type": "pie"
           }
          ],
          "scatter": [
           {
            "marker": {
             "line": {
              "color": "#283442"
             }
            },
            "type": "scatter"
           }
          ],
          "scatter3d": [
           {
            "line": {
             "colorbar": {
              "outlinewidth": 0,
              "ticks": ""
             }
            },
            "marker": {
             "colorbar": {
              "outlinewidth": 0,
              "ticks": ""
             }
            },
            "type": "scatter3d"
           }
          ],
          "scattercarpet": [
           {
            "marker": {
             "colorbar": {
              "outlinewidth": 0,
              "ticks": ""
             }
            },
            "type": "scattercarpet"
           }
          ],
          "scattergeo": [
           {
            "marker": {
             "colorbar": {
              "outlinewidth": 0,
              "ticks": ""
             }
            },
            "type": "scattergeo"
           }
          ],
          "scattergl": [
           {
            "marker": {
             "line": {
              "color": "#283442"
             }
            },
            "type": "scattergl"
           }
          ],
          "scattermap": [
           {
            "marker": {
             "colorbar": {
              "outlinewidth": 0,
              "ticks": ""
             }
            },
            "type": "scattermap"
           }
          ],
          "scattermapbox": [
           {
            "marker": {
             "colorbar": {
              "outlinewidth": 0,
              "ticks": ""
             }
            },
            "type": "scattermapbox"
           }
          ],
          "scatterpolar": [
           {
            "marker": {
             "colorbar": {
              "outlinewidth": 0,
              "ticks": ""
             }
            },
            "type": "scatterpolar"
           }
          ],
          "scatterpolargl": [
           {
            "marker": {
             "colorbar": {
              "outlinewidth": 0,
              "ticks": ""
             }
            },
            "type": "scatterpolargl"
           }
          ],
          "scatterternary": [
           {
            "marker": {
             "colorbar": {
              "outlinewidth": 0,
              "ticks": ""
             }
            },
            "type": "scatterternary"
           }
          ],
          "surface": [
           {
            "colorbar": {
             "outlinewidth": 0,
             "ticks": ""
            },
            "colorscale": [
             [
              0,
              "#0d0887"
             ],
             [
              0.1111111111111111,
              "#46039f"
             ],
             [
              0.2222222222222222,
              "#7201a8"
             ],
             [
              0.3333333333333333,
              "#9c179e"
             ],
             [
              0.4444444444444444,
              "#bd3786"
             ],
             [
              0.5555555555555556,
              "#d8576b"
             ],
             [
              0.6666666666666666,
              "#ed7953"
             ],
             [
              0.7777777777777778,
              "#fb9f3a"
             ],
             [
              0.8888888888888888,
              "#fdca26"
             ],
             [
              1,
              "#f0f921"
             ]
            ],
            "type": "surface"
           }
          ],
          "table": [
           {
            "cells": {
             "fill": {
              "color": "#506784"
             },
             "line": {
              "color": "rgb(17,17,17)"
             }
            },
            "header": {
             "fill": {
              "color": "#2a3f5f"
             },
             "line": {
              "color": "rgb(17,17,17)"
             }
            },
            "type": "table"
           }
          ]
         },
         "layout": {
          "annotationdefaults": {
           "arrowcolor": "#f2f5fa",
           "arrowhead": 0,
           "arrowwidth": 1
          },
          "autotypenumbers": "strict",
          "coloraxis": {
           "colorbar": {
            "outlinewidth": 0,
            "ticks": ""
           }
          },
          "colorscale": {
           "diverging": [
            [
             0,
             "#8e0152"
            ],
            [
             0.1,
             "#c51b7d"
            ],
            [
             0.2,
             "#de77ae"
            ],
            [
             0.3,
             "#f1b6da"
            ],
            [
             0.4,
             "#fde0ef"
            ],
            [
             0.5,
             "#f7f7f7"
            ],
            [
             0.6,
             "#e6f5d0"
            ],
            [
             0.7,
             "#b8e186"
            ],
            [
             0.8,
             "#7fbc41"
            ],
            [
             0.9,
             "#4d9221"
            ],
            [
             1,
             "#276419"
            ]
           ],
           "sequential": [
            [
             0,
             "#0d0887"
            ],
            [
             0.1111111111111111,
             "#46039f"
            ],
            [
             0.2222222222222222,
             "#7201a8"
            ],
            [
             0.3333333333333333,
             "#9c179e"
            ],
            [
             0.4444444444444444,
             "#bd3786"
            ],
            [
             0.5555555555555556,
             "#d8576b"
            ],
            [
             0.6666666666666666,
             "#ed7953"
            ],
            [
             0.7777777777777778,
             "#fb9f3a"
            ],
            [
             0.8888888888888888,
             "#fdca26"
            ],
            [
             1,
             "#f0f921"
            ]
           ],
           "sequentialminus": [
            [
             0,
             "#0d0887"
            ],
            [
             0.1111111111111111,
             "#46039f"
            ],
            [
             0.2222222222222222,
             "#7201a8"
            ],
            [
             0.3333333333333333,
             "#9c179e"
            ],
            [
             0.4444444444444444,
             "#bd3786"
            ],
            [
             0.5555555555555556,
             "#d8576b"
            ],
            [
             0.6666666666666666,
             "#ed7953"
            ],
            [
             0.7777777777777778,
             "#fb9f3a"
            ],
            [
             0.8888888888888888,
             "#fdca26"
            ],
            [
             1,
             "#f0f921"
            ]
           ]
          },
          "colorway": [
           "#636efa",
           "#EF553B",
           "#00cc96",
           "#ab63fa",
           "#FFA15A",
           "#19d3f3",
           "#FF6692",
           "#B6E880",
           "#FF97FF",
           "#FECB52"
          ],
          "font": {
           "color": "#f2f5fa"
          },
          "geo": {
           "bgcolor": "rgb(17,17,17)",
           "lakecolor": "rgb(17,17,17)",
           "landcolor": "rgb(17,17,17)",
           "showlakes": true,
           "showland": true,
           "subunitcolor": "#506784"
          },
          "hoverlabel": {
           "align": "left"
          },
          "hovermode": "closest",
          "mapbox": {
           "style": "dark"
          },
          "paper_bgcolor": "rgb(17,17,17)",
          "plot_bgcolor": "rgb(17,17,17)",
          "polar": {
           "angularaxis": {
            "gridcolor": "#506784",
            "linecolor": "#506784",
            "ticks": ""
           },
           "bgcolor": "rgb(17,17,17)",
           "radialaxis": {
            "gridcolor": "#506784",
            "linecolor": "#506784",
            "ticks": ""
           }
          },
          "scene": {
           "xaxis": {
            "backgroundcolor": "rgb(17,17,17)",
            "gridcolor": "#506784",
            "gridwidth": 2,
            "linecolor": "#506784",
            "showbackground": true,
            "ticks": "",
            "zerolinecolor": "#C8D4E3"
           },
           "yaxis": {
            "backgroundcolor": "rgb(17,17,17)",
            "gridcolor": "#506784",
            "gridwidth": 2,
            "linecolor": "#506784",
            "showbackground": true,
            "ticks": "",
            "zerolinecolor": "#C8D4E3"
           },
           "zaxis": {
            "backgroundcolor": "rgb(17,17,17)",
            "gridcolor": "#506784",
            "gridwidth": 2,
            "linecolor": "#506784",
            "showbackground": true,
            "ticks": "",
            "zerolinecolor": "#C8D4E3"
           }
          },
          "shapedefaults": {
           "line": {
            "color": "#f2f5fa"
           }
          },
          "sliderdefaults": {
           "bgcolor": "#C8D4E3",
           "bordercolor": "rgb(17,17,17)",
           "borderwidth": 1,
           "tickwidth": 0
          },
          "ternary": {
           "aaxis": {
            "gridcolor": "#506784",
            "linecolor": "#506784",
            "ticks": ""
           },
           "baxis": {
            "gridcolor": "#506784",
            "linecolor": "#506784",
            "ticks": ""
           },
           "bgcolor": "rgb(17,17,17)",
           "caxis": {
            "gridcolor": "#506784",
            "linecolor": "#506784",
            "ticks": ""
           }
          },
          "title": {
           "x": 0.05
          },
          "updatemenudefaults": {
           "bgcolor": "#506784",
           "borderwidth": 0
          },
          "xaxis": {
           "automargin": true,
           "gridcolor": "#283442",
           "linecolor": "#506784",
           "ticks": "",
           "title": {
            "standoff": 15
           },
           "zerolinecolor": "#283442",
           "zerolinewidth": 2
          },
          "yaxis": {
           "automargin": true,
           "gridcolor": "#283442",
           "linecolor": "#506784",
           "ticks": "",
           "title": {
            "standoff": 15
           },
           "zerolinecolor": "#283442",
           "zerolinewidth": 2
          }
         }
        },
        "title": {
         "text": "NQ=F Candlestick Chart with Signals (2025-03-10)"
        },
        "xaxis": {
         "rangeslider": {
          "visible": false
         },
         "title": {
          "text": "Time"
         }
        },
        "yaxis": {
         "title": {
          "text": "Price"
         }
        }
       }
      }
     },
     "metadata": {},
     "output_type": "display_data"
    }
   ],
   "source": [
    "plot_candlestick_signals(nqdf, day='2025-03-10')"
   ]
  },
  {
   "cell_type": "markdown",
   "metadata": {},
   "source": [
    "This signal obviously should not be used by itself but it definitely can lead to some profit.."
   ]
  },
  {
   "cell_type": "code",
   "execution_count": null,
   "metadata": {},
   "outputs": [],
   "source": []
  }
 ],
 "metadata": {
  "kernelspec": {
   "display_name": "Python 3",
   "language": "python",
   "name": "python3"
  },
  "language_info": {
   "codemirror_mode": {
    "name": "ipython",
    "version": 3
   },
   "file_extension": ".py",
   "mimetype": "text/x-python",
   "name": "python",
   "nbconvert_exporter": "python",
   "pygments_lexer": "ipython3",
   "version": "3.11.0"
  }
 },
 "nbformat": 4,
 "nbformat_minor": 2
}
