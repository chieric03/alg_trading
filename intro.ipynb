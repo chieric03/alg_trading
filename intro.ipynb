{
 "cells": [
  {
   "cell_type": "markdown",
   "metadata": {},
   "source": [
    "This Notebook contains my process through creating my first algorithmic trading bot, I guess its my \"Hello World\" for this project. So during this notebook I probably have no clue what I'm doing, but I hope theres clear progress from this notebook to future entries in the project. My favorite ticker to look at is the NQ future, so thats what I'll do the project on."
   ]
  },
  {
   "cell_type": "code",
   "execution_count": 98,
   "metadata": {},
   "outputs": [],
   "source": [
    "import numpy as np\n",
    "import pandas as pd\n",
    "import matplotlib.pyplot as plt\n",
    "import yfinance as yf\n",
    "import plotly.graph_objects as go\n",
    "from plotly.subplots import make_subplots\n",
    "import pytz\n",
    "from backtesting import Backtest, Strategy"
   ]
  },
  {
   "cell_type": "markdown",
   "metadata": {},
   "source": [
    "### Importing Data\n",
    "Getting data from yahoo finance data api"
   ]
  },
  {
   "cell_type": "code",
   "execution_count": 99,
   "metadata": {},
   "outputs": [
    {
     "name": "stderr",
     "output_type": "stream",
     "text": [
      "[*********************100%***********************]  1 of 1 completed\n"
     ]
    }
   ],
   "source": [
    "nqdf = yf.download('NQ=F', start='2025-02-4', end='2025-04-1', interval='15m')\n",
    "nqdf.columns = nqdf.columns.get_level_values(0)"
   ]
  },
  {
   "cell_type": "code",
   "execution_count": 100,
   "metadata": {},
   "outputs": [
    {
     "data": {
      "text/html": [
       "<div>\n",
       "<style scoped>\n",
       "    .dataframe tbody tr th:only-of-type {\n",
       "        vertical-align: middle;\n",
       "    }\n",
       "\n",
       "    .dataframe tbody tr th {\n",
       "        vertical-align: top;\n",
       "    }\n",
       "\n",
       "    .dataframe thead th {\n",
       "        text-align: right;\n",
       "    }\n",
       "</style>\n",
       "<table border=\"1\" class=\"dataframe\">\n",
       "  <thead>\n",
       "    <tr style=\"text-align: right;\">\n",
       "      <th>Price</th>\n",
       "      <th>Close</th>\n",
       "      <th>High</th>\n",
       "      <th>Low</th>\n",
       "      <th>Open</th>\n",
       "      <th>Volume</th>\n",
       "    </tr>\n",
       "    <tr>\n",
       "      <th>Datetime</th>\n",
       "      <th></th>\n",
       "      <th></th>\n",
       "      <th></th>\n",
       "      <th></th>\n",
       "      <th></th>\n",
       "    </tr>\n",
       "  </thead>\n",
       "  <tbody>\n",
       "    <tr>\n",
       "      <th>2025-02-04 05:00:00+00:00</th>\n",
       "      <td>21306.00</td>\n",
       "      <td>21348.50</td>\n",
       "      <td>21289.00</td>\n",
       "      <td>21301.50</td>\n",
       "      <td>1470</td>\n",
       "    </tr>\n",
       "    <tr>\n",
       "      <th>2025-02-04 05:15:00+00:00</th>\n",
       "      <td>21334.50</td>\n",
       "      <td>21344.25</td>\n",
       "      <td>21242.50</td>\n",
       "      <td>21302.50</td>\n",
       "      <td>4369</td>\n",
       "    </tr>\n",
       "    <tr>\n",
       "      <th>2025-02-04 05:30:00+00:00</th>\n",
       "      <td>21352.50</td>\n",
       "      <td>21361.50</td>\n",
       "      <td>21317.75</td>\n",
       "      <td>21333.50</td>\n",
       "      <td>2149</td>\n",
       "    </tr>\n",
       "    <tr>\n",
       "      <th>2025-02-04 05:45:00+00:00</th>\n",
       "      <td>21358.25</td>\n",
       "      <td>21410.00</td>\n",
       "      <td>21344.00</td>\n",
       "      <td>21354.25</td>\n",
       "      <td>2405</td>\n",
       "    </tr>\n",
       "    <tr>\n",
       "      <th>2025-02-04 06:00:00+00:00</th>\n",
       "      <td>21359.75</td>\n",
       "      <td>21374.75</td>\n",
       "      <td>21337.50</td>\n",
       "      <td>21359.25</td>\n",
       "      <td>1395</td>\n",
       "    </tr>\n",
       "    <tr>\n",
       "      <th>...</th>\n",
       "      <td>...</td>\n",
       "      <td>...</td>\n",
       "      <td>...</td>\n",
       "      <td>...</td>\n",
       "      <td>...</td>\n",
       "    </tr>\n",
       "    <tr>\n",
       "      <th>2025-04-01 02:45:00+00:00</th>\n",
       "      <td>19380.00</td>\n",
       "      <td>19381.75</td>\n",
       "      <td>19364.75</td>\n",
       "      <td>19366.25</td>\n",
       "      <td>939</td>\n",
       "    </tr>\n",
       "    <tr>\n",
       "      <th>2025-04-01 03:00:00+00:00</th>\n",
       "      <td>19378.25</td>\n",
       "      <td>19386.75</td>\n",
       "      <td>19373.50</td>\n",
       "      <td>19380.25</td>\n",
       "      <td>778</td>\n",
       "    </tr>\n",
       "    <tr>\n",
       "      <th>2025-04-01 03:15:00+00:00</th>\n",
       "      <td>19371.50</td>\n",
       "      <td>19379.25</td>\n",
       "      <td>19367.50</td>\n",
       "      <td>19379.25</td>\n",
       "      <td>665</td>\n",
       "    </tr>\n",
       "    <tr>\n",
       "      <th>2025-04-01 03:30:00+00:00</th>\n",
       "      <td>19360.25</td>\n",
       "      <td>19374.25</td>\n",
       "      <td>19354.50</td>\n",
       "      <td>19372.50</td>\n",
       "      <td>1168</td>\n",
       "    </tr>\n",
       "    <tr>\n",
       "      <th>2025-04-01 03:45:00+00:00</th>\n",
       "      <td>19365.00</td>\n",
       "      <td>19369.00</td>\n",
       "      <td>19359.50</td>\n",
       "      <td>19359.50</td>\n",
       "      <td>472</td>\n",
       "    </tr>\n",
       "  </tbody>\n",
       "</table>\n",
       "<p>3559 rows × 5 columns</p>\n",
       "</div>"
      ],
      "text/plain": [
       "Price                         Close      High       Low      Open  Volume\n",
       "Datetime                                                                 \n",
       "2025-02-04 05:00:00+00:00  21306.00  21348.50  21289.00  21301.50    1470\n",
       "2025-02-04 05:15:00+00:00  21334.50  21344.25  21242.50  21302.50    4369\n",
       "2025-02-04 05:30:00+00:00  21352.50  21361.50  21317.75  21333.50    2149\n",
       "2025-02-04 05:45:00+00:00  21358.25  21410.00  21344.00  21354.25    2405\n",
       "2025-02-04 06:00:00+00:00  21359.75  21374.75  21337.50  21359.25    1395\n",
       "...                             ...       ...       ...       ...     ...\n",
       "2025-04-01 02:45:00+00:00  19380.00  19381.75  19364.75  19366.25     939\n",
       "2025-04-01 03:00:00+00:00  19378.25  19386.75  19373.50  19380.25     778\n",
       "2025-04-01 03:15:00+00:00  19371.50  19379.25  19367.50  19379.25     665\n",
       "2025-04-01 03:30:00+00:00  19360.25  19374.25  19354.50  19372.50    1168\n",
       "2025-04-01 03:45:00+00:00  19365.00  19369.00  19359.50  19359.50     472\n",
       "\n",
       "[3559 rows x 5 columns]"
      ]
     },
     "execution_count": 100,
     "metadata": {},
     "output_type": "execute_result"
    }
   ],
   "source": [
    "nqdf"
   ]
  },
  {
   "cell_type": "markdown",
   "metadata": {},
   "source": [
    "Signal: Engulfing Candle\n",
    "This is probably the most basic signal there is. Its simply when the following candle opens and closes below the previous (for a bearish indicator, opposite for bullish)  \n",
    "<img src=\"pictures/engulfingpic.jpg\" alt=\"description\" style=\"display:block;margin:auto\" width=\"300\" height=\"200\"/>\n"
   ]
  },
  {
   "cell_type": "code",
   "execution_count": 101,
   "metadata": {},
   "outputs": [],
   "source": [
    "def engulf_signal(df):\n",
    "    \"\"\"\n",
    "    Generate buy/sell signals based on the closing prices of the candles. If the 2nd candle in a sequence closes below or above\n",
    "    the opening price of the candle before, the signal will occur.\n",
    "    For a sell signal, the closing price of the 2nd candle must be below the opening price of the previous candle and the function will return 1.\n",
    "    For a buy signal, the closing price of the 2nd candle must be above the opening price of the previous candle and the function will return 2.\n",
    "    No signal returns 0\n",
    "    \"\"\"\n",
    "    open_ = float(df.Open.iloc[-1])\n",
    "    close_ = float(df.Close.iloc[-1])\n",
    "    prev_open = float(df.Open.iloc[-2])\n",
    "    prev_close = float(df.Close.iloc[-2])\n",
    "\n",
    "    #Sell signal\n",
    "    if (open_>close_ and\n",
    "        prev_open<prev_close and\n",
    "        close_<prev_open and\n",
    "        open_>=prev_close):\n",
    "        return 1\n",
    "\n",
    "    #Buy signal\n",
    "    elif (open_<close_ and\n",
    "          prev_open>prev_close and\n",
    "          close_>prev_open and\n",
    "          open_<=prev_close):\n",
    "        return 2\n",
    "    \n",
    "    #No signal\n",
    "    else:\n",
    "        return 0"
   ]
  },
  {
   "cell_type": "code",
   "execution_count": 102,
   "metadata": {},
   "outputs": [],
   "source": [
    "#Checking through our df for signals\n",
    "signal = []\n",
    "signal.append(0)\n",
    "for i in range(1, len(nqdf)):\n",
    "    data = nqdf.iloc[i-1:i+1]\n",
    "    signal.append(engulf_signal(data))\n",
    "nqdf['Signal'] = signal"
   ]
  },
  {
   "cell_type": "code",
   "execution_count": 103,
   "metadata": {},
   "outputs": [
    {
     "data": {
      "text/plain": [
       "Signal\n",
       "0    3078\n",
       "1     252\n",
       "2     229\n",
       "Name: count, dtype: int64"
      ]
     },
     "execution_count": 103,
     "metadata": {},
     "output_type": "execute_result"
    }
   ],
   "source": [
    "nqdf.Signal.value_counts()"
   ]
  },
  {
   "cell_type": "code",
   "execution_count": 104,
   "metadata": {},
   "outputs": [
    {
     "data": {
      "text/plain": [
       "np.float64(21306.0)"
      ]
     },
     "execution_count": 104,
     "metadata": {},
     "output_type": "execute_result"
    }
   ],
   "source": [
    "nqdf.Close.iloc[0]"
   ]
  },
  {
   "cell_type": "markdown",
   "metadata": {},
   "source": [
    "Plotting the signals on a chart"
   ]
  },
  {
   "cell_type": "code",
   "execution_count": 105,
   "metadata": {},
   "outputs": [],
   "source": [
    "def plot_candlestick_signals(df, day=None, start_time=None, end_time=None):\n",
    "    \"\"\"\n",
    "    Plot candlestick chart with engulfing buy/sell signals for a specific day and optional time range.\n",
    "    \n",
    "    Parameters:\n",
    "        df (DataFrame): OHLC dataframe with a datetime index and a 'Signal' column.\n",
    "        day (str or datetime.date, optional): The date to plot (e.g., '2025-03-10').\n",
    "        start_time (str, optional): Start time (e.g., '09:30') in HH:MM format.\n",
    "        end_time (str, optional): End time (e.g., '16:00') in HH:MM format.\n",
    "    \"\"\"\n",
    "    df = df.copy()\n",
    "    df.index = pd.to_datetime(df.index)\n",
    "    df = df.dropna(subset=['Open', 'High', 'Low', 'Close'])\n",
    "\n",
    "    # Filter by day\n",
    "    if day is not None:\n",
    "        day = pd.to_datetime(day).date()\n",
    "        df = df[df.index.date == day]\n",
    "\n",
    "    # Filter by time range\n",
    "    if start_time or end_time:\n",
    "        # Convert to datetime.time objects\n",
    "        if start_time:\n",
    "            start_time = pd.to_datetime(start_time).time()\n",
    "        if end_time:\n",
    "            end_time = pd.to_datetime(end_time).time()\n",
    "\n",
    "        df = df[(df.index.time >= (start_time or df.index.time.min())) &\n",
    "                (df.index.time <= (end_time or df.index.time.max()))]\n",
    "\n",
    "    if df.empty:\n",
    "        print(\"No data for the specified day/time range.\")\n",
    "        return\n",
    "\n",
    "    # Plot\n",
    "    fig = go.Figure()\n",
    "\n",
    "    fig.add_trace(go.Candlestick(\n",
    "        x=df.index,\n",
    "        open=df['Open'],\n",
    "        high=df['High'],\n",
    "        low=df['Low'],\n",
    "        close=df['Close'],\n",
    "        name='Candles'\n",
    "    ))\n",
    "\n",
    "    # Sell signals\n",
    "    sell_signals = df[df['Signal'] == 1]\n",
    "    fig.add_trace(go.Scatter(\n",
    "        x=sell_signals.index,\n",
    "        y=sell_signals['High'],\n",
    "        mode='markers',\n",
    "        marker=dict(color='red', symbol='triangle-down', size=10),\n",
    "        name='Sell Signal'\n",
    "    ))\n",
    "\n",
    "    # Buy signals\n",
    "    buy_signals = df[df['Signal'] == 2]\n",
    "    fig.add_trace(go.Scatter(\n",
    "        x=buy_signals.index,\n",
    "        y=buy_signals['Low'],\n",
    "        mode='markers',\n",
    "        marker=dict(color='green', symbol='triangle-up', size=10),\n",
    "        name='Buy Signal'\n",
    "    ))\n",
    "\n",
    "    fig.update_layout(\n",
    "        title=f'NQ=F Candlestick Chart with Signals ({day})',\n",
    "        xaxis_title='Time',\n",
    "        yaxis_title='Price',\n",
    "        xaxis_rangeslider_visible=False,\n",
    "        template='plotly_dark',\n",
    "        height=700\n",
    "    )\n",
    "\n",
    "    fig.show()\n"
   ]
  },
  {
   "cell_type": "code",
   "execution_count": 106,
   "metadata": {},
   "outputs": [
    {
     "data": {
      "application/vnd.plotly.v1+json": {
       "config": {
        "plotlyServerURL": "https://plot.ly"
       },
       "data": [
        {
         "close": {
          "bdata": "AAAAAPCS00AAAAAAMI3TQAAAAACQktNAAAAAAICY00AAAAAAsJzTQAAAAADwm9NAAAAAAHCi00AAAAAAcKnTQAAAAABwqNNAAAAAALCm00AAAAAAAKvTQAAAAAAwqtNAAAAAAACm00AAAAAAAKTTQAAAAACQqtNAAAAAAOCm00AAAAAAYKvTQAAAAACwrNNAAAAAABCl00AAAAAAkJ/TQAAAAACgpNNAAAAAAGCn00AAAAAAgKHTQAAAAACwntNAAAAAAOCj00AAAAAA0KPTQAAAAABgpNNAAAAAALCj00AAAAAAIKXTQAAAAADwn9NAAAAAAGCm00AAAAAA0J7TQAAAAACAkdNAAAAAAPCS00AAAAAAUITTQAAAAAAAftNAAAAAAFB900AAAAAA8IrTQAAAAADAkNNAAAAAAICI00AAAAAAQIbTQAAAAAAggtNAAAAAAMB900AAAAAAgIDTQAAAAAAAhdNAAAAAAKCK00AAAAAAkIDTQAAAAADge9NAAAAAAGBw00AAAAAAgGzTQAAAAAAgbdNAAAAAAHBy00AAAAAA4HDTQAAAAACAatNAAAAAAHBq00AAAAAAkFPTQAAAAACAQtNAAAAAAAA100AAAAAAACnTQAAAAACQGNNAAAAAAOAl00AAAAAAICzTQAAAAAAAJdNAAAAAANAg00AAAAAAECbTQAAAAADwHtNAAAAAABAU00AAAAAAsBXTQAAAAADwCtNAAAAAAOAM00AAAAAAUP/SQAAAAABw/NJAAAAAACD/0kAAAAAA0PnSQAAAAABw9tJAAAAAALDi0kAAAAAAIOTSQAAAAACA+tJAAAAAACDx0kAAAAAAEALTQAAAAACQAtNAAAAAAOAF00AAAAAAQATTQAAAAAAABNNAAAAAABDx0kAAAAAAkPbSQAAAAACQ+dJAAAAAACDs0kAAAAAA4OTSQAAAAAAQ3dJAAAAAAIDZ0kAAAAAAENrSQA==",
          "dtype": "f8"
         },
         "high": {
          "bdata": "AAAAAPCW00AAAAAA0JLTQAAAAACAk9NAAAAAAOCY00AAAAAAEKDTQAAAAACAntNAAAAAAHCn00AAAAAAIKrTQAAAAABQq9NAAAAAAJCp00AAAAAAAK/TQAAAAAAArdNAAAAAAPCt00AAAAAA8KfTQAAAAADgqtNAAAAAAJCs00AAAAAAEKzTQAAAAAAgrtNAAAAAAMCs00AAAAAAUKfTQAAAAABAptNAAAAAADCp00AAAAAA8KjTQAAAAADAo9NAAAAAAFCl00AAAAAAEKfTQAAAAACAptNAAAAAAOCm00AAAAAAMKvTQAAAAAAAptNAAAAAAMCn00AAAAAAEKbTQAAAAABApNNAAAAAANCV00AAAAAAAJPTQAAAAACgiNNAAAAAANCF00AAAAAAkI7TQAAAAADgktNAAAAAAMCV00AAAAAAII7TQAAAAACAh9NAAAAAAHCH00AAAAAAwIPTQAAAAABwh9NAAAAAABCN00AAAAAAgIzTQAAAAAAwhNNAAAAAAPB800AAAAAAMHfTQAAAAABwbtNAAAAAAIBz00AAAAAAgHnTQAAAAADgctNAAAAAACBw00AAAAAAoG7TQAAAAADAU9NAAAAAAFBJ00AAAAAAcDzTQAAAAADAL9NAAAAAAKAo00AAAAAAIC3TQAAAAADAPdNAAAAAAFAz00AAAAAAACnTQAAAAABQH9NAAAAAANAt00AAAAAA8B/TQAAAAACwF9NAAAAAAEAY00AAAAAAkA7TQAAAAADABtNAAAAAAAAL00AAAAAA8AbTQAAAAAAAA9NAAAAAAND40kAAAAAAgOnSQAAAAAAAC9NAAAAAANAX00AAAAAAcAjTQAAAAACgBdNAAAAAADAI00AAAAAA4AbTQAAAAACQB9NAAAAAAGAB00AAAAAAcPnSQAAAAAAg/dJAAAAAAED70kAAAAAAQPLSQAAAAAAw5tJAAAAAAJDe0kAAAAAAgODSQA==",
          "dtype": "f8"
         },
         "low": {
          "bdata": "AAAAAFCM00AAAAAAwInTQAAAAADgi9NAAAAAACCR00AAAAAAIJfTQAAAAACgmtNAAAAAAJCb00AAAAAAcKDTQAAAAACgptNAAAAAAFCl00AAAAAAoKXTQAAAAADQqNNAAAAAAMCj00AAAAAAgKHTQAAAAACAo9NAAAAAAFCm00AAAAAAUKbTQAAAAABwqtNAAAAAAECk00AAAAAA0J7TQAAAAACgn9NAAAAAADCk00AAAAAAUKHTQAAAAACAm9NAAAAAAPCe00AAAAAAwKLTQAAAAABQodNAAAAAAFCi00AAAAAAwKLTQAAAAACgndNAAAAAAFCd00AAAAAAUJ7TQAAAAAAAkdNAAAAAAICM00AAAAAAgILTQAAAAABAe9NAAAAAANB700AAAAAA8HzTQAAAAADwitNAAAAAAFCD00AAAAAAgIPTQAAAAADggNNAAAAAAAB800AAAAAAAHnTQAAAAACAedNAAAAAALCA00AAAAAAgH3TQAAAAAAgdNNAAAAAAGBr00AAAAAAwGvTQAAAAABAZdNAAAAAAJBq00AAAAAAwGjTQAAAAABwaNNAAAAAAOBS00AAAAAAEEjTQAAAAACwONNAAAAAAHAz00AAAAAAcCjTQAAAAABAENNAAAAAAIAX00AAAAAAIBrTQAAAAADwINNAAAAAAJAd00AAAAAAgBnTQAAAAACwENNAAAAAANAS00AAAAAAQBPTQAAAAADA/9JAAAAAABAJ00AAAAAAgPvSQAAAAACA99JAAAAAADDx0kAAAAAAcPXSQAAAAADQ79JAAAAAAIDg0kAAAAAAENLSQAAAAABg4tJAAAAAAGDw0kAAAAAAQPDSQAAAAAAQ9tJAAAAAAIAB00AAAAAAgADTQAAAAAAwA9NAAAAAAKDq0kAAAAAAQO/SQAAAAACw89JAAAAAACDs0kAAAAAAUOPSQAAAAACQ1dJAAAAAAFDH0kAAAAAAYNfSQA==",
          "dtype": "f8"
         },
         "name": "Candles",
         "open": {
          "bdata": "AAAAAFCQ00AAAAAAwJLTQAAAAADAjdNAAAAAADCS00AAAAAAwJjTQAAAAAAAndNAAAAAAJCb00AAAAAAkKLTQAAAAABgqdNAAAAAAPCn00AAAAAAkKbTQAAAAABwqtNAAAAAABCq00AAAAAAsKbTQAAAAADQpNNAAAAAAICq00AAAAAAoKfTQAAAAADAq9NAAAAAAICs00AAAAAAAKXTQAAAAACgn9NAAAAAALCk00AAAAAAYKfTQAAAAACAodNAAAAAAPCe00AAAAAAoKPTQAAAAADwo9NAAAAAAOCk00AAAAAAAKTTQAAAAAAgpdNAAAAAABCg00AAAAAAEKbTQAAAAACAn9NAAAAAABCS00AAAAAAAJPTQAAAAABQhNNAAAAAAIB900AAAAAAEH3TQAAAAAAAi9NAAAAAAMCQ00AAAAAAkInTQAAAAABghtNAAAAAAHCB00AAAAAAQH7TQAAAAACwgNNAAAAAAICE00AAAAAAUIrTQAAAAABQgdNAAAAAAPB700AAAAAAAHDTQAAAAABAbNNAAAAAADBt00AAAAAAgHLTQAAAAADQcNNAAAAAAEBq00AAAAAA0GrTQAAAAADAU9NAAAAAAABC00AAAAAAIDXTQAAAAAAAKdNAAAAAAKAY00AAAAAA8CXTQAAAAABgLNNAAAAAAFAl00AAAAAAoCDTQAAAAAAgGNNAAAAAADAf00AAAAAA0BPTQAAAAACgFdNAAAAAANAK00AAAAAA8AzTQAAAAABQ/9JAAAAAAHD80kAAAAAAYP/SQAAAAADw+dJAAAAAAID20kAAAAAAoOLSQAAAAACA5NJAAAAAAHD60kAAAAAAkPDSQAAAAADwAdNAAAAAACAC00AAAAAAIAbTQAAAAABwBNNAAAAAAAD80kAAAAAAMPHSQAAAAAAA99JAAAAAAOD50kAAAAAAYOzSQAAAAACA5NJAAAAAAEDd0kAAAAAAkNnSQA==",
          "dtype": "f8"
         },
         "type": "candlestick",
         "x": [
          "2025-03-10T00:00:00+00:00",
          "2025-03-10T00:15:00+00:00",
          "2025-03-10T00:30:00+00:00",
          "2025-03-10T00:45:00+00:00",
          "2025-03-10T01:00:00+00:00",
          "2025-03-10T01:15:00+00:00",
          "2025-03-10T01:30:00+00:00",
          "2025-03-10T01:45:00+00:00",
          "2025-03-10T02:00:00+00:00",
          "2025-03-10T02:15:00+00:00",
          "2025-03-10T02:30:00+00:00",
          "2025-03-10T02:45:00+00:00",
          "2025-03-10T03:00:00+00:00",
          "2025-03-10T03:15:00+00:00",
          "2025-03-10T03:30:00+00:00",
          "2025-03-10T03:45:00+00:00",
          "2025-03-10T04:00:00+00:00",
          "2025-03-10T04:15:00+00:00",
          "2025-03-10T04:30:00+00:00",
          "2025-03-10T04:45:00+00:00",
          "2025-03-10T05:00:00+00:00",
          "2025-03-10T05:15:00+00:00",
          "2025-03-10T05:30:00+00:00",
          "2025-03-10T05:45:00+00:00",
          "2025-03-10T06:00:00+00:00",
          "2025-03-10T06:15:00+00:00",
          "2025-03-10T06:30:00+00:00",
          "2025-03-10T06:45:00+00:00",
          "2025-03-10T07:00:00+00:00",
          "2025-03-10T07:15:00+00:00",
          "2025-03-10T07:30:00+00:00",
          "2025-03-10T07:45:00+00:00",
          "2025-03-10T08:00:00+00:00",
          "2025-03-10T08:15:00+00:00",
          "2025-03-10T08:30:00+00:00",
          "2025-03-10T08:45:00+00:00",
          "2025-03-10T09:00:00+00:00",
          "2025-03-10T09:15:00+00:00",
          "2025-03-10T09:30:00+00:00",
          "2025-03-10T09:45:00+00:00",
          "2025-03-10T10:00:00+00:00",
          "2025-03-10T10:15:00+00:00",
          "2025-03-10T10:30:00+00:00",
          "2025-03-10T10:45:00+00:00",
          "2025-03-10T11:00:00+00:00",
          "2025-03-10T11:15:00+00:00",
          "2025-03-10T11:30:00+00:00",
          "2025-03-10T11:45:00+00:00",
          "2025-03-10T12:00:00+00:00",
          "2025-03-10T12:15:00+00:00",
          "2025-03-10T12:30:00+00:00",
          "2025-03-10T12:45:00+00:00",
          "2025-03-10T13:00:00+00:00",
          "2025-03-10T13:15:00+00:00",
          "2025-03-10T13:30:00+00:00",
          "2025-03-10T13:45:00+00:00",
          "2025-03-10T14:00:00+00:00",
          "2025-03-10T14:15:00+00:00",
          "2025-03-10T14:30:00+00:00",
          "2025-03-10T14:45:00+00:00",
          "2025-03-10T15:00:00+00:00",
          "2025-03-10T15:15:00+00:00",
          "2025-03-10T15:30:00+00:00",
          "2025-03-10T15:45:00+00:00",
          "2025-03-10T16:00:00+00:00",
          "2025-03-10T16:15:00+00:00",
          "2025-03-10T16:30:00+00:00",
          "2025-03-10T16:45:00+00:00",
          "2025-03-10T17:00:00+00:00",
          "2025-03-10T17:15:00+00:00",
          "2025-03-10T17:30:00+00:00",
          "2025-03-10T17:45:00+00:00",
          "2025-03-10T18:00:00+00:00",
          "2025-03-10T18:15:00+00:00",
          "2025-03-10T18:30:00+00:00",
          "2025-03-10T18:45:00+00:00",
          "2025-03-10T19:00:00+00:00",
          "2025-03-10T19:15:00+00:00",
          "2025-03-10T19:30:00+00:00",
          "2025-03-10T19:45:00+00:00",
          "2025-03-10T20:00:00+00:00",
          "2025-03-10T20:15:00+00:00",
          "2025-03-10T20:30:00+00:00",
          "2025-03-10T20:45:00+00:00",
          "2025-03-10T22:00:00+00:00",
          "2025-03-10T22:15:00+00:00",
          "2025-03-10T22:30:00+00:00",
          "2025-03-10T22:45:00+00:00",
          "2025-03-10T23:00:00+00:00",
          "2025-03-10T23:15:00+00:00",
          "2025-03-10T23:30:00+00:00",
          "2025-03-10T23:45:00+00:00"
         ]
        },
        {
         "marker": {
          "color": "red",
          "size": 10,
          "symbol": "triangle-down"
         },
         "mode": "markers",
         "name": "Sell Signal",
         "type": "scatter",
         "x": [
          "2025-03-10T05:30:00+00:00",
          "2025-03-10T06:45:00+00:00",
          "2025-03-10T07:15:00+00:00",
          "2025-03-10T08:30:00+00:00",
          "2025-03-10T09:45:00+00:00",
          "2025-03-10T13:45:00+00:00",
          "2025-03-10T15:30:00+00:00",
          "2025-03-10T16:30:00+00:00",
          "2025-03-10T17:30:00+00:00",
          "2025-03-10T18:15:00+00:00",
          "2025-03-10T22:45:00+00:00"
         ],
         "y": {
          "bdata": "AAAAAPCo00AAAAAA4KbTQAAAAAAAptNAAAAAAACT00AAAAAAwJXTQAAAAACgbtNAAAAAAMA900AAAAAA0C3TQAAAAACQDtNAAAAAAPAG00AAAAAAQPvSQA==",
          "dtype": "f8"
         }
        },
        {
         "marker": {
          "color": "green",
          "size": 10,
          "symbol": "triangle-up"
         },
         "mode": "markers",
         "name": "Buy Signal",
         "type": "scatter",
         "x": [
          "2025-03-10T01:30:00+00:00",
          "2025-03-10T02:30:00+00:00",
          "2025-03-10T09:15:00+00:00",
          "2025-03-10T16:00:00+00:00",
          "2025-03-10T19:45:00+00:00"
         ],
         "y": {
          "bdata": "AAAAAJCb00AAAAAAoKXTQAAAAADwfNNAAAAAAIAZ00AAAAAAQPDSQA==",
          "dtype": "f8"
         }
        }
       ],
       "layout": {
        "height": 700,
        "template": {
         "data": {
          "bar": [
           {
            "error_x": {
             "color": "#f2f5fa"
            },
            "error_y": {
             "color": "#f2f5fa"
            },
            "marker": {
             "line": {
              "color": "rgb(17,17,17)",
              "width": 0.5
             },
             "pattern": {
              "fillmode": "overlay",
              "size": 10,
              "solidity": 0.2
             }
            },
            "type": "bar"
           }
          ],
          "barpolar": [
           {
            "marker": {
             "line": {
              "color": "rgb(17,17,17)",
              "width": 0.5
             },
             "pattern": {
              "fillmode": "overlay",
              "size": 10,
              "solidity": 0.2
             }
            },
            "type": "barpolar"
           }
          ],
          "carpet": [
           {
            "aaxis": {
             "endlinecolor": "#A2B1C6",
             "gridcolor": "#506784",
             "linecolor": "#506784",
             "minorgridcolor": "#506784",
             "startlinecolor": "#A2B1C6"
            },
            "baxis": {
             "endlinecolor": "#A2B1C6",
             "gridcolor": "#506784",
             "linecolor": "#506784",
             "minorgridcolor": "#506784",
             "startlinecolor": "#A2B1C6"
            },
            "type": "carpet"
           }
          ],
          "choropleth": [
           {
            "colorbar": {
             "outlinewidth": 0,
             "ticks": ""
            },
            "type": "choropleth"
           }
          ],
          "contour": [
           {
            "colorbar": {
             "outlinewidth": 0,
             "ticks": ""
            },
            "colorscale": [
             [
              0,
              "#0d0887"
             ],
             [
              0.1111111111111111,
              "#46039f"
             ],
             [
              0.2222222222222222,
              "#7201a8"
             ],
             [
              0.3333333333333333,
              "#9c179e"
             ],
             [
              0.4444444444444444,
              "#bd3786"
             ],
             [
              0.5555555555555556,
              "#d8576b"
             ],
             [
              0.6666666666666666,
              "#ed7953"
             ],
             [
              0.7777777777777778,
              "#fb9f3a"
             ],
             [
              0.8888888888888888,
              "#fdca26"
             ],
             [
              1,
              "#f0f921"
             ]
            ],
            "type": "contour"
           }
          ],
          "contourcarpet": [
           {
            "colorbar": {
             "outlinewidth": 0,
             "ticks": ""
            },
            "type": "contourcarpet"
           }
          ],
          "heatmap": [
           {
            "colorbar": {
             "outlinewidth": 0,
             "ticks": ""
            },
            "colorscale": [
             [
              0,
              "#0d0887"
             ],
             [
              0.1111111111111111,
              "#46039f"
             ],
             [
              0.2222222222222222,
              "#7201a8"
             ],
             [
              0.3333333333333333,
              "#9c179e"
             ],
             [
              0.4444444444444444,
              "#bd3786"
             ],
             [
              0.5555555555555556,
              "#d8576b"
             ],
             [
              0.6666666666666666,
              "#ed7953"
             ],
             [
              0.7777777777777778,
              "#fb9f3a"
             ],
             [
              0.8888888888888888,
              "#fdca26"
             ],
             [
              1,
              "#f0f921"
             ]
            ],
            "type": "heatmap"
           }
          ],
          "histogram": [
           {
            "marker": {
             "pattern": {
              "fillmode": "overlay",
              "size": 10,
              "solidity": 0.2
             }
            },
            "type": "histogram"
           }
          ],
          "histogram2d": [
           {
            "colorbar": {
             "outlinewidth": 0,
             "ticks": ""
            },
            "colorscale": [
             [
              0,
              "#0d0887"
             ],
             [
              0.1111111111111111,
              "#46039f"
             ],
             [
              0.2222222222222222,
              "#7201a8"
             ],
             [
              0.3333333333333333,
              "#9c179e"
             ],
             [
              0.4444444444444444,
              "#bd3786"
             ],
             [
              0.5555555555555556,
              "#d8576b"
             ],
             [
              0.6666666666666666,
              "#ed7953"
             ],
             [
              0.7777777777777778,
              "#fb9f3a"
             ],
             [
              0.8888888888888888,
              "#fdca26"
             ],
             [
              1,
              "#f0f921"
             ]
            ],
            "type": "histogram2d"
           }
          ],
          "histogram2dcontour": [
           {
            "colorbar": {
             "outlinewidth": 0,
             "ticks": ""
            },
            "colorscale": [
             [
              0,
              "#0d0887"
             ],
             [
              0.1111111111111111,
              "#46039f"
             ],
             [
              0.2222222222222222,
              "#7201a8"
             ],
             [
              0.3333333333333333,
              "#9c179e"
             ],
             [
              0.4444444444444444,
              "#bd3786"
             ],
             [
              0.5555555555555556,
              "#d8576b"
             ],
             [
              0.6666666666666666,
              "#ed7953"
             ],
             [
              0.7777777777777778,
              "#fb9f3a"
             ],
             [
              0.8888888888888888,
              "#fdca26"
             ],
             [
              1,
              "#f0f921"
             ]
            ],
            "type": "histogram2dcontour"
           }
          ],
          "mesh3d": [
           {
            "colorbar": {
             "outlinewidth": 0,
             "ticks": ""
            },
            "type": "mesh3d"
           }
          ],
          "parcoords": [
           {
            "line": {
             "colorbar": {
              "outlinewidth": 0,
              "ticks": ""
             }
            },
            "type": "parcoords"
           }
          ],
          "pie": [
           {
            "automargin": true,
            "type": "pie"
           }
          ],
          "scatter": [
           {
            "marker": {
             "line": {
              "color": "#283442"
             }
            },
            "type": "scatter"
           }
          ],
          "scatter3d": [
           {
            "line": {
             "colorbar": {
              "outlinewidth": 0,
              "ticks": ""
             }
            },
            "marker": {
             "colorbar": {
              "outlinewidth": 0,
              "ticks": ""
             }
            },
            "type": "scatter3d"
           }
          ],
          "scattercarpet": [
           {
            "marker": {
             "colorbar": {
              "outlinewidth": 0,
              "ticks": ""
             }
            },
            "type": "scattercarpet"
           }
          ],
          "scattergeo": [
           {
            "marker": {
             "colorbar": {
              "outlinewidth": 0,
              "ticks": ""
             }
            },
            "type": "scattergeo"
           }
          ],
          "scattergl": [
           {
            "marker": {
             "line": {
              "color": "#283442"
             }
            },
            "type": "scattergl"
           }
          ],
          "scattermap": [
           {
            "marker": {
             "colorbar": {
              "outlinewidth": 0,
              "ticks": ""
             }
            },
            "type": "scattermap"
           }
          ],
          "scattermapbox": [
           {
            "marker": {
             "colorbar": {
              "outlinewidth": 0,
              "ticks": ""
             }
            },
            "type": "scattermapbox"
           }
          ],
          "scatterpolar": [
           {
            "marker": {
             "colorbar": {
              "outlinewidth": 0,
              "ticks": ""
             }
            },
            "type": "scatterpolar"
           }
          ],
          "scatterpolargl": [
           {
            "marker": {
             "colorbar": {
              "outlinewidth": 0,
              "ticks": ""
             }
            },
            "type": "scatterpolargl"
           }
          ],
          "scatterternary": [
           {
            "marker": {
             "colorbar": {
              "outlinewidth": 0,
              "ticks": ""
             }
            },
            "type": "scatterternary"
           }
          ],
          "surface": [
           {
            "colorbar": {
             "outlinewidth": 0,
             "ticks": ""
            },
            "colorscale": [
             [
              0,
              "#0d0887"
             ],
             [
              0.1111111111111111,
              "#46039f"
             ],
             [
              0.2222222222222222,
              "#7201a8"
             ],
             [
              0.3333333333333333,
              "#9c179e"
             ],
             [
              0.4444444444444444,
              "#bd3786"
             ],
             [
              0.5555555555555556,
              "#d8576b"
             ],
             [
              0.6666666666666666,
              "#ed7953"
             ],
             [
              0.7777777777777778,
              "#fb9f3a"
             ],
             [
              0.8888888888888888,
              "#fdca26"
             ],
             [
              1,
              "#f0f921"
             ]
            ],
            "type": "surface"
           }
          ],
          "table": [
           {
            "cells": {
             "fill": {
              "color": "#506784"
             },
             "line": {
              "color": "rgb(17,17,17)"
             }
            },
            "header": {
             "fill": {
              "color": "#2a3f5f"
             },
             "line": {
              "color": "rgb(17,17,17)"
             }
            },
            "type": "table"
           }
          ]
         },
         "layout": {
          "annotationdefaults": {
           "arrowcolor": "#f2f5fa",
           "arrowhead": 0,
           "arrowwidth": 1
          },
          "autotypenumbers": "strict",
          "coloraxis": {
           "colorbar": {
            "outlinewidth": 0,
            "ticks": ""
           }
          },
          "colorscale": {
           "diverging": [
            [
             0,
             "#8e0152"
            ],
            [
             0.1,
             "#c51b7d"
            ],
            [
             0.2,
             "#de77ae"
            ],
            [
             0.3,
             "#f1b6da"
            ],
            [
             0.4,
             "#fde0ef"
            ],
            [
             0.5,
             "#f7f7f7"
            ],
            [
             0.6,
             "#e6f5d0"
            ],
            [
             0.7,
             "#b8e186"
            ],
            [
             0.8,
             "#7fbc41"
            ],
            [
             0.9,
             "#4d9221"
            ],
            [
             1,
             "#276419"
            ]
           ],
           "sequential": [
            [
             0,
             "#0d0887"
            ],
            [
             0.1111111111111111,
             "#46039f"
            ],
            [
             0.2222222222222222,
             "#7201a8"
            ],
            [
             0.3333333333333333,
             "#9c179e"
            ],
            [
             0.4444444444444444,
             "#bd3786"
            ],
            [
             0.5555555555555556,
             "#d8576b"
            ],
            [
             0.6666666666666666,
             "#ed7953"
            ],
            [
             0.7777777777777778,
             "#fb9f3a"
            ],
            [
             0.8888888888888888,
             "#fdca26"
            ],
            [
             1,
             "#f0f921"
            ]
           ],
           "sequentialminus": [
            [
             0,
             "#0d0887"
            ],
            [
             0.1111111111111111,
             "#46039f"
            ],
            [
             0.2222222222222222,
             "#7201a8"
            ],
            [
             0.3333333333333333,
             "#9c179e"
            ],
            [
             0.4444444444444444,
             "#bd3786"
            ],
            [
             0.5555555555555556,
             "#d8576b"
            ],
            [
             0.6666666666666666,
             "#ed7953"
            ],
            [
             0.7777777777777778,
             "#fb9f3a"
            ],
            [
             0.8888888888888888,
             "#fdca26"
            ],
            [
             1,
             "#f0f921"
            ]
           ]
          },
          "colorway": [
           "#636efa",
           "#EF553B",
           "#00cc96",
           "#ab63fa",
           "#FFA15A",
           "#19d3f3",
           "#FF6692",
           "#B6E880",
           "#FF97FF",
           "#FECB52"
          ],
          "font": {
           "color": "#f2f5fa"
          },
          "geo": {
           "bgcolor": "rgb(17,17,17)",
           "lakecolor": "rgb(17,17,17)",
           "landcolor": "rgb(17,17,17)",
           "showlakes": true,
           "showland": true,
           "subunitcolor": "#506784"
          },
          "hoverlabel": {
           "align": "left"
          },
          "hovermode": "closest",
          "mapbox": {
           "style": "dark"
          },
          "paper_bgcolor": "rgb(17,17,17)",
          "plot_bgcolor": "rgb(17,17,17)",
          "polar": {
           "angularaxis": {
            "gridcolor": "#506784",
            "linecolor": "#506784",
            "ticks": ""
           },
           "bgcolor": "rgb(17,17,17)",
           "radialaxis": {
            "gridcolor": "#506784",
            "linecolor": "#506784",
            "ticks": ""
           }
          },
          "scene": {
           "xaxis": {
            "backgroundcolor": "rgb(17,17,17)",
            "gridcolor": "#506784",
            "gridwidth": 2,
            "linecolor": "#506784",
            "showbackground": true,
            "ticks": "",
            "zerolinecolor": "#C8D4E3"
           },
           "yaxis": {
            "backgroundcolor": "rgb(17,17,17)",
            "gridcolor": "#506784",
            "gridwidth": 2,
            "linecolor": "#506784",
            "showbackground": true,
            "ticks": "",
            "zerolinecolor": "#C8D4E3"
           },
           "zaxis": {
            "backgroundcolor": "rgb(17,17,17)",
            "gridcolor": "#506784",
            "gridwidth": 2,
            "linecolor": "#506784",
            "showbackground": true,
            "ticks": "",
            "zerolinecolor": "#C8D4E3"
           }
          },
          "shapedefaults": {
           "line": {
            "color": "#f2f5fa"
           }
          },
          "sliderdefaults": {
           "bgcolor": "#C8D4E3",
           "bordercolor": "rgb(17,17,17)",
           "borderwidth": 1,
           "tickwidth": 0
          },
          "ternary": {
           "aaxis": {
            "gridcolor": "#506784",
            "linecolor": "#506784",
            "ticks": ""
           },
           "baxis": {
            "gridcolor": "#506784",
            "linecolor": "#506784",
            "ticks": ""
           },
           "bgcolor": "rgb(17,17,17)",
           "caxis": {
            "gridcolor": "#506784",
            "linecolor": "#506784",
            "ticks": ""
           }
          },
          "title": {
           "x": 0.05
          },
          "updatemenudefaults": {
           "bgcolor": "#506784",
           "borderwidth": 0
          },
          "xaxis": {
           "automargin": true,
           "gridcolor": "#283442",
           "linecolor": "#506784",
           "ticks": "",
           "title": {
            "standoff": 15
           },
           "zerolinecolor": "#283442",
           "zerolinewidth": 2
          },
          "yaxis": {
           "automargin": true,
           "gridcolor": "#283442",
           "linecolor": "#506784",
           "ticks": "",
           "title": {
            "standoff": 15
           },
           "zerolinecolor": "#283442",
           "zerolinewidth": 2
          }
         }
        },
        "title": {
         "text": "NQ=F Candlestick Chart with Signals (2025-03-10)"
        },
        "xaxis": {
         "rangeslider": {
          "visible": false
         },
         "title": {
          "text": "Time"
         }
        },
        "yaxis": {
         "title": {
          "text": "Price"
         }
        }
       }
      }
     },
     "metadata": {},
     "output_type": "display_data"
    }
   ],
   "source": [
    "plot_candlestick_signals(nqdf, day='2025-03-10')"
   ]
  },
  {
   "cell_type": "markdown",
   "metadata": {},
   "source": [
    "This signal obviously should not be used by itself. Lets see what it's PNL would've been"
   ]
  },
  {
   "cell_type": "markdown",
   "metadata": {},
   "source": [
    "### Backtesting\n",
    "Instead of below, I found the backtesting.py library which is insanely useful, and will save so much time. But below was just a super simple backtesting function"
   ]
  },
  {
   "cell_type": "code",
   "execution_count": 107,
   "metadata": {},
   "outputs": [],
   "source": [
    "entry_price = None\n",
    "position = 0\n",
    "pnl_list = []\n",
    "\n",
    "stop_loss = 50\n",
    "profit_target = 100\n",
    "\n",
    "#setting date and time parameters\n",
    "date = '2025-03-10'\n",
    "start_time = ''\n",
    "end_time = ''\n",
    "\n",
    "# Filter the dataframe for the specified date and time range function, with date and time optional\n",
    "\n",
    "def filter_df_by_date_time(df, date=None, start_time=None, end_time=None):\n",
    "    \"\"\"\n",
    "    Filter the dataframe based on a specific date and optional time range.\n",
    "    \n",
    "    Parameters:\n",
    "        df (DataFrame): DataFrame with a datetime index.\n",
    "        date (str or datetime.date, optional): The date to filter (e.g., '2025-03-10').\n",
    "        start_time (str, optional): Start time (e.g., '09:30') in HH:MM format.\n",
    "        end_time (str, optional): End time (e.g., '16:00') in HH:MM format.\n",
    "    \n",
    "    Returns:\n",
    "        DataFrame: Filtered DataFrame.\n",
    "    \"\"\"\n",
    "    df = df.copy()\n",
    "    df.index = pd.to_datetime(df.index)\n",
    "\n",
    "    # Filter by date\n",
    "    if date is not None:\n",
    "        date = pd.to_datetime(date).date()\n",
    "        df = df[df.index.date == date]\n",
    "\n",
    "    # Filter by time range\n",
    "    if start_time or end_time:\n",
    "        # Convert to datetime.time objects\n",
    "        if start_time:\n",
    "            start_time = pd.to_datetime(start_time).time()\n",
    "        if end_time:\n",
    "            end_time = pd.to_datetime(end_time).time()\n",
    "\n",
    "        df = df[(df.index.time >= (start_time or df.index.time.min())) &\n",
    "                (df.index.time <= (end_time or df.index.time.max()))]\n",
    "\n",
    "    return df\n",
    "\n",
    "\n",
    "df_filtered = filter_df_by_date_time(nqdf, date = date)\n"
   ]
  },
  {
   "cell_type": "code",
   "execution_count": 108,
   "metadata": {},
   "outputs": [
    {
     "name": "stdout",
     "output_type": "stream",
     "text": [
      "Buy at 20105.75 on 2025-03-10 01:30:00+00:00\n",
      "Stop loss at 20038.0 on 2025-03-10 08:00:00+00:00\n",
      "Sell at 19985.25 on 2025-03-10 08:30:00+00:00\n",
      "Take profit at 19882.0 on 2025-03-10 13:15:00+00:00\n",
      "Sell at 19790.25 on 2025-03-10 13:45:00+00:00\n",
      "Take profit at 19668.0 on 2025-03-10 14:15:00+00:00\n",
      "Sell at 19604.0 on 2025-03-10 15:30:00+00:00\n",
      "Take profit at 19499.75 on 2025-03-10 17:00:00+00:00\n",
      "Sell at 19453.25 on 2025-03-10 17:30:00+00:00\n",
      "Take profit at 19338.75 on 2025-03-10 18:45:00+00:00\n",
      "Buy at 19464.25 on 2025-03-10 19:45:00+00:00\n",
      "Stop loss at 19396.25 on 2025-03-10 22:00:00+00:00\n",
      "Sell at 19376.5 on 2025-03-10 22:45:00+00:00\n",
      "Total PnL: 300\n"
     ]
    }
   ],
   "source": [
    "for i in range(len(df_filtered)):\n",
    "    current_row = df_filtered.iloc[i]\n",
    "    current_signal = current_row['Signal']\n",
    "    current_price = current_row['Close']\n",
    "\n",
    "    # Check for buy signal\n",
    "    if current_signal == 2 and position == 0:\n",
    "        entry_price = current_price\n",
    "        position = 1\n",
    "        print(f\"Buy at {entry_price} on {current_row.name}\")\n",
    "\n",
    "    # Check for sell signal\n",
    "    elif current_signal == 1 and position == 0:\n",
    "        entry_price = current_price\n",
    "        position = -1\n",
    "        print(f\"Sell at {entry_price} on {current_row.name}\")\n",
    "\n",
    "    # Check for stop loss or profit target\n",
    "    if position == 1:\n",
    "        if (current_price - entry_price) >= profit_target:\n",
    "            print(f\"Take profit at {current_price} on {current_row.name}\")\n",
    "            pnl_list.append(profit_target)\n",
    "            entry_price = None\n",
    "            position = 0\n",
    "        elif (entry_price - current_price) >= stop_loss:\n",
    "            print(f\"Stop loss at {current_price} on {current_row.name}\")\n",
    "            pnl_list.append(-stop_loss)\n",
    "            entry_price = None\n",
    "            position = 0\n",
    "\n",
    "    elif position == -1:\n",
    "        if (entry_price - current_price) >= profit_target:\n",
    "            print(f\"Take profit at {current_price} on {current_row.name}\")\n",
    "            pnl_list.append(profit_target)\n",
    "            entry_price = None\n",
    "            position = 0\n",
    "        elif (current_price - entry_price) >= stop_loss:\n",
    "            print(f\"Stop loss at {current_price} on {current_row.name}\")\n",
    "            pnl_list.append(-stop_loss)\n",
    "            entry_price = None\n",
    "            position = 0\n",
    "# Calculate the total PnL\n",
    "total_pnl = sum(pnl_list)\n",
    "print(f\"Total PnL: {total_pnl}\")\n"
   ]
  },
  {
   "cell_type": "markdown",
   "metadata": {},
   "source": [
    "#### Now, before diving into using machine learning models to detect candlestick patterns. I want to have a good understanding of all the other commonly used indicators (i.e. EMA, MACD, RSI, VWAP)"
   ]
  },
  {
   "cell_type": "markdown",
   "metadata": {},
   "source": [
    "### First we have EMA, an Exponential moving average.\n",
    "$(\\text{EMA})_t = \\alpha \\cdot P_t + (1-\\alpha) \\cdot EMA_{t-1}$, where  \n",
    "* $P_t:$ is the price at time t (the last bar close since ema lags one candle behind)\n",
    "* $\\alpha:$ is the smoothing factor. Usually computed as $\\frac{2}{n+1}$ where $n$ is the period length you want\n",
    "* $\\text{EMA}_{t-1}$ is just the previous EMA.  \n",
    "\n",
    "Super simple but it can be seen as one of the pillars of technical analysis. It depicts trend better than something like an SMA since recent prices matter more than an SMA-- allowing it to react to trend reversals or spikes faster"
   ]
  },
  {
   "cell_type": "code",
   "execution_count": 109,
   "metadata": {},
   "outputs": [],
   "source": [
    "#Adding EMA to the dataframe\n",
    "def add_ema(df, period = 21):\n",
    "    \"\"\"\n",
    "    Add Exponential Moving Average (EMA) to the dataframe.\n",
    "    \n",
    "    Parameters:\n",
    "        df (DataFrame): DataFrame with 'Close' column.\n",
    "        period (int): Period for EMA calculation.\n",
    "    \n",
    "    Returns:\n",
    "        DataFrame: DataFrame with EMA column added.\n",
    "    \"\"\"\n",
    "    df['EMA'] = df['Close'].ewm(span=period, adjust=False).mean()\n",
    "    return df\n",
    "nqdf = add_ema(nqdf, period=21)"
   ]
  },
  {
   "cell_type": "code",
   "execution_count": 110,
   "metadata": {},
   "outputs": [],
   "source": [
    "def plot_candlestick_with_ema(df, day=None, start_time=None, end_time=None):\n",
    "    # Plot candlestick chart with EMA for a specific day and optional time range.\n",
    "    df = df.copy()\n",
    "    df.index = pd.to_datetime(df.index)\n",
    "    df = df.dropna(subset=['Open', 'High', 'Low', 'Close'])\n",
    "    # Filter by day\n",
    "    if day is not None:\n",
    "        day = pd.to_datetime(day).date()\n",
    "        df = df[df.index.date == day]\n",
    "    # Filter by time range\n",
    "    if start_time or end_time:\n",
    "        # Convert to datetime.time objects\n",
    "        if start_time:\n",
    "            start_time = pd.to_datetime(start_time).time()\n",
    "        if end_time:\n",
    "            end_time = pd.to_datetime(end_time).time()\n",
    "\n",
    "        df = df[(df.index.time >= (start_time or df.index.time.min())) &\n",
    "                (df.index.time <= (end_time or df.index.time.max()))]\n",
    "    if df.empty:\n",
    "        print(\"No data for the specified day/time range.\")\n",
    "        return\n",
    "    # Plot\n",
    "    fig = go.Figure()\n",
    "    fig.add_trace(go.Candlestick(\n",
    "        x=df.index,\n",
    "        open=df['Open'],\n",
    "        high=df['High'],\n",
    "        low=df['Low'],\n",
    "        close=df['Close'],\n",
    "        name='Candles'\n",
    "    ))\n",
    "    # Add EMA line\n",
    "    fig.add_trace(go.Scatter(\n",
    "        x=df.index,\n",
    "        y=df['EMA'],\n",
    "        mode='lines',\n",
    "        line=dict(color='blue', width=2),\n",
    "        name='EMA'\n",
    "    ))\n",
    "    fig.update_layout(\n",
    "        title=f'NQ=F Candlestick Chart with EMA ({day})',\n",
    "        xaxis_title='Time',\n",
    "        yaxis_title='Price',\n",
    "        xaxis_rangeslider_visible=False,\n",
    "        template='plotly_dark',\n",
    "        height=700\n",
    "    )\n",
    "    fig.show()"
   ]
  },
  {
   "cell_type": "code",
   "execution_count": 111,
   "metadata": {},
   "outputs": [
    {
     "data": {
      "application/vnd.plotly.v1+json": {
       "config": {
        "plotlyServerURL": "https://plot.ly"
       },
       "data": [
        {
         "close": {
          "bdata": "AAAAAPCS00AAAAAAMI3TQAAAAACQktNAAAAAAICY00AAAAAAsJzTQAAAAADwm9NAAAAAAHCi00AAAAAAcKnTQAAAAABwqNNAAAAAALCm00AAAAAAAKvTQAAAAAAwqtNAAAAAAACm00AAAAAAAKTTQAAAAACQqtNAAAAAAOCm00AAAAAAYKvTQAAAAACwrNNAAAAAABCl00AAAAAAkJ/TQAAAAACgpNNAAAAAAGCn00AAAAAAgKHTQAAAAACwntNAAAAAAOCj00AAAAAA0KPTQAAAAABgpNNAAAAAALCj00AAAAAAIKXTQAAAAADwn9NAAAAAAGCm00AAAAAA0J7TQAAAAACAkdNAAAAAAPCS00AAAAAAUITTQAAAAAAAftNAAAAAAFB900AAAAAA8IrTQAAAAADAkNNAAAAAAICI00AAAAAAQIbTQAAAAAAggtNAAAAAAMB900AAAAAAgIDTQAAAAAAAhdNAAAAAAKCK00AAAAAAkIDTQAAAAADge9NAAAAAAGBw00AAAAAAgGzTQAAAAAAgbdNAAAAAAHBy00AAAAAA4HDTQAAAAACAatNAAAAAAHBq00AAAAAAkFPTQAAAAACAQtNAAAAAAAA100AAAAAAACnTQAAAAACQGNNAAAAAAOAl00AAAAAAICzTQAAAAAAAJdNAAAAAANAg00AAAAAAECbTQAAAAADwHtNAAAAAABAU00AAAAAAsBXTQAAAAADwCtNAAAAAAOAM00AAAAAAUP/SQAAAAABw/NJAAAAAACD/0kAAAAAA0PnSQAAAAABw9tJAAAAAALDi0kAAAAAAIOTSQAAAAACA+tJAAAAAACDx0kAAAAAAEALTQAAAAACQAtNAAAAAAOAF00AAAAAAQATTQAAAAAAABNNAAAAAABDx0kAAAAAAkPbSQAAAAACQ+dJAAAAAACDs0kAAAAAA4OTSQAAAAAAQ3dJAAAAAAIDZ0kAAAAAAENrSQA==",
          "dtype": "f8"
         },
         "high": {
          "bdata": "AAAAAPCW00AAAAAA0JLTQAAAAACAk9NAAAAAAOCY00AAAAAAEKDTQAAAAACAntNAAAAAAHCn00AAAAAAIKrTQAAAAABQq9NAAAAAAJCp00AAAAAAAK/TQAAAAAAArdNAAAAAAPCt00AAAAAA8KfTQAAAAADgqtNAAAAAAJCs00AAAAAAEKzTQAAAAAAgrtNAAAAAAMCs00AAAAAAUKfTQAAAAABAptNAAAAAADCp00AAAAAA8KjTQAAAAADAo9NAAAAAAFCl00AAAAAAEKfTQAAAAACAptNAAAAAAOCm00AAAAAAMKvTQAAAAAAAptNAAAAAAMCn00AAAAAAEKbTQAAAAABApNNAAAAAANCV00AAAAAAAJPTQAAAAACgiNNAAAAAANCF00AAAAAAkI7TQAAAAADgktNAAAAAAMCV00AAAAAAII7TQAAAAACAh9NAAAAAAHCH00AAAAAAwIPTQAAAAABwh9NAAAAAABCN00AAAAAAgIzTQAAAAAAwhNNAAAAAAPB800AAAAAAMHfTQAAAAABwbtNAAAAAAIBz00AAAAAAgHnTQAAAAADgctNAAAAAACBw00AAAAAAoG7TQAAAAADAU9NAAAAAAFBJ00AAAAAAcDzTQAAAAADAL9NAAAAAAKAo00AAAAAAIC3TQAAAAADAPdNAAAAAAFAz00AAAAAAACnTQAAAAABQH9NAAAAAANAt00AAAAAA8B/TQAAAAACwF9NAAAAAAEAY00AAAAAAkA7TQAAAAADABtNAAAAAAAAL00AAAAAA8AbTQAAAAAAAA9NAAAAAAND40kAAAAAAgOnSQAAAAAAAC9NAAAAAANAX00AAAAAAcAjTQAAAAACgBdNAAAAAADAI00AAAAAA4AbTQAAAAACQB9NAAAAAAGAB00AAAAAAcPnSQAAAAAAg/dJAAAAAAED70kAAAAAAQPLSQAAAAAAw5tJAAAAAAJDe0kAAAAAAgODSQA==",
          "dtype": "f8"
         },
         "low": {
          "bdata": "AAAAAFCM00AAAAAAwInTQAAAAADgi9NAAAAAACCR00AAAAAAIJfTQAAAAACgmtNAAAAAAJCb00AAAAAAcKDTQAAAAACgptNAAAAAAFCl00AAAAAAoKXTQAAAAADQqNNAAAAAAMCj00AAAAAAgKHTQAAAAACAo9NAAAAAAFCm00AAAAAAUKbTQAAAAABwqtNAAAAAAECk00AAAAAA0J7TQAAAAACgn9NAAAAAADCk00AAAAAAUKHTQAAAAACAm9NAAAAAAPCe00AAAAAAwKLTQAAAAABQodNAAAAAAFCi00AAAAAAwKLTQAAAAACgndNAAAAAAFCd00AAAAAAUJ7TQAAAAAAAkdNAAAAAAICM00AAAAAAgILTQAAAAABAe9NAAAAAANB700AAAAAA8HzTQAAAAADwitNAAAAAAFCD00AAAAAAgIPTQAAAAADggNNAAAAAAAB800AAAAAAAHnTQAAAAACAedNAAAAAALCA00AAAAAAgH3TQAAAAAAgdNNAAAAAAGBr00AAAAAAwGvTQAAAAABAZdNAAAAAAJBq00AAAAAAwGjTQAAAAABwaNNAAAAAAOBS00AAAAAAEEjTQAAAAACwONNAAAAAAHAz00AAAAAAcCjTQAAAAABAENNAAAAAAIAX00AAAAAAIBrTQAAAAADwINNAAAAAAJAd00AAAAAAgBnTQAAAAACwENNAAAAAANAS00AAAAAAQBPTQAAAAADA/9JAAAAAABAJ00AAAAAAgPvSQAAAAACA99JAAAAAADDx0kAAAAAAcPXSQAAAAADQ79JAAAAAAIDg0kAAAAAAENLSQAAAAABg4tJAAAAAAGDw0kAAAAAAQPDSQAAAAAAQ9tJAAAAAAIAB00AAAAAAgADTQAAAAAAwA9NAAAAAAKDq0kAAAAAAQO/SQAAAAACw89JAAAAAACDs0kAAAAAAUOPSQAAAAACQ1dJAAAAAAFDH0kAAAAAAYNfSQA==",
          "dtype": "f8"
         },
         "name": "Candles",
         "open": {
          "bdata": "AAAAAFCQ00AAAAAAwJLTQAAAAADAjdNAAAAAADCS00AAAAAAwJjTQAAAAAAAndNAAAAAAJCb00AAAAAAkKLTQAAAAABgqdNAAAAAAPCn00AAAAAAkKbTQAAAAABwqtNAAAAAABCq00AAAAAAsKbTQAAAAADQpNNAAAAAAICq00AAAAAAoKfTQAAAAADAq9NAAAAAAICs00AAAAAAAKXTQAAAAACgn9NAAAAAALCk00AAAAAAYKfTQAAAAACAodNAAAAAAPCe00AAAAAAoKPTQAAAAADwo9NAAAAAAOCk00AAAAAAAKTTQAAAAAAgpdNAAAAAABCg00AAAAAAEKbTQAAAAACAn9NAAAAAABCS00AAAAAAAJPTQAAAAABQhNNAAAAAAIB900AAAAAAEH3TQAAAAAAAi9NAAAAAAMCQ00AAAAAAkInTQAAAAABghtNAAAAAAHCB00AAAAAAQH7TQAAAAACwgNNAAAAAAICE00AAAAAAUIrTQAAAAABQgdNAAAAAAPB700AAAAAAAHDTQAAAAABAbNNAAAAAADBt00AAAAAAgHLTQAAAAADQcNNAAAAAAEBq00AAAAAA0GrTQAAAAADAU9NAAAAAAABC00AAAAAAIDXTQAAAAAAAKdNAAAAAAKAY00AAAAAA8CXTQAAAAABgLNNAAAAAAFAl00AAAAAAoCDTQAAAAAAgGNNAAAAAADAf00AAAAAA0BPTQAAAAACgFdNAAAAAANAK00AAAAAA8AzTQAAAAABQ/9JAAAAAAHD80kAAAAAAYP/SQAAAAADw+dJAAAAAAID20kAAAAAAoOLSQAAAAACA5NJAAAAAAHD60kAAAAAAkPDSQAAAAADwAdNAAAAAACAC00AAAAAAIAbTQAAAAABwBNNAAAAAAAD80kAAAAAAMPHSQAAAAAAA99JAAAAAAOD50kAAAAAAYOzSQAAAAACA5NJAAAAAAEDd0kAAAAAAkNnSQA==",
          "dtype": "f8"
         },
         "type": "candlestick",
         "x": [
          "2025-03-10T00:00:00+00:00",
          "2025-03-10T00:15:00+00:00",
          "2025-03-10T00:30:00+00:00",
          "2025-03-10T00:45:00+00:00",
          "2025-03-10T01:00:00+00:00",
          "2025-03-10T01:15:00+00:00",
          "2025-03-10T01:30:00+00:00",
          "2025-03-10T01:45:00+00:00",
          "2025-03-10T02:00:00+00:00",
          "2025-03-10T02:15:00+00:00",
          "2025-03-10T02:30:00+00:00",
          "2025-03-10T02:45:00+00:00",
          "2025-03-10T03:00:00+00:00",
          "2025-03-10T03:15:00+00:00",
          "2025-03-10T03:30:00+00:00",
          "2025-03-10T03:45:00+00:00",
          "2025-03-10T04:00:00+00:00",
          "2025-03-10T04:15:00+00:00",
          "2025-03-10T04:30:00+00:00",
          "2025-03-10T04:45:00+00:00",
          "2025-03-10T05:00:00+00:00",
          "2025-03-10T05:15:00+00:00",
          "2025-03-10T05:30:00+00:00",
          "2025-03-10T05:45:00+00:00",
          "2025-03-10T06:00:00+00:00",
          "2025-03-10T06:15:00+00:00",
          "2025-03-10T06:30:00+00:00",
          "2025-03-10T06:45:00+00:00",
          "2025-03-10T07:00:00+00:00",
          "2025-03-10T07:15:00+00:00",
          "2025-03-10T07:30:00+00:00",
          "2025-03-10T07:45:00+00:00",
          "2025-03-10T08:00:00+00:00",
          "2025-03-10T08:15:00+00:00",
          "2025-03-10T08:30:00+00:00",
          "2025-03-10T08:45:00+00:00",
          "2025-03-10T09:00:00+00:00",
          "2025-03-10T09:15:00+00:00",
          "2025-03-10T09:30:00+00:00",
          "2025-03-10T09:45:00+00:00",
          "2025-03-10T10:00:00+00:00",
          "2025-03-10T10:15:00+00:00",
          "2025-03-10T10:30:00+00:00",
          "2025-03-10T10:45:00+00:00",
          "2025-03-10T11:00:00+00:00",
          "2025-03-10T11:15:00+00:00",
          "2025-03-10T11:30:00+00:00",
          "2025-03-10T11:45:00+00:00",
          "2025-03-10T12:00:00+00:00",
          "2025-03-10T12:15:00+00:00",
          "2025-03-10T12:30:00+00:00",
          "2025-03-10T12:45:00+00:00",
          "2025-03-10T13:00:00+00:00",
          "2025-03-10T13:15:00+00:00",
          "2025-03-10T13:30:00+00:00",
          "2025-03-10T13:45:00+00:00",
          "2025-03-10T14:00:00+00:00",
          "2025-03-10T14:15:00+00:00",
          "2025-03-10T14:30:00+00:00",
          "2025-03-10T14:45:00+00:00",
          "2025-03-10T15:00:00+00:00",
          "2025-03-10T15:15:00+00:00",
          "2025-03-10T15:30:00+00:00",
          "2025-03-10T15:45:00+00:00",
          "2025-03-10T16:00:00+00:00",
          "2025-03-10T16:15:00+00:00",
          "2025-03-10T16:30:00+00:00",
          "2025-03-10T16:45:00+00:00",
          "2025-03-10T17:00:00+00:00",
          "2025-03-10T17:15:00+00:00",
          "2025-03-10T17:30:00+00:00",
          "2025-03-10T17:45:00+00:00",
          "2025-03-10T18:00:00+00:00",
          "2025-03-10T18:15:00+00:00",
          "2025-03-10T18:30:00+00:00",
          "2025-03-10T18:45:00+00:00",
          "2025-03-10T19:00:00+00:00",
          "2025-03-10T19:15:00+00:00",
          "2025-03-10T19:30:00+00:00",
          "2025-03-10T19:45:00+00:00",
          "2025-03-10T20:00:00+00:00",
          "2025-03-10T20:15:00+00:00",
          "2025-03-10T20:30:00+00:00",
          "2025-03-10T20:45:00+00:00",
          "2025-03-10T22:00:00+00:00",
          "2025-03-10T22:15:00+00:00",
          "2025-03-10T22:30:00+00:00",
          "2025-03-10T22:45:00+00:00",
          "2025-03-10T23:00:00+00:00",
          "2025-03-10T23:15:00+00:00",
          "2025-03-10T23:30:00+00:00",
          "2025-03-10T23:45:00+00:00"
         ]
        },
        {
         "line": {
          "color": "blue",
          "width": 2
         },
         "mode": "lines",
         "name": "EMA",
         "type": "scatter",
         "x": [
          "2025-03-10T00:00:00+00:00",
          "2025-03-10T00:15:00+00:00",
          "2025-03-10T00:30:00+00:00",
          "2025-03-10T00:45:00+00:00",
          "2025-03-10T01:00:00+00:00",
          "2025-03-10T01:15:00+00:00",
          "2025-03-10T01:30:00+00:00",
          "2025-03-10T01:45:00+00:00",
          "2025-03-10T02:00:00+00:00",
          "2025-03-10T02:15:00+00:00",
          "2025-03-10T02:30:00+00:00",
          "2025-03-10T02:45:00+00:00",
          "2025-03-10T03:00:00+00:00",
          "2025-03-10T03:15:00+00:00",
          "2025-03-10T03:30:00+00:00",
          "2025-03-10T03:45:00+00:00",
          "2025-03-10T04:00:00+00:00",
          "2025-03-10T04:15:00+00:00",
          "2025-03-10T04:30:00+00:00",
          "2025-03-10T04:45:00+00:00",
          "2025-03-10T05:00:00+00:00",
          "2025-03-10T05:15:00+00:00",
          "2025-03-10T05:30:00+00:00",
          "2025-03-10T05:45:00+00:00",
          "2025-03-10T06:00:00+00:00",
          "2025-03-10T06:15:00+00:00",
          "2025-03-10T06:30:00+00:00",
          "2025-03-10T06:45:00+00:00",
          "2025-03-10T07:00:00+00:00",
          "2025-03-10T07:15:00+00:00",
          "2025-03-10T07:30:00+00:00",
          "2025-03-10T07:45:00+00:00",
          "2025-03-10T08:00:00+00:00",
          "2025-03-10T08:15:00+00:00",
          "2025-03-10T08:30:00+00:00",
          "2025-03-10T08:45:00+00:00",
          "2025-03-10T09:00:00+00:00",
          "2025-03-10T09:15:00+00:00",
          "2025-03-10T09:30:00+00:00",
          "2025-03-10T09:45:00+00:00",
          "2025-03-10T10:00:00+00:00",
          "2025-03-10T10:15:00+00:00",
          "2025-03-10T10:30:00+00:00",
          "2025-03-10T10:45:00+00:00",
          "2025-03-10T11:00:00+00:00",
          "2025-03-10T11:15:00+00:00",
          "2025-03-10T11:30:00+00:00",
          "2025-03-10T11:45:00+00:00",
          "2025-03-10T12:00:00+00:00",
          "2025-03-10T12:15:00+00:00",
          "2025-03-10T12:30:00+00:00",
          "2025-03-10T12:45:00+00:00",
          "2025-03-10T13:00:00+00:00",
          "2025-03-10T13:15:00+00:00",
          "2025-03-10T13:30:00+00:00",
          "2025-03-10T13:45:00+00:00",
          "2025-03-10T14:00:00+00:00",
          "2025-03-10T14:15:00+00:00",
          "2025-03-10T14:30:00+00:00",
          "2025-03-10T14:45:00+00:00",
          "2025-03-10T15:00:00+00:00",
          "2025-03-10T15:15:00+00:00",
          "2025-03-10T15:30:00+00:00",
          "2025-03-10T15:45:00+00:00",
          "2025-03-10T16:00:00+00:00",
          "2025-03-10T16:15:00+00:00",
          "2025-03-10T16:30:00+00:00",
          "2025-03-10T16:45:00+00:00",
          "2025-03-10T17:00:00+00:00",
          "2025-03-10T17:15:00+00:00",
          "2025-03-10T17:30:00+00:00",
          "2025-03-10T17:45:00+00:00",
          "2025-03-10T18:00:00+00:00",
          "2025-03-10T18:15:00+00:00",
          "2025-03-10T18:30:00+00:00",
          "2025-03-10T18:45:00+00:00",
          "2025-03-10T19:00:00+00:00",
          "2025-03-10T19:15:00+00:00",
          "2025-03-10T19:30:00+00:00",
          "2025-03-10T19:45:00+00:00",
          "2025-03-10T20:00:00+00:00",
          "2025-03-10T20:15:00+00:00",
          "2025-03-10T20:30:00+00:00",
          "2025-03-10T20:45:00+00:00",
          "2025-03-10T22:00:00+00:00",
          "2025-03-10T22:15:00+00:00",
          "2025-03-10T22:30:00+00:00",
          "2025-03-10T22:45:00+00:00",
          "2025-03-10T23:00:00+00:00",
          "2025-03-10T23:15:00+00:00",
          "2025-03-10T23:30:00+00:00",
          "2025-03-10T23:45:00+00:00"
         ],
         "y": {
          "bdata": "boahlS6d00B7kXtZupvTQIebhwvlmtNA77tMUK2a00DCTXQa3JrTQDx1Ui/1mtNANvZKQqOb00COyM9q5JzTQMeHSBvxndNAb3twpLye00DCntoJ2p/TQDwzmJTKoNNAZXTnzEOh00CKUnV0g6HTQGa/xwxWotNAFwuHrr+i00D9rB1wiKPTQCxAMn1dpNNAywuit22k00DnxGR4/KPTQBgQLVYLpNNAuWv62Vik00BL1p2XFqTTQESU7OaYo9NA+ECRXZ+j00CzxmzJo6PTQKO0qOW0o9NAN6Swc7Sj00CmCXKA1aPTQMUI3NF6o9NAPx8lM76j00DzSlB0S6PTQPSJd1KtodNA3k74Slag00Cb6psVyp3TQLumMELmmtNAwVGJsDWY00DeeAjPAJfTQBAo2UdvltNAyZh/+yqV00BxuVzNz5PTQAl6Di80ktNAq1fHKliQ00BtOLVs547TQEwzdu4AjtNA/6IlTbKN00DofDmjgIzTQBmgqKv9itNA/2L2PpKI00DQn2vzBIbTQOsceZfBg9NAvuuziS6C00DEpwDDm4DTQLJS6TyZftNAohzUCMR800Afd0wfBXnTQByy/0oQdNNApYpFoVRu00A5OD8eB2jTQJEEaL7NYNNAhHgBUHJb00B4EOoCJVfTQIQ9pgKWUtNAMk9RpQ9O00DQjdXEbErTQHev8LJ4RtNA+HBmi+NB00D5fdHb3j3TQPlDBII9OdNAEVXVATU100APNtm7TjDTQIKlf5OXK9NAdpaitIwn00CCcR9HZCPTQLyVHBJOH9NAH4hIVssZ00C/e3BO6hTTQH9wII2DEtNALQlMgHoP00D6kxZGQg7TQFfMKxEyDdNAT+iEsocM00BfjWH/xgvTQOL0b/8RC9NAzZirubQI00AA6D56DgfTQC7qIW/UBdNAKux7Nn4D00A9BeWltQDTQJRKLQt4/dJAElvj8jL60kDKUloLR/fSQA==",
          "dtype": "f8"
         }
        }
       ],
       "layout": {
        "height": 700,
        "template": {
         "data": {
          "bar": [
           {
            "error_x": {
             "color": "#f2f5fa"
            },
            "error_y": {
             "color": "#f2f5fa"
            },
            "marker": {
             "line": {
              "color": "rgb(17,17,17)",
              "width": 0.5
             },
             "pattern": {
              "fillmode": "overlay",
              "size": 10,
              "solidity": 0.2
             }
            },
            "type": "bar"
           }
          ],
          "barpolar": [
           {
            "marker": {
             "line": {
              "color": "rgb(17,17,17)",
              "width": 0.5
             },
             "pattern": {
              "fillmode": "overlay",
              "size": 10,
              "solidity": 0.2
             }
            },
            "type": "barpolar"
           }
          ],
          "carpet": [
           {
            "aaxis": {
             "endlinecolor": "#A2B1C6",
             "gridcolor": "#506784",
             "linecolor": "#506784",
             "minorgridcolor": "#506784",
             "startlinecolor": "#A2B1C6"
            },
            "baxis": {
             "endlinecolor": "#A2B1C6",
             "gridcolor": "#506784",
             "linecolor": "#506784",
             "minorgridcolor": "#506784",
             "startlinecolor": "#A2B1C6"
            },
            "type": "carpet"
           }
          ],
          "choropleth": [
           {
            "colorbar": {
             "outlinewidth": 0,
             "ticks": ""
            },
            "type": "choropleth"
           }
          ],
          "contour": [
           {
            "colorbar": {
             "outlinewidth": 0,
             "ticks": ""
            },
            "colorscale": [
             [
              0,
              "#0d0887"
             ],
             [
              0.1111111111111111,
              "#46039f"
             ],
             [
              0.2222222222222222,
              "#7201a8"
             ],
             [
              0.3333333333333333,
              "#9c179e"
             ],
             [
              0.4444444444444444,
              "#bd3786"
             ],
             [
              0.5555555555555556,
              "#d8576b"
             ],
             [
              0.6666666666666666,
              "#ed7953"
             ],
             [
              0.7777777777777778,
              "#fb9f3a"
             ],
             [
              0.8888888888888888,
              "#fdca26"
             ],
             [
              1,
              "#f0f921"
             ]
            ],
            "type": "contour"
           }
          ],
          "contourcarpet": [
           {
            "colorbar": {
             "outlinewidth": 0,
             "ticks": ""
            },
            "type": "contourcarpet"
           }
          ],
          "heatmap": [
           {
            "colorbar": {
             "outlinewidth": 0,
             "ticks": ""
            },
            "colorscale": [
             [
              0,
              "#0d0887"
             ],
             [
              0.1111111111111111,
              "#46039f"
             ],
             [
              0.2222222222222222,
              "#7201a8"
             ],
             [
              0.3333333333333333,
              "#9c179e"
             ],
             [
              0.4444444444444444,
              "#bd3786"
             ],
             [
              0.5555555555555556,
              "#d8576b"
             ],
             [
              0.6666666666666666,
              "#ed7953"
             ],
             [
              0.7777777777777778,
              "#fb9f3a"
             ],
             [
              0.8888888888888888,
              "#fdca26"
             ],
             [
              1,
              "#f0f921"
             ]
            ],
            "type": "heatmap"
           }
          ],
          "histogram": [
           {
            "marker": {
             "pattern": {
              "fillmode": "overlay",
              "size": 10,
              "solidity": 0.2
             }
            },
            "type": "histogram"
           }
          ],
          "histogram2d": [
           {
            "colorbar": {
             "outlinewidth": 0,
             "ticks": ""
            },
            "colorscale": [
             [
              0,
              "#0d0887"
             ],
             [
              0.1111111111111111,
              "#46039f"
             ],
             [
              0.2222222222222222,
              "#7201a8"
             ],
             [
              0.3333333333333333,
              "#9c179e"
             ],
             [
              0.4444444444444444,
              "#bd3786"
             ],
             [
              0.5555555555555556,
              "#d8576b"
             ],
             [
              0.6666666666666666,
              "#ed7953"
             ],
             [
              0.7777777777777778,
              "#fb9f3a"
             ],
             [
              0.8888888888888888,
              "#fdca26"
             ],
             [
              1,
              "#f0f921"
             ]
            ],
            "type": "histogram2d"
           }
          ],
          "histogram2dcontour": [
           {
            "colorbar": {
             "outlinewidth": 0,
             "ticks": ""
            },
            "colorscale": [
             [
              0,
              "#0d0887"
             ],
             [
              0.1111111111111111,
              "#46039f"
             ],
             [
              0.2222222222222222,
              "#7201a8"
             ],
             [
              0.3333333333333333,
              "#9c179e"
             ],
             [
              0.4444444444444444,
              "#bd3786"
             ],
             [
              0.5555555555555556,
              "#d8576b"
             ],
             [
              0.6666666666666666,
              "#ed7953"
             ],
             [
              0.7777777777777778,
              "#fb9f3a"
             ],
             [
              0.8888888888888888,
              "#fdca26"
             ],
             [
              1,
              "#f0f921"
             ]
            ],
            "type": "histogram2dcontour"
           }
          ],
          "mesh3d": [
           {
            "colorbar": {
             "outlinewidth": 0,
             "ticks": ""
            },
            "type": "mesh3d"
           }
          ],
          "parcoords": [
           {
            "line": {
             "colorbar": {
              "outlinewidth": 0,
              "ticks": ""
             }
            },
            "type": "parcoords"
           }
          ],
          "pie": [
           {
            "automargin": true,
            "type": "pie"
           }
          ],
          "scatter": [
           {
            "marker": {
             "line": {
              "color": "#283442"
             }
            },
            "type": "scatter"
           }
          ],
          "scatter3d": [
           {
            "line": {
             "colorbar": {
              "outlinewidth": 0,
              "ticks": ""
             }
            },
            "marker": {
             "colorbar": {
              "outlinewidth": 0,
              "ticks": ""
             }
            },
            "type": "scatter3d"
           }
          ],
          "scattercarpet": [
           {
            "marker": {
             "colorbar": {
              "outlinewidth": 0,
              "ticks": ""
             }
            },
            "type": "scattercarpet"
           }
          ],
          "scattergeo": [
           {
            "marker": {
             "colorbar": {
              "outlinewidth": 0,
              "ticks": ""
             }
            },
            "type": "scattergeo"
           }
          ],
          "scattergl": [
           {
            "marker": {
             "line": {
              "color": "#283442"
             }
            },
            "type": "scattergl"
           }
          ],
          "scattermap": [
           {
            "marker": {
             "colorbar": {
              "outlinewidth": 0,
              "ticks": ""
             }
            },
            "type": "scattermap"
           }
          ],
          "scattermapbox": [
           {
            "marker": {
             "colorbar": {
              "outlinewidth": 0,
              "ticks": ""
             }
            },
            "type": "scattermapbox"
           }
          ],
          "scatterpolar": [
           {
            "marker": {
             "colorbar": {
              "outlinewidth": 0,
              "ticks": ""
             }
            },
            "type": "scatterpolar"
           }
          ],
          "scatterpolargl": [
           {
            "marker": {
             "colorbar": {
              "outlinewidth": 0,
              "ticks": ""
             }
            },
            "type": "scatterpolargl"
           }
          ],
          "scatterternary": [
           {
            "marker": {
             "colorbar": {
              "outlinewidth": 0,
              "ticks": ""
             }
            },
            "type": "scatterternary"
           }
          ],
          "surface": [
           {
            "colorbar": {
             "outlinewidth": 0,
             "ticks": ""
            },
            "colorscale": [
             [
              0,
              "#0d0887"
             ],
             [
              0.1111111111111111,
              "#46039f"
             ],
             [
              0.2222222222222222,
              "#7201a8"
             ],
             [
              0.3333333333333333,
              "#9c179e"
             ],
             [
              0.4444444444444444,
              "#bd3786"
             ],
             [
              0.5555555555555556,
              "#d8576b"
             ],
             [
              0.6666666666666666,
              "#ed7953"
             ],
             [
              0.7777777777777778,
              "#fb9f3a"
             ],
             [
              0.8888888888888888,
              "#fdca26"
             ],
             [
              1,
              "#f0f921"
             ]
            ],
            "type": "surface"
           }
          ],
          "table": [
           {
            "cells": {
             "fill": {
              "color": "#506784"
             },
             "line": {
              "color": "rgb(17,17,17)"
             }
            },
            "header": {
             "fill": {
              "color": "#2a3f5f"
             },
             "line": {
              "color": "rgb(17,17,17)"
             }
            },
            "type": "table"
           }
          ]
         },
         "layout": {
          "annotationdefaults": {
           "arrowcolor": "#f2f5fa",
           "arrowhead": 0,
           "arrowwidth": 1
          },
          "autotypenumbers": "strict",
          "coloraxis": {
           "colorbar": {
            "outlinewidth": 0,
            "ticks": ""
           }
          },
          "colorscale": {
           "diverging": [
            [
             0,
             "#8e0152"
            ],
            [
             0.1,
             "#c51b7d"
            ],
            [
             0.2,
             "#de77ae"
            ],
            [
             0.3,
             "#f1b6da"
            ],
            [
             0.4,
             "#fde0ef"
            ],
            [
             0.5,
             "#f7f7f7"
            ],
            [
             0.6,
             "#e6f5d0"
            ],
            [
             0.7,
             "#b8e186"
            ],
            [
             0.8,
             "#7fbc41"
            ],
            [
             0.9,
             "#4d9221"
            ],
            [
             1,
             "#276419"
            ]
           ],
           "sequential": [
            [
             0,
             "#0d0887"
            ],
            [
             0.1111111111111111,
             "#46039f"
            ],
            [
             0.2222222222222222,
             "#7201a8"
            ],
            [
             0.3333333333333333,
             "#9c179e"
            ],
            [
             0.4444444444444444,
             "#bd3786"
            ],
            [
             0.5555555555555556,
             "#d8576b"
            ],
            [
             0.6666666666666666,
             "#ed7953"
            ],
            [
             0.7777777777777778,
             "#fb9f3a"
            ],
            [
             0.8888888888888888,
             "#fdca26"
            ],
            [
             1,
             "#f0f921"
            ]
           ],
           "sequentialminus": [
            [
             0,
             "#0d0887"
            ],
            [
             0.1111111111111111,
             "#46039f"
            ],
            [
             0.2222222222222222,
             "#7201a8"
            ],
            [
             0.3333333333333333,
             "#9c179e"
            ],
            [
             0.4444444444444444,
             "#bd3786"
            ],
            [
             0.5555555555555556,
             "#d8576b"
            ],
            [
             0.6666666666666666,
             "#ed7953"
            ],
            [
             0.7777777777777778,
             "#fb9f3a"
            ],
            [
             0.8888888888888888,
             "#fdca26"
            ],
            [
             1,
             "#f0f921"
            ]
           ]
          },
          "colorway": [
           "#636efa",
           "#EF553B",
           "#00cc96",
           "#ab63fa",
           "#FFA15A",
           "#19d3f3",
           "#FF6692",
           "#B6E880",
           "#FF97FF",
           "#FECB52"
          ],
          "font": {
           "color": "#f2f5fa"
          },
          "geo": {
           "bgcolor": "rgb(17,17,17)",
           "lakecolor": "rgb(17,17,17)",
           "landcolor": "rgb(17,17,17)",
           "showlakes": true,
           "showland": true,
           "subunitcolor": "#506784"
          },
          "hoverlabel": {
           "align": "left"
          },
          "hovermode": "closest",
          "mapbox": {
           "style": "dark"
          },
          "paper_bgcolor": "rgb(17,17,17)",
          "plot_bgcolor": "rgb(17,17,17)",
          "polar": {
           "angularaxis": {
            "gridcolor": "#506784",
            "linecolor": "#506784",
            "ticks": ""
           },
           "bgcolor": "rgb(17,17,17)",
           "radialaxis": {
            "gridcolor": "#506784",
            "linecolor": "#506784",
            "ticks": ""
           }
          },
          "scene": {
           "xaxis": {
            "backgroundcolor": "rgb(17,17,17)",
            "gridcolor": "#506784",
            "gridwidth": 2,
            "linecolor": "#506784",
            "showbackground": true,
            "ticks": "",
            "zerolinecolor": "#C8D4E3"
           },
           "yaxis": {
            "backgroundcolor": "rgb(17,17,17)",
            "gridcolor": "#506784",
            "gridwidth": 2,
            "linecolor": "#506784",
            "showbackground": true,
            "ticks": "",
            "zerolinecolor": "#C8D4E3"
           },
           "zaxis": {
            "backgroundcolor": "rgb(17,17,17)",
            "gridcolor": "#506784",
            "gridwidth": 2,
            "linecolor": "#506784",
            "showbackground": true,
            "ticks": "",
            "zerolinecolor": "#C8D4E3"
           }
          },
          "shapedefaults": {
           "line": {
            "color": "#f2f5fa"
           }
          },
          "sliderdefaults": {
           "bgcolor": "#C8D4E3",
           "bordercolor": "rgb(17,17,17)",
           "borderwidth": 1,
           "tickwidth": 0
          },
          "ternary": {
           "aaxis": {
            "gridcolor": "#506784",
            "linecolor": "#506784",
            "ticks": ""
           },
           "baxis": {
            "gridcolor": "#506784",
            "linecolor": "#506784",
            "ticks": ""
           },
           "bgcolor": "rgb(17,17,17)",
           "caxis": {
            "gridcolor": "#506784",
            "linecolor": "#506784",
            "ticks": ""
           }
          },
          "title": {
           "x": 0.05
          },
          "updatemenudefaults": {
           "bgcolor": "#506784",
           "borderwidth": 0
          },
          "xaxis": {
           "automargin": true,
           "gridcolor": "#283442",
           "linecolor": "#506784",
           "ticks": "",
           "title": {
            "standoff": 15
           },
           "zerolinecolor": "#283442",
           "zerolinewidth": 2
          },
          "yaxis": {
           "automargin": true,
           "gridcolor": "#283442",
           "linecolor": "#506784",
           "ticks": "",
           "title": {
            "standoff": 15
           },
           "zerolinecolor": "#283442",
           "zerolinewidth": 2
          }
         }
        },
        "title": {
         "text": "NQ=F Candlestick Chart with EMA (2025-03-10)"
        },
        "xaxis": {
         "rangeslider": {
          "visible": false
         },
         "title": {
          "text": "Time"
         }
        },
        "yaxis": {
         "title": {
          "text": "Price"
         }
        }
       }
      }
     },
     "metadata": {},
     "output_type": "display_data"
    }
   ],
   "source": [
    "plot_candlestick_with_ema(nqdf, day='2025-03-10')"
   ]
  },
  {
   "cell_type": "markdown",
   "metadata": {},
   "source": [
    "From what I've found so far, the reason why EMA is a viable indicator of when to buy and sell solely plays with psychology. (A self fufilling prophecy). This is why you'll see the commonly used EMAs be stronger than others. Since people believe that the EMA acts as support or resistance, there will be those who buy or sell at the EMA, this then is validated moreso by the people who have observed this happening and increase the confidence in the EMA. I think this essentially is my understanding of technical analysis so far. Patterns are inherently ingrained in nature, and moreover we as humans are wired to find patterns in things where patterns may not originally exist. Throughout my math classes I've been introduced to many naturally occuring patterns that are quite amazing such as the fibonacci sequence and the golden ratio. If these patterns are so strongly apparent in so many different aspects of nature-- they must also be apparent in the way we behave as well. The fibonacci trading strategy is one I will attempt to implement in the future."
   ]
  },
  {
   "cell_type": "markdown",
   "metadata": {},
   "source": [
    "### MACD (Moving Average Convergence Divergence) Indicator\n",
    "\n",
    "Also an extremely well regarded technical indicator in making trading decisions. The MACD is a momentum and trend indicator. The MACD illustrates the relationship between two different EMAs (with the default on most trading platforms being 9-12-26).   \n",
    "#### There are three parts to the MACD\n",
    "* MACD Line : 12 EMA - 26 EMA (or whatever you'd like to input, 12 and 26 are just the defaults) The MACD line is the fast line.\n",
    "* The Signal Line : The 9 (orwhatever) period EMA of the MACD line. Acting as the slow line\n",
    "* Histogram: Showing the difference between the two.\n",
    "\n",
    "The most common of buy/sell signals people use with the MACD is when the two lines cross. \n",
    " - MACD crossing above the signal line would be a Bullish Signal\n",
    " - MACD crossing below the signal line would be a Bearish Signal\n",
    " - The Histogram lies on an axis as well staying above or below. So when the two lines cross the Histogram would flip sides, acting as a signal as well"
   ]
  },
  {
   "cell_type": "code",
   "execution_count": 112,
   "metadata": {},
   "outputs": [],
   "source": [
    "def add_macd(df, short_window=12, long_window=26, signal_window=9, prefix=''):\n",
    "    \"\"\"\n",
    "    Add MACD, Signal Line, and MACD Histogram to the DataFrame.\n",
    "\n",
    "    Parameters:\n",
    "    - df (DataFrame): Must contain a 'Close' column.\n",
    "    - short_window (int): Short EMA period.\n",
    "    - long_window (int): Long EMA period.\n",
    "    - signal_window (int): Signal line EMA period.\n",
    "    - prefix (str): Optional prefix to avoid column name collisions (e.g., for multiple MACDs).\n",
    "\n",
    "    Returns:\n",
    "    - df (DataFrame): With added columns: f'{prefix}MACD', f'{prefix}Signal_Line', f'{prefix}MACD_Hist'\n",
    "    \"\"\"\n",
    "    close = df['Close']\n",
    "    ema_short = close.ewm(span=short_window, adjust=False).mean()\n",
    "    ema_long = close.ewm(span=long_window, adjust=False).mean()\n",
    "    macd = ema_short - ema_long\n",
    "    signal = macd.ewm(span=signal_window, adjust=False).mean()\n",
    "    hist = macd - signal\n",
    "\n",
    "    df[f'{prefix}MACD'] = macd\n",
    "    df[f'{prefix}Signal_Line'] = signal\n",
    "    df[f'{prefix}MACD_Hist'] = hist\n",
    "\n",
    "    return df\n",
    "\n",
    "nqdf = add_macd(nqdf, short_window=12, long_window=26, signal_window=9, prefix='')"
   ]
  },
  {
   "cell_type": "code",
   "execution_count": 116,
   "metadata": {},
   "outputs": [],
   "source": [
    "def plot_candlestick_with_indicators(df, indicators=None, day=None, start_time=None, end_time=None):\n",
    "    \"\"\"\n",
    "    Plot candlestick chart with auto-handled indicators including oscillators on a secondary y-axis.\n",
    "\n",
    "    Parameters:\n",
    "    - df: DataFrame with OHLC + indicator columns.\n",
    "    - indicators: List of dicts: {'name': str, 'column': str, 'color': str (optional), 'type': 'trend' or 'oscillator' (optional)}\n",
    "    - day, start_time, end_time: Optional filters.\n",
    "    \"\"\"\n",
    "    df = df.copy()\n",
    "    df.index = pd.to_datetime(df.index)\n",
    "    df = df.dropna(subset=['Open', 'High', 'Low', 'Close'])\n",
    "\n",
    "    # Filter by day\n",
    "    if day is not None:\n",
    "        day = pd.to_datetime(day).date()\n",
    "        df = df[df.index.date == day]\n",
    "\n",
    "    # Filter by time range\n",
    "    if start_time or end_time:\n",
    "        start_time = pd.to_datetime(start_time).time() if start_time else df.index.time.min()\n",
    "        end_time = pd.to_datetime(end_time).time() if end_time else df.index.time.max()\n",
    "        df = df[(df.index.time >= start_time) & (df.index.time <= end_time)]\n",
    "\n",
    "    if df.empty:\n",
    "        print(\"No data for the specified day/time range.\")\n",
    "        return\n",
    "\n",
    "    # Define known oscillators\n",
    "    known_oscillator_keywords = ['MACD', 'SIGNAL', 'RSI', 'STOCH', 'CCI']\n",
    "\n",
    "    # Classify indicators by type\n",
    "    trend_indicators = []\n",
    "    oscillator_indicators = []\n",
    "\n",
    "    for ind in indicators or []:\n",
    "            name = ind.get('name', ind['column'])\n",
    "            column = ind['column']\n",
    "            color = ind.get('color', 'blue')\n",
    "            ind_type = ind.get('type')\n",
    "\n",
    "            # Smarter auto-detection\n",
    "            if not ind_type:\n",
    "                if any(kw in name.upper() or kw in column.upper() for kw in known_oscillator_keywords):\n",
    "                    ind_type = 'oscillator'\n",
    "                else:\n",
    "                    ind_type = 'trend'\n",
    "\n",
    "            # Add to the correct list\n",
    "            if ind_type == 'oscillator':\n",
    "                oscillator_indicators.append({**ind, 'name': name, 'column': column, 'color': color})\n",
    "            else:\n",
    "                trend_indicators.append({**ind, 'name': name, 'column': column, 'color': color})\n",
    "\n",
    "\n",
    "    # Create subplot with or without second row\n",
    "    has_oscillators = len(oscillator_indicators) > 0\n",
    "    row_heights = [0.7, 0.3] if has_oscillators else [1.0]\n",
    "    specs = [[{\"secondary_y\": False}]] if not has_oscillators else [[{\"secondary_y\": False}], [{\"secondary_y\": False}]]\n",
    "\n",
    "    fig = make_subplots(rows=len(row_heights), cols=1,\n",
    "                        shared_xaxes=True,\n",
    "                        vertical_spacing=0.05,\n",
    "                        row_heights=row_heights,\n",
    "                        specs=specs)\n",
    "\n",
    "    # Plot candlestick\n",
    "    fig.add_trace(go.Candlestick(\n",
    "        x=df.index,\n",
    "        open=df['Open'],\n",
    "        high=df['High'],\n",
    "        low=df['Low'],\n",
    "        close=df['Close'],\n",
    "        name='Candles'\n",
    "    ), row=1, col=1)\n",
    "\n",
    "    # Plot trend indicators on main chart\n",
    "    for ind in trend_indicators:\n",
    "        if ind['column'] in df:\n",
    "            fig.add_trace(go.Scatter(\n",
    "                x=df.index,\n",
    "                y=df[ind['column']],\n",
    "                mode='lines',\n",
    "                name=ind['name'],\n",
    "                line=dict(color=ind['color'], width=2)\n",
    "            ), row=1, col=1)\n",
    "\n",
    "    # Plot oscillators below\n",
    "    for ind in oscillator_indicators:\n",
    "        if ind['column'] in df:\n",
    "            fig.add_trace(go.Scatter(\n",
    "                x=df.index,\n",
    "                y=df[ind['column']],\n",
    "                mode='lines',\n",
    "                name=ind['name'],\n",
    "                line=dict(color=ind['color'], width=2)\n",
    "            ), row=2, col=1)\n",
    "\n",
    "    fig.update_layout(\n",
    "        title=f'Candlestick Chart with Indicators ({day})',\n",
    "        xaxis_title='Time',\n",
    "        yaxis_title='Price',\n",
    "        template='plotly_dark',\n",
    "        height=800 if has_oscillators else 700,\n",
    "        xaxis_rangeslider_visible=False\n",
    "    )\n",
    "\n",
    "    fig.show()\n"
   ]
  },
  {
   "cell_type": "code",
   "execution_count": 117,
   "metadata": {},
   "outputs": [
    {
     "data": {
      "text/html": [
       "<div>\n",
       "<style scoped>\n",
       "    .dataframe tbody tr th:only-of-type {\n",
       "        vertical-align: middle;\n",
       "    }\n",
       "\n",
       "    .dataframe tbody tr th {\n",
       "        vertical-align: top;\n",
       "    }\n",
       "\n",
       "    .dataframe thead th {\n",
       "        text-align: right;\n",
       "    }\n",
       "</style>\n",
       "<table border=\"1\" class=\"dataframe\">\n",
       "  <thead>\n",
       "    <tr style=\"text-align: right;\">\n",
       "      <th>Price</th>\n",
       "      <th>Close</th>\n",
       "      <th>High</th>\n",
       "      <th>Low</th>\n",
       "      <th>Open</th>\n",
       "      <th>Volume</th>\n",
       "      <th>Signal</th>\n",
       "      <th>EMA</th>\n",
       "      <th>MACD</th>\n",
       "      <th>Signal_Line</th>\n",
       "      <th>MACD_Hist</th>\n",
       "    </tr>\n",
       "    <tr>\n",
       "      <th>Datetime</th>\n",
       "      <th></th>\n",
       "      <th></th>\n",
       "      <th></th>\n",
       "      <th></th>\n",
       "      <th></th>\n",
       "      <th></th>\n",
       "      <th></th>\n",
       "      <th></th>\n",
       "      <th></th>\n",
       "      <th></th>\n",
       "    </tr>\n",
       "  </thead>\n",
       "  <tbody>\n",
       "    <tr>\n",
       "      <th>2025-02-04 05:00:00+00:00</th>\n",
       "      <td>21306.00</td>\n",
       "      <td>21348.50</td>\n",
       "      <td>21289.00</td>\n",
       "      <td>21301.50</td>\n",
       "      <td>1470</td>\n",
       "      <td>0</td>\n",
       "      <td>21306.000000</td>\n",
       "      <td>0.000000</td>\n",
       "      <td>0.000000</td>\n",
       "      <td>0.000000</td>\n",
       "    </tr>\n",
       "    <tr>\n",
       "      <th>2025-02-04 05:15:00+00:00</th>\n",
       "      <td>21334.50</td>\n",
       "      <td>21344.25</td>\n",
       "      <td>21242.50</td>\n",
       "      <td>21302.50</td>\n",
       "      <td>4369</td>\n",
       "      <td>0</td>\n",
       "      <td>21308.590909</td>\n",
       "      <td>2.273504</td>\n",
       "      <td>0.454701</td>\n",
       "      <td>1.818803</td>\n",
       "    </tr>\n",
       "    <tr>\n",
       "      <th>2025-02-04 05:30:00+00:00</th>\n",
       "      <td>21352.50</td>\n",
       "      <td>21361.50</td>\n",
       "      <td>21317.75</td>\n",
       "      <td>21333.50</td>\n",
       "      <td>2149</td>\n",
       "      <td>0</td>\n",
       "      <td>21312.582645</td>\n",
       "      <td>5.464728</td>\n",
       "      <td>1.456706</td>\n",
       "      <td>4.008022</td>\n",
       "    </tr>\n",
       "    <tr>\n",
       "      <th>2025-02-04 05:45:00+00:00</th>\n",
       "      <td>21358.25</td>\n",
       "      <td>21410.00</td>\n",
       "      <td>21344.00</td>\n",
       "      <td>21354.25</td>\n",
       "      <td>2405</td>\n",
       "      <td>0</td>\n",
       "      <td>21316.734222</td>\n",
       "      <td>8.361389</td>\n",
       "      <td>2.837643</td>\n",
       "      <td>5.523746</td>\n",
       "    </tr>\n",
       "    <tr>\n",
       "      <th>2025-02-04 06:00:00+00:00</th>\n",
       "      <td>21359.75</td>\n",
       "      <td>21374.75</td>\n",
       "      <td>21337.50</td>\n",
       "      <td>21359.25</td>\n",
       "      <td>1395</td>\n",
       "      <td>0</td>\n",
       "      <td>21320.644748</td>\n",
       "      <td>10.655223</td>\n",
       "      <td>4.401159</td>\n",
       "      <td>6.254064</td>\n",
       "    </tr>\n",
       "    <tr>\n",
       "      <th>...</th>\n",
       "      <td>...</td>\n",
       "      <td>...</td>\n",
       "      <td>...</td>\n",
       "      <td>...</td>\n",
       "      <td>...</td>\n",
       "      <td>...</td>\n",
       "      <td>...</td>\n",
       "      <td>...</td>\n",
       "      <td>...</td>\n",
       "      <td>...</td>\n",
       "    </tr>\n",
       "    <tr>\n",
       "      <th>2025-04-01 02:45:00+00:00</th>\n",
       "      <td>19380.00</td>\n",
       "      <td>19381.75</td>\n",
       "      <td>19364.75</td>\n",
       "      <td>19366.25</td>\n",
       "      <td>939</td>\n",
       "      <td>0</td>\n",
       "      <td>19350.019684</td>\n",
       "      <td>8.767421</td>\n",
       "      <td>9.419075</td>\n",
       "      <td>-0.651654</td>\n",
       "    </tr>\n",
       "    <tr>\n",
       "      <th>2025-04-01 03:00:00+00:00</th>\n",
       "      <td>19378.25</td>\n",
       "      <td>19386.75</td>\n",
       "      <td>19373.50</td>\n",
       "      <td>19380.25</td>\n",
       "      <td>778</td>\n",
       "      <td>0</td>\n",
       "      <td>19352.586076</td>\n",
       "      <td>10.031933</td>\n",
       "      <td>9.541647</td>\n",
       "      <td>0.490286</td>\n",
       "    </tr>\n",
       "    <tr>\n",
       "      <th>2025-04-01 03:15:00+00:00</th>\n",
       "      <td>19371.50</td>\n",
       "      <td>19379.25</td>\n",
       "      <td>19367.50</td>\n",
       "      <td>19379.25</td>\n",
       "      <td>665</td>\n",
       "      <td>0</td>\n",
       "      <td>19354.305524</td>\n",
       "      <td>10.369861</td>\n",
       "      <td>9.707290</td>\n",
       "      <td>0.662572</td>\n",
       "    </tr>\n",
       "    <tr>\n",
       "      <th>2025-04-01 03:30:00+00:00</th>\n",
       "      <td>19360.25</td>\n",
       "      <td>19374.25</td>\n",
       "      <td>19354.50</td>\n",
       "      <td>19372.50</td>\n",
       "      <td>1168</td>\n",
       "      <td>0</td>\n",
       "      <td>19354.845931</td>\n",
       "      <td>9.619009</td>\n",
       "      <td>9.689634</td>\n",
       "      <td>-0.070624</td>\n",
       "    </tr>\n",
       "    <tr>\n",
       "      <th>2025-04-01 03:45:00+00:00</th>\n",
       "      <td>19365.00</td>\n",
       "      <td>19369.00</td>\n",
       "      <td>19359.50</td>\n",
       "      <td>19359.50</td>\n",
       "      <td>472</td>\n",
       "      <td>0</td>\n",
       "      <td>19355.769028</td>\n",
       "      <td>9.300034</td>\n",
       "      <td>9.611714</td>\n",
       "      <td>-0.311680</td>\n",
       "    </tr>\n",
       "  </tbody>\n",
       "</table>\n",
       "<p>3559 rows × 10 columns</p>\n",
       "</div>"
      ],
      "text/plain": [
       "Price                         Close      High       Low      Open  Volume  \\\n",
       "Datetime                                                                    \n",
       "2025-02-04 05:00:00+00:00  21306.00  21348.50  21289.00  21301.50    1470   \n",
       "2025-02-04 05:15:00+00:00  21334.50  21344.25  21242.50  21302.50    4369   \n",
       "2025-02-04 05:30:00+00:00  21352.50  21361.50  21317.75  21333.50    2149   \n",
       "2025-02-04 05:45:00+00:00  21358.25  21410.00  21344.00  21354.25    2405   \n",
       "2025-02-04 06:00:00+00:00  21359.75  21374.75  21337.50  21359.25    1395   \n",
       "...                             ...       ...       ...       ...     ...   \n",
       "2025-04-01 02:45:00+00:00  19380.00  19381.75  19364.75  19366.25     939   \n",
       "2025-04-01 03:00:00+00:00  19378.25  19386.75  19373.50  19380.25     778   \n",
       "2025-04-01 03:15:00+00:00  19371.50  19379.25  19367.50  19379.25     665   \n",
       "2025-04-01 03:30:00+00:00  19360.25  19374.25  19354.50  19372.50    1168   \n",
       "2025-04-01 03:45:00+00:00  19365.00  19369.00  19359.50  19359.50     472   \n",
       "\n",
       "Price                      Signal           EMA       MACD  Signal_Line  \\\n",
       "Datetime                                                                  \n",
       "2025-02-04 05:00:00+00:00       0  21306.000000   0.000000     0.000000   \n",
       "2025-02-04 05:15:00+00:00       0  21308.590909   2.273504     0.454701   \n",
       "2025-02-04 05:30:00+00:00       0  21312.582645   5.464728     1.456706   \n",
       "2025-02-04 05:45:00+00:00       0  21316.734222   8.361389     2.837643   \n",
       "2025-02-04 06:00:00+00:00       0  21320.644748  10.655223     4.401159   \n",
       "...                           ...           ...        ...          ...   \n",
       "2025-04-01 02:45:00+00:00       0  19350.019684   8.767421     9.419075   \n",
       "2025-04-01 03:00:00+00:00       0  19352.586076  10.031933     9.541647   \n",
       "2025-04-01 03:15:00+00:00       0  19354.305524  10.369861     9.707290   \n",
       "2025-04-01 03:30:00+00:00       0  19354.845931   9.619009     9.689634   \n",
       "2025-04-01 03:45:00+00:00       0  19355.769028   9.300034     9.611714   \n",
       "\n",
       "Price                      MACD_Hist  \n",
       "Datetime                              \n",
       "2025-02-04 05:00:00+00:00   0.000000  \n",
       "2025-02-04 05:15:00+00:00   1.818803  \n",
       "2025-02-04 05:30:00+00:00   4.008022  \n",
       "2025-02-04 05:45:00+00:00   5.523746  \n",
       "2025-02-04 06:00:00+00:00   6.254064  \n",
       "...                              ...  \n",
       "2025-04-01 02:45:00+00:00  -0.651654  \n",
       "2025-04-01 03:00:00+00:00   0.490286  \n",
       "2025-04-01 03:15:00+00:00   0.662572  \n",
       "2025-04-01 03:30:00+00:00  -0.070624  \n",
       "2025-04-01 03:45:00+00:00  -0.311680  \n",
       "\n",
       "[3559 rows x 10 columns]"
      ]
     },
     "execution_count": 117,
     "metadata": {},
     "output_type": "execute_result"
    }
   ],
   "source": [
    "nqdf"
   ]
  },
  {
   "cell_type": "code",
   "execution_count": 121,
   "metadata": {},
   "outputs": [
    {
     "data": {
      "application/vnd.plotly.v1+json": {
       "config": {
        "plotlyServerURL": "https://plot.ly"
       },
       "data": [
        {
         "close": {
          "bdata": "AAAAAPCS00AAAAAAMI3TQAAAAACQktNAAAAAAICY00AAAAAAsJzTQAAAAADwm9NAAAAAAHCi00AAAAAAcKnTQAAAAABwqNNAAAAAALCm00AAAAAAAKvTQAAAAAAwqtNAAAAAAACm00AAAAAAAKTTQAAAAACQqtNAAAAAAOCm00AAAAAAYKvTQAAAAACwrNNAAAAAABCl00AAAAAAkJ/TQAAAAACgpNNAAAAAAGCn00AAAAAAgKHTQAAAAACwntNAAAAAAOCj00AAAAAA0KPTQAAAAABgpNNAAAAAALCj00AAAAAAIKXTQAAAAADwn9NAAAAAAGCm00AAAAAA0J7TQAAAAACAkdNAAAAAAPCS00AAAAAAUITTQAAAAAAAftNAAAAAAFB900AAAAAA8IrTQAAAAADAkNNAAAAAAICI00AAAAAAQIbTQAAAAAAggtNAAAAAAMB900AAAAAAgIDTQAAAAAAAhdNAAAAAAKCK00AAAAAAkIDTQAAAAADge9NAAAAAAGBw00AAAAAAgGzTQAAAAAAgbdNAAAAAAHBy00AAAAAA4HDTQAAAAACAatNAAAAAAHBq00AAAAAAkFPTQAAAAACAQtNAAAAAAAA100AAAAAAACnTQAAAAACQGNNAAAAAAOAl00AAAAAAICzTQAAAAAAAJdNAAAAAANAg00AAAAAAECbTQAAAAADwHtNAAAAAABAU00AAAAAAsBXTQAAAAADwCtNAAAAAAOAM00AAAAAAUP/SQAAAAABw/NJAAAAAACD/0kAAAAAA0PnSQAAAAABw9tJAAAAAALDi0kAAAAAAIOTSQAAAAACA+tJAAAAAACDx0kAAAAAAEALTQAAAAACQAtNAAAAAAOAF00AAAAAAQATTQAAAAAAABNNAAAAAABDx0kAAAAAAkPbSQAAAAACQ+dJAAAAAACDs0kAAAAAA4OTSQAAAAAAQ3dJAAAAAAIDZ0kAAAAAAENrSQA==",
          "dtype": "f8"
         },
         "high": {
          "bdata": "AAAAAPCW00AAAAAA0JLTQAAAAACAk9NAAAAAAOCY00AAAAAAEKDTQAAAAACAntNAAAAAAHCn00AAAAAAIKrTQAAAAABQq9NAAAAAAJCp00AAAAAAAK/TQAAAAAAArdNAAAAAAPCt00AAAAAA8KfTQAAAAADgqtNAAAAAAJCs00AAAAAAEKzTQAAAAAAgrtNAAAAAAMCs00AAAAAAUKfTQAAAAABAptNAAAAAADCp00AAAAAA8KjTQAAAAADAo9NAAAAAAFCl00AAAAAAEKfTQAAAAACAptNAAAAAAOCm00AAAAAAMKvTQAAAAAAAptNAAAAAAMCn00AAAAAAEKbTQAAAAABApNNAAAAAANCV00AAAAAAAJPTQAAAAACgiNNAAAAAANCF00AAAAAAkI7TQAAAAADgktNAAAAAAMCV00AAAAAAII7TQAAAAACAh9NAAAAAAHCH00AAAAAAwIPTQAAAAABwh9NAAAAAABCN00AAAAAAgIzTQAAAAAAwhNNAAAAAAPB800AAAAAAMHfTQAAAAABwbtNAAAAAAIBz00AAAAAAgHnTQAAAAADgctNAAAAAACBw00AAAAAAoG7TQAAAAADAU9NAAAAAAFBJ00AAAAAAcDzTQAAAAADAL9NAAAAAAKAo00AAAAAAIC3TQAAAAADAPdNAAAAAAFAz00AAAAAAACnTQAAAAABQH9NAAAAAANAt00AAAAAA8B/TQAAAAACwF9NAAAAAAEAY00AAAAAAkA7TQAAAAADABtNAAAAAAAAL00AAAAAA8AbTQAAAAAAAA9NAAAAAAND40kAAAAAAgOnSQAAAAAAAC9NAAAAAANAX00AAAAAAcAjTQAAAAACgBdNAAAAAADAI00AAAAAA4AbTQAAAAACQB9NAAAAAAGAB00AAAAAAcPnSQAAAAAAg/dJAAAAAAED70kAAAAAAQPLSQAAAAAAw5tJAAAAAAJDe0kAAAAAAgODSQA==",
          "dtype": "f8"
         },
         "low": {
          "bdata": "AAAAAFCM00AAAAAAwInTQAAAAADgi9NAAAAAACCR00AAAAAAIJfTQAAAAACgmtNAAAAAAJCb00AAAAAAcKDTQAAAAACgptNAAAAAAFCl00AAAAAAoKXTQAAAAADQqNNAAAAAAMCj00AAAAAAgKHTQAAAAACAo9NAAAAAAFCm00AAAAAAUKbTQAAAAABwqtNAAAAAAECk00AAAAAA0J7TQAAAAACgn9NAAAAAADCk00AAAAAAUKHTQAAAAACAm9NAAAAAAPCe00AAAAAAwKLTQAAAAABQodNAAAAAAFCi00AAAAAAwKLTQAAAAACgndNAAAAAAFCd00AAAAAAUJ7TQAAAAAAAkdNAAAAAAICM00AAAAAAgILTQAAAAABAe9NAAAAAANB700AAAAAA8HzTQAAAAADwitNAAAAAAFCD00AAAAAAgIPTQAAAAADggNNAAAAAAAB800AAAAAAAHnTQAAAAACAedNAAAAAALCA00AAAAAAgH3TQAAAAAAgdNNAAAAAAGBr00AAAAAAwGvTQAAAAABAZdNAAAAAAJBq00AAAAAAwGjTQAAAAABwaNNAAAAAAOBS00AAAAAAEEjTQAAAAACwONNAAAAAAHAz00AAAAAAcCjTQAAAAABAENNAAAAAAIAX00AAAAAAIBrTQAAAAADwINNAAAAAAJAd00AAAAAAgBnTQAAAAACwENNAAAAAANAS00AAAAAAQBPTQAAAAADA/9JAAAAAABAJ00AAAAAAgPvSQAAAAACA99JAAAAAADDx0kAAAAAAcPXSQAAAAADQ79JAAAAAAIDg0kAAAAAAENLSQAAAAABg4tJAAAAAAGDw0kAAAAAAQPDSQAAAAAAQ9tJAAAAAAIAB00AAAAAAgADTQAAAAAAwA9NAAAAAAKDq0kAAAAAAQO/SQAAAAACw89JAAAAAACDs0kAAAAAAUOPSQAAAAACQ1dJAAAAAAFDH0kAAAAAAYNfSQA==",
          "dtype": "f8"
         },
         "name": "Candles",
         "open": {
          "bdata": "AAAAAFCQ00AAAAAAwJLTQAAAAADAjdNAAAAAADCS00AAAAAAwJjTQAAAAAAAndNAAAAAAJCb00AAAAAAkKLTQAAAAABgqdNAAAAAAPCn00AAAAAAkKbTQAAAAABwqtNAAAAAABCq00AAAAAAsKbTQAAAAADQpNNAAAAAAICq00AAAAAAoKfTQAAAAADAq9NAAAAAAICs00AAAAAAAKXTQAAAAACgn9NAAAAAALCk00AAAAAAYKfTQAAAAACAodNAAAAAAPCe00AAAAAAoKPTQAAAAADwo9NAAAAAAOCk00AAAAAAAKTTQAAAAAAgpdNAAAAAABCg00AAAAAAEKbTQAAAAACAn9NAAAAAABCS00AAAAAAAJPTQAAAAABQhNNAAAAAAIB900AAAAAAEH3TQAAAAAAAi9NAAAAAAMCQ00AAAAAAkInTQAAAAABghtNAAAAAAHCB00AAAAAAQH7TQAAAAACwgNNAAAAAAICE00AAAAAAUIrTQAAAAABQgdNAAAAAAPB700AAAAAAAHDTQAAAAABAbNNAAAAAADBt00AAAAAAgHLTQAAAAADQcNNAAAAAAEBq00AAAAAA0GrTQAAAAADAU9NAAAAAAABC00AAAAAAIDXTQAAAAAAAKdNAAAAAAKAY00AAAAAA8CXTQAAAAABgLNNAAAAAAFAl00AAAAAAoCDTQAAAAAAgGNNAAAAAADAf00AAAAAA0BPTQAAAAACgFdNAAAAAANAK00AAAAAA8AzTQAAAAABQ/9JAAAAAAHD80kAAAAAAYP/SQAAAAADw+dJAAAAAAID20kAAAAAAoOLSQAAAAACA5NJAAAAAAHD60kAAAAAAkPDSQAAAAADwAdNAAAAAACAC00AAAAAAIAbTQAAAAABwBNNAAAAAAAD80kAAAAAAMPHSQAAAAAAA99JAAAAAAOD50kAAAAAAYOzSQAAAAACA5NJAAAAAAEDd0kAAAAAAkNnSQA==",
          "dtype": "f8"
         },
         "type": "candlestick",
         "x": [
          "2025-03-10T00:00:00+00:00",
          "2025-03-10T00:15:00+00:00",
          "2025-03-10T00:30:00+00:00",
          "2025-03-10T00:45:00+00:00",
          "2025-03-10T01:00:00+00:00",
          "2025-03-10T01:15:00+00:00",
          "2025-03-10T01:30:00+00:00",
          "2025-03-10T01:45:00+00:00",
          "2025-03-10T02:00:00+00:00",
          "2025-03-10T02:15:00+00:00",
          "2025-03-10T02:30:00+00:00",
          "2025-03-10T02:45:00+00:00",
          "2025-03-10T03:00:00+00:00",
          "2025-03-10T03:15:00+00:00",
          "2025-03-10T03:30:00+00:00",
          "2025-03-10T03:45:00+00:00",
          "2025-03-10T04:00:00+00:00",
          "2025-03-10T04:15:00+00:00",
          "2025-03-10T04:30:00+00:00",
          "2025-03-10T04:45:00+00:00",
          "2025-03-10T05:00:00+00:00",
          "2025-03-10T05:15:00+00:00",
          "2025-03-10T05:30:00+00:00",
          "2025-03-10T05:45:00+00:00",
          "2025-03-10T06:00:00+00:00",
          "2025-03-10T06:15:00+00:00",
          "2025-03-10T06:30:00+00:00",
          "2025-03-10T06:45:00+00:00",
          "2025-03-10T07:00:00+00:00",
          "2025-03-10T07:15:00+00:00",
          "2025-03-10T07:30:00+00:00",
          "2025-03-10T07:45:00+00:00",
          "2025-03-10T08:00:00+00:00",
          "2025-03-10T08:15:00+00:00",
          "2025-03-10T08:30:00+00:00",
          "2025-03-10T08:45:00+00:00",
          "2025-03-10T09:00:00+00:00",
          "2025-03-10T09:15:00+00:00",
          "2025-03-10T09:30:00+00:00",
          "2025-03-10T09:45:00+00:00",
          "2025-03-10T10:00:00+00:00",
          "2025-03-10T10:15:00+00:00",
          "2025-03-10T10:30:00+00:00",
          "2025-03-10T10:45:00+00:00",
          "2025-03-10T11:00:00+00:00",
          "2025-03-10T11:15:00+00:00",
          "2025-03-10T11:30:00+00:00",
          "2025-03-10T11:45:00+00:00",
          "2025-03-10T12:00:00+00:00",
          "2025-03-10T12:15:00+00:00",
          "2025-03-10T12:30:00+00:00",
          "2025-03-10T12:45:00+00:00",
          "2025-03-10T13:00:00+00:00",
          "2025-03-10T13:15:00+00:00",
          "2025-03-10T13:30:00+00:00",
          "2025-03-10T13:45:00+00:00",
          "2025-03-10T14:00:00+00:00",
          "2025-03-10T14:15:00+00:00",
          "2025-03-10T14:30:00+00:00",
          "2025-03-10T14:45:00+00:00",
          "2025-03-10T15:00:00+00:00",
          "2025-03-10T15:15:00+00:00",
          "2025-03-10T15:30:00+00:00",
          "2025-03-10T15:45:00+00:00",
          "2025-03-10T16:00:00+00:00",
          "2025-03-10T16:15:00+00:00",
          "2025-03-10T16:30:00+00:00",
          "2025-03-10T16:45:00+00:00",
          "2025-03-10T17:00:00+00:00",
          "2025-03-10T17:15:00+00:00",
          "2025-03-10T17:30:00+00:00",
          "2025-03-10T17:45:00+00:00",
          "2025-03-10T18:00:00+00:00",
          "2025-03-10T18:15:00+00:00",
          "2025-03-10T18:30:00+00:00",
          "2025-03-10T18:45:00+00:00",
          "2025-03-10T19:00:00+00:00",
          "2025-03-10T19:15:00+00:00",
          "2025-03-10T19:30:00+00:00",
          "2025-03-10T19:45:00+00:00",
          "2025-03-10T20:00:00+00:00",
          "2025-03-10T20:15:00+00:00",
          "2025-03-10T20:30:00+00:00",
          "2025-03-10T20:45:00+00:00",
          "2025-03-10T22:00:00+00:00",
          "2025-03-10T22:15:00+00:00",
          "2025-03-10T22:30:00+00:00",
          "2025-03-10T22:45:00+00:00",
          "2025-03-10T23:00:00+00:00",
          "2025-03-10T23:15:00+00:00",
          "2025-03-10T23:30:00+00:00",
          "2025-03-10T23:45:00+00:00"
         ],
         "xaxis": "x",
         "yaxis": "y"
        },
        {
         "line": {
          "color": "orange",
          "width": 2
         },
         "mode": "lines",
         "name": "EMA",
         "type": "scatter",
         "x": [
          "2025-03-10T00:00:00+00:00",
          "2025-03-10T00:15:00+00:00",
          "2025-03-10T00:30:00+00:00",
          "2025-03-10T00:45:00+00:00",
          "2025-03-10T01:00:00+00:00",
          "2025-03-10T01:15:00+00:00",
          "2025-03-10T01:30:00+00:00",
          "2025-03-10T01:45:00+00:00",
          "2025-03-10T02:00:00+00:00",
          "2025-03-10T02:15:00+00:00",
          "2025-03-10T02:30:00+00:00",
          "2025-03-10T02:45:00+00:00",
          "2025-03-10T03:00:00+00:00",
          "2025-03-10T03:15:00+00:00",
          "2025-03-10T03:30:00+00:00",
          "2025-03-10T03:45:00+00:00",
          "2025-03-10T04:00:00+00:00",
          "2025-03-10T04:15:00+00:00",
          "2025-03-10T04:30:00+00:00",
          "2025-03-10T04:45:00+00:00",
          "2025-03-10T05:00:00+00:00",
          "2025-03-10T05:15:00+00:00",
          "2025-03-10T05:30:00+00:00",
          "2025-03-10T05:45:00+00:00",
          "2025-03-10T06:00:00+00:00",
          "2025-03-10T06:15:00+00:00",
          "2025-03-10T06:30:00+00:00",
          "2025-03-10T06:45:00+00:00",
          "2025-03-10T07:00:00+00:00",
          "2025-03-10T07:15:00+00:00",
          "2025-03-10T07:30:00+00:00",
          "2025-03-10T07:45:00+00:00",
          "2025-03-10T08:00:00+00:00",
          "2025-03-10T08:15:00+00:00",
          "2025-03-10T08:30:00+00:00",
          "2025-03-10T08:45:00+00:00",
          "2025-03-10T09:00:00+00:00",
          "2025-03-10T09:15:00+00:00",
          "2025-03-10T09:30:00+00:00",
          "2025-03-10T09:45:00+00:00",
          "2025-03-10T10:00:00+00:00",
          "2025-03-10T10:15:00+00:00",
          "2025-03-10T10:30:00+00:00",
          "2025-03-10T10:45:00+00:00",
          "2025-03-10T11:00:00+00:00",
          "2025-03-10T11:15:00+00:00",
          "2025-03-10T11:30:00+00:00",
          "2025-03-10T11:45:00+00:00",
          "2025-03-10T12:00:00+00:00",
          "2025-03-10T12:15:00+00:00",
          "2025-03-10T12:30:00+00:00",
          "2025-03-10T12:45:00+00:00",
          "2025-03-10T13:00:00+00:00",
          "2025-03-10T13:15:00+00:00",
          "2025-03-10T13:30:00+00:00",
          "2025-03-10T13:45:00+00:00",
          "2025-03-10T14:00:00+00:00",
          "2025-03-10T14:15:00+00:00",
          "2025-03-10T14:30:00+00:00",
          "2025-03-10T14:45:00+00:00",
          "2025-03-10T15:00:00+00:00",
          "2025-03-10T15:15:00+00:00",
          "2025-03-10T15:30:00+00:00",
          "2025-03-10T15:45:00+00:00",
          "2025-03-10T16:00:00+00:00",
          "2025-03-10T16:15:00+00:00",
          "2025-03-10T16:30:00+00:00",
          "2025-03-10T16:45:00+00:00",
          "2025-03-10T17:00:00+00:00",
          "2025-03-10T17:15:00+00:00",
          "2025-03-10T17:30:00+00:00",
          "2025-03-10T17:45:00+00:00",
          "2025-03-10T18:00:00+00:00",
          "2025-03-10T18:15:00+00:00",
          "2025-03-10T18:30:00+00:00",
          "2025-03-10T18:45:00+00:00",
          "2025-03-10T19:00:00+00:00",
          "2025-03-10T19:15:00+00:00",
          "2025-03-10T19:30:00+00:00",
          "2025-03-10T19:45:00+00:00",
          "2025-03-10T20:00:00+00:00",
          "2025-03-10T20:15:00+00:00",
          "2025-03-10T20:30:00+00:00",
          "2025-03-10T20:45:00+00:00",
          "2025-03-10T22:00:00+00:00",
          "2025-03-10T22:15:00+00:00",
          "2025-03-10T22:30:00+00:00",
          "2025-03-10T22:45:00+00:00",
          "2025-03-10T23:00:00+00:00",
          "2025-03-10T23:15:00+00:00",
          "2025-03-10T23:30:00+00:00",
          "2025-03-10T23:45:00+00:00"
         ],
         "xaxis": "x",
         "y": {
          "bdata": "boahlS6d00B7kXtZupvTQIebhwvlmtNA77tMUK2a00DCTXQa3JrTQDx1Ui/1mtNANvZKQqOb00COyM9q5JzTQMeHSBvxndNAb3twpLye00DCntoJ2p/TQDwzmJTKoNNAZXTnzEOh00CKUnV0g6HTQGa/xwxWotNAFwuHrr+i00D9rB1wiKPTQCxAMn1dpNNAywuit22k00DnxGR4/KPTQBgQLVYLpNNAuWv62Vik00BL1p2XFqTTQESU7OaYo9NA+ECRXZ+j00CzxmzJo6PTQKO0qOW0o9NAN6Swc7Sj00CmCXKA1aPTQMUI3NF6o9NAPx8lM76j00DzSlB0S6PTQPSJd1KtodNA3k74Slag00Cb6psVyp3TQLumMELmmtNAwVGJsDWY00DeeAjPAJfTQBAo2UdvltNAyZh/+yqV00BxuVzNz5PTQAl6Di80ktNAq1fHKliQ00BtOLVs547TQEwzdu4AjtNA/6IlTbKN00DofDmjgIzTQBmgqKv9itNA/2L2PpKI00DQn2vzBIbTQOsceZfBg9NAvuuziS6C00DEpwDDm4DTQLJS6TyZftNAohzUCMR800Afd0wfBXnTQByy/0oQdNNApYpFoVRu00A5OD8eB2jTQJEEaL7NYNNAhHgBUHJb00B4EOoCJVfTQIQ9pgKWUtNAMk9RpQ9O00DQjdXEbErTQHev8LJ4RtNA+HBmi+NB00D5fdHb3j3TQPlDBII9OdNAEVXVATU100APNtm7TjDTQIKlf5OXK9NAdpaitIwn00CCcR9HZCPTQLyVHBJOH9NAH4hIVssZ00C/e3BO6hTTQH9wII2DEtNALQlMgHoP00D6kxZGQg7TQFfMKxEyDdNAT+iEsocM00BfjWH/xgvTQOL0b/8RC9NAzZirubQI00AA6D56DgfTQC7qIW/UBdNAKux7Nn4D00A9BeWltQDTQJRKLQt4/dJAElvj8jL60kDKUloLR/fSQA==",
          "dtype": "f8"
         },
         "yaxis": "y"
        },
        {
         "line": {
          "color": "cyan",
          "width": 2
         },
         "mode": "lines",
         "name": "MACD",
         "type": "scatter",
         "x": [
          "2025-03-10T00:00:00+00:00",
          "2025-03-10T00:15:00+00:00",
          "2025-03-10T00:30:00+00:00",
          "2025-03-10T00:45:00+00:00",
          "2025-03-10T01:00:00+00:00",
          "2025-03-10T01:15:00+00:00",
          "2025-03-10T01:30:00+00:00",
          "2025-03-10T01:45:00+00:00",
          "2025-03-10T02:00:00+00:00",
          "2025-03-10T02:15:00+00:00",
          "2025-03-10T02:30:00+00:00",
          "2025-03-10T02:45:00+00:00",
          "2025-03-10T03:00:00+00:00",
          "2025-03-10T03:15:00+00:00",
          "2025-03-10T03:30:00+00:00",
          "2025-03-10T03:45:00+00:00",
          "2025-03-10T04:00:00+00:00",
          "2025-03-10T04:15:00+00:00",
          "2025-03-10T04:30:00+00:00",
          "2025-03-10T04:45:00+00:00",
          "2025-03-10T05:00:00+00:00",
          "2025-03-10T05:15:00+00:00",
          "2025-03-10T05:30:00+00:00",
          "2025-03-10T05:45:00+00:00",
          "2025-03-10T06:00:00+00:00",
          "2025-03-10T06:15:00+00:00",
          "2025-03-10T06:30:00+00:00",
          "2025-03-10T06:45:00+00:00",
          "2025-03-10T07:00:00+00:00",
          "2025-03-10T07:15:00+00:00",
          "2025-03-10T07:30:00+00:00",
          "2025-03-10T07:45:00+00:00",
          "2025-03-10T08:00:00+00:00",
          "2025-03-10T08:15:00+00:00",
          "2025-03-10T08:30:00+00:00",
          "2025-03-10T08:45:00+00:00",
          "2025-03-10T09:00:00+00:00",
          "2025-03-10T09:15:00+00:00",
          "2025-03-10T09:30:00+00:00",
          "2025-03-10T09:45:00+00:00",
          "2025-03-10T10:00:00+00:00",
          "2025-03-10T10:15:00+00:00",
          "2025-03-10T10:30:00+00:00",
          "2025-03-10T10:45:00+00:00",
          "2025-03-10T11:00:00+00:00",
          "2025-03-10T11:15:00+00:00",
          "2025-03-10T11:30:00+00:00",
          "2025-03-10T11:45:00+00:00",
          "2025-03-10T12:00:00+00:00",
          "2025-03-10T12:15:00+00:00",
          "2025-03-10T12:30:00+00:00",
          "2025-03-10T12:45:00+00:00",
          "2025-03-10T13:00:00+00:00",
          "2025-03-10T13:15:00+00:00",
          "2025-03-10T13:30:00+00:00",
          "2025-03-10T13:45:00+00:00",
          "2025-03-10T14:00:00+00:00",
          "2025-03-10T14:15:00+00:00",
          "2025-03-10T14:30:00+00:00",
          "2025-03-10T14:45:00+00:00",
          "2025-03-10T15:00:00+00:00",
          "2025-03-10T15:15:00+00:00",
          "2025-03-10T15:30:00+00:00",
          "2025-03-10T15:45:00+00:00",
          "2025-03-10T16:00:00+00:00",
          "2025-03-10T16:15:00+00:00",
          "2025-03-10T16:30:00+00:00",
          "2025-03-10T16:45:00+00:00",
          "2025-03-10T17:00:00+00:00",
          "2025-03-10T17:15:00+00:00",
          "2025-03-10T17:30:00+00:00",
          "2025-03-10T17:45:00+00:00",
          "2025-03-10T18:00:00+00:00",
          "2025-03-10T18:15:00+00:00",
          "2025-03-10T18:30:00+00:00",
          "2025-03-10T18:45:00+00:00",
          "2025-03-10T19:00:00+00:00",
          "2025-03-10T19:15:00+00:00",
          "2025-03-10T19:30:00+00:00",
          "2025-03-10T19:45:00+00:00",
          "2025-03-10T20:00:00+00:00",
          "2025-03-10T20:15:00+00:00",
          "2025-03-10T20:30:00+00:00",
          "2025-03-10T20:45:00+00:00",
          "2025-03-10T22:00:00+00:00",
          "2025-03-10T22:15:00+00:00",
          "2025-03-10T22:30:00+00:00",
          "2025-03-10T22:45:00+00:00",
          "2025-03-10T23:00:00+00:00",
          "2025-03-10T23:15:00+00:00",
          "2025-03-10T23:30:00+00:00",
          "2025-03-10T23:45:00+00:00"
         ],
         "xaxis": "x2",
         "y": {
          "bdata": "AGRGrFROM8AAqMxkybU1wAA0CVOUoTXAAPxUfKBtM8AA/HqlCiUwwADAK5lBQSvAAOAYgA3aIsAA4KY7G1gOwAAA9lV6CdY/AMAigCcwCEAAgIeVV9sZQABo599opyFAAKDF+5R7IkAAoAJvJaUhQAAIj+HM+SRAALgaezP+JEAA+CODlaMnQAAQ5LXCRypAAAg3WyMvJ0AAgDav8vsgQADgZbfmUx5AABAZ+MejHkAAkLGJVwkXQAAgvM1YdApAAKBetkgGCEAAoCMY+68FQACgv0iLCwVAAEB/+wmMAkAAwAYgSgwEQAAAhTtvA+8/AEDvyFPu/D8AADioD0ugPwBAiFq8bhbAACB0kjUCI8AAKFuifx0xwAAUALC75TjAACx0ByDuPsAAfL5Z5/Q+wACsh08ZxTzAACRLs3xcPcAAKOSnOzU+wACsa6Hg1z/AAI5heS0UQcAAAO8QIVpBwACUol6EpkDAAAT8vfMGPsAATMHAtFQ+wACkUTALuD/AAN5UqaYOQsAARISdCzFEwAAiG9SyiEXAAOimwCN+RcAASiN0+3ZFwAB4UzghN0bAAOLvMGqPRsAAoBHTDjlKwAC8XLwQhE/AAJTalY+6UsAAGL1W1sxVwACgOIjyRFnAAPLYPS2jWsAAUijnOehawACJ0KpUYVvAAH5QuNnFW8AA5GodXlhbwAAUvYhRRFvAAFR/7SXDW8AATup5VrRbwAA1BlFxM1zAAIVzuC8dXMAA3m7Zss5cwAAWd/xxQF3AAEdDZVcNXcAA4ixoCf1cwAAx/ISd4FzAAEg52m0JXsAAuzyX/XxewACarWSmtVzAAPKdEZm8W8AA6FlUqU5ZwAAXufhYE1fAAL3gH8XMVMAAsp2z1uhSwACoSx2hO1HAALlSdtA7UcAAxvfvXJlQwAA0PpPKWE/AAFyNL9uuT8AA9b73+15QwACxyQ35OFHAALnS40T6UcAAeRL/xlFSwA==",
          "dtype": "f8"
         },
         "yaxis": "y2"
        },
        {
         "line": {
          "color": "magenta",
          "width": 2
         },
         "mode": "lines",
         "name": "Signal Line",
         "type": "scatter",
         "x": [
          "2025-03-10T00:00:00+00:00",
          "2025-03-10T00:15:00+00:00",
          "2025-03-10T00:30:00+00:00",
          "2025-03-10T00:45:00+00:00",
          "2025-03-10T01:00:00+00:00",
          "2025-03-10T01:15:00+00:00",
          "2025-03-10T01:30:00+00:00",
          "2025-03-10T01:45:00+00:00",
          "2025-03-10T02:00:00+00:00",
          "2025-03-10T02:15:00+00:00",
          "2025-03-10T02:30:00+00:00",
          "2025-03-10T02:45:00+00:00",
          "2025-03-10T03:00:00+00:00",
          "2025-03-10T03:15:00+00:00",
          "2025-03-10T03:30:00+00:00",
          "2025-03-10T03:45:00+00:00",
          "2025-03-10T04:00:00+00:00",
          "2025-03-10T04:15:00+00:00",
          "2025-03-10T04:30:00+00:00",
          "2025-03-10T04:45:00+00:00",
          "2025-03-10T05:00:00+00:00",
          "2025-03-10T05:15:00+00:00",
          "2025-03-10T05:30:00+00:00",
          "2025-03-10T05:45:00+00:00",
          "2025-03-10T06:00:00+00:00",
          "2025-03-10T06:15:00+00:00",
          "2025-03-10T06:30:00+00:00",
          "2025-03-10T06:45:00+00:00",
          "2025-03-10T07:00:00+00:00",
          "2025-03-10T07:15:00+00:00",
          "2025-03-10T07:30:00+00:00",
          "2025-03-10T07:45:00+00:00",
          "2025-03-10T08:00:00+00:00",
          "2025-03-10T08:15:00+00:00",
          "2025-03-10T08:30:00+00:00",
          "2025-03-10T08:45:00+00:00",
          "2025-03-10T09:00:00+00:00",
          "2025-03-10T09:15:00+00:00",
          "2025-03-10T09:30:00+00:00",
          "2025-03-10T09:45:00+00:00",
          "2025-03-10T10:00:00+00:00",
          "2025-03-10T10:15:00+00:00",
          "2025-03-10T10:30:00+00:00",
          "2025-03-10T10:45:00+00:00",
          "2025-03-10T11:00:00+00:00",
          "2025-03-10T11:15:00+00:00",
          "2025-03-10T11:30:00+00:00",
          "2025-03-10T11:45:00+00:00",
          "2025-03-10T12:00:00+00:00",
          "2025-03-10T12:15:00+00:00",
          "2025-03-10T12:30:00+00:00",
          "2025-03-10T12:45:00+00:00",
          "2025-03-10T13:00:00+00:00",
          "2025-03-10T13:15:00+00:00",
          "2025-03-10T13:30:00+00:00",
          "2025-03-10T13:45:00+00:00",
          "2025-03-10T14:00:00+00:00",
          "2025-03-10T14:15:00+00:00",
          "2025-03-10T14:30:00+00:00",
          "2025-03-10T14:45:00+00:00",
          "2025-03-10T15:00:00+00:00",
          "2025-03-10T15:15:00+00:00",
          "2025-03-10T15:30:00+00:00",
          "2025-03-10T15:45:00+00:00",
          "2025-03-10T16:00:00+00:00",
          "2025-03-10T16:15:00+00:00",
          "2025-03-10T16:30:00+00:00",
          "2025-03-10T16:45:00+00:00",
          "2025-03-10T17:00:00+00:00",
          "2025-03-10T17:15:00+00:00",
          "2025-03-10T17:30:00+00:00",
          "2025-03-10T17:45:00+00:00",
          "2025-03-10T18:00:00+00:00",
          "2025-03-10T18:15:00+00:00",
          "2025-03-10T18:30:00+00:00",
          "2025-03-10T18:45:00+00:00",
          "2025-03-10T19:00:00+00:00",
          "2025-03-10T19:15:00+00:00",
          "2025-03-10T19:30:00+00:00",
          "2025-03-10T19:45:00+00:00",
          "2025-03-10T20:00:00+00:00",
          "2025-03-10T20:15:00+00:00",
          "2025-03-10T20:30:00+00:00",
          "2025-03-10T20:45:00+00:00",
          "2025-03-10T22:00:00+00:00",
          "2025-03-10T22:15:00+00:00",
          "2025-03-10T22:30:00+00:00",
          "2025-03-10T22:45:00+00:00",
          "2025-03-10T23:00:00+00:00",
          "2025-03-10T23:15:00+00:00",
          "2025-03-10T23:30:00+00:00",
          "2025-03-10T23:45:00+00:00"
         ],
         "xaxis": "x2",
         "y": {
          "bdata": "RelKRQQ4D8DpFig5CdsdwF2E4AQ/mCTAfpvVaD8/KMDMekLJA9spwHBVpL+pIirAjdfusr2tKMA+0e0emUIlwJjqZ7vR3iDAjcqiOOWSGMAVRM4esvkMwO8sPv5BHfK/tlF7KHMp7j++9k3HASYEQEzMvnYfcxBApIbWKZSOFUAdAroif7MaQLGhiWSA3x9AFA9CB9RiIUBDvz+PQE4hQJxi8ISX4CBA4zYpA9qQIEBsQTK61BwfQPCdVHYZiRtA9CdN105uGEDEfHT7pLYVQGqNo4OreRNAiPd1AldvEUCn5Yo9zecPQCBez402EwtA5wTxa5qNCECG/eBihLEDQEcrKUV6IOs/F1WpziSQ87+eymre05oRwHO/Kmw5ACHAKRG3jAf5KcARhqKwl5QwwNvANp2xBDPAFjuhoUAWNcDf0OGiP+k2wBlj/QiTsjjAFYi+N+6WOsARoJFmZTY8wEG76HfsOj3AzskfubpjPcByfaa67JM9wFy4yGuMAT7AF7n1mUw6P8CjVxZdh4dAwIPmsEHDh0HANk0VW6NSQsDFf37GgfNCwDd+D6qhmkPA+V48+PwxRMAunwAkmmZFwCXY36h+bEfAHuhwKQU7SsBMw3LdWbRNwLgHBqeH71DALdDJXkLgUsCLUHbgc3tUwAmPu9Wg3FXAbljZz0ULV8C/2lzffedXwGYZcDSok1jAHyVzWcE2WcCzkySTRbZZwMOAHrm0NVrAaU78uDOXWsAha0aMswhbwLXzHAlAelvAkTe+Tt7KW8B1JqEgGghcwCvCGZtnM1zA8Nzs2miRXMCNPGPNufNcwNjoPoVP51zAercebpGrXMBi9JACY/9bwE/7mABhA1vAQFWn00HFWcDNZ6Uz+WVYwNinxsga91bAet4VhaXRVcAvc6nNY8ZUwCYudOYwwVPAH66Eo9b4UsDmVZDnqnNSwLgBz4i6NFLA+r/PZwkpUsAvGN1SLzFSwA==",
          "dtype": "f8"
         },
         "yaxis": "y2"
        }
       ],
       "layout": {
        "height": 800,
        "template": {
         "data": {
          "bar": [
           {
            "error_x": {
             "color": "#f2f5fa"
            },
            "error_y": {
             "color": "#f2f5fa"
            },
            "marker": {
             "line": {
              "color": "rgb(17,17,17)",
              "width": 0.5
             },
             "pattern": {
              "fillmode": "overlay",
              "size": 10,
              "solidity": 0.2
             }
            },
            "type": "bar"
           }
          ],
          "barpolar": [
           {
            "marker": {
             "line": {
              "color": "rgb(17,17,17)",
              "width": 0.5
             },
             "pattern": {
              "fillmode": "overlay",
              "size": 10,
              "solidity": 0.2
             }
            },
            "type": "barpolar"
           }
          ],
          "carpet": [
           {
            "aaxis": {
             "endlinecolor": "#A2B1C6",
             "gridcolor": "#506784",
             "linecolor": "#506784",
             "minorgridcolor": "#506784",
             "startlinecolor": "#A2B1C6"
            },
            "baxis": {
             "endlinecolor": "#A2B1C6",
             "gridcolor": "#506784",
             "linecolor": "#506784",
             "minorgridcolor": "#506784",
             "startlinecolor": "#A2B1C6"
            },
            "type": "carpet"
           }
          ],
          "choropleth": [
           {
            "colorbar": {
             "outlinewidth": 0,
             "ticks": ""
            },
            "type": "choropleth"
           }
          ],
          "contour": [
           {
            "colorbar": {
             "outlinewidth": 0,
             "ticks": ""
            },
            "colorscale": [
             [
              0,
              "#0d0887"
             ],
             [
              0.1111111111111111,
              "#46039f"
             ],
             [
              0.2222222222222222,
              "#7201a8"
             ],
             [
              0.3333333333333333,
              "#9c179e"
             ],
             [
              0.4444444444444444,
              "#bd3786"
             ],
             [
              0.5555555555555556,
              "#d8576b"
             ],
             [
              0.6666666666666666,
              "#ed7953"
             ],
             [
              0.7777777777777778,
              "#fb9f3a"
             ],
             [
              0.8888888888888888,
              "#fdca26"
             ],
             [
              1,
              "#f0f921"
             ]
            ],
            "type": "contour"
           }
          ],
          "contourcarpet": [
           {
            "colorbar": {
             "outlinewidth": 0,
             "ticks": ""
            },
            "type": "contourcarpet"
           }
          ],
          "heatmap": [
           {
            "colorbar": {
             "outlinewidth": 0,
             "ticks": ""
            },
            "colorscale": [
             [
              0,
              "#0d0887"
             ],
             [
              0.1111111111111111,
              "#46039f"
             ],
             [
              0.2222222222222222,
              "#7201a8"
             ],
             [
              0.3333333333333333,
              "#9c179e"
             ],
             [
              0.4444444444444444,
              "#bd3786"
             ],
             [
              0.5555555555555556,
              "#d8576b"
             ],
             [
              0.6666666666666666,
              "#ed7953"
             ],
             [
              0.7777777777777778,
              "#fb9f3a"
             ],
             [
              0.8888888888888888,
              "#fdca26"
             ],
             [
              1,
              "#f0f921"
             ]
            ],
            "type": "heatmap"
           }
          ],
          "histogram": [
           {
            "marker": {
             "pattern": {
              "fillmode": "overlay",
              "size": 10,
              "solidity": 0.2
             }
            },
            "type": "histogram"
           }
          ],
          "histogram2d": [
           {
            "colorbar": {
             "outlinewidth": 0,
             "ticks": ""
            },
            "colorscale": [
             [
              0,
              "#0d0887"
             ],
             [
              0.1111111111111111,
              "#46039f"
             ],
             [
              0.2222222222222222,
              "#7201a8"
             ],
             [
              0.3333333333333333,
              "#9c179e"
             ],
             [
              0.4444444444444444,
              "#bd3786"
             ],
             [
              0.5555555555555556,
              "#d8576b"
             ],
             [
              0.6666666666666666,
              "#ed7953"
             ],
             [
              0.7777777777777778,
              "#fb9f3a"
             ],
             [
              0.8888888888888888,
              "#fdca26"
             ],
             [
              1,
              "#f0f921"
             ]
            ],
            "type": "histogram2d"
           }
          ],
          "histogram2dcontour": [
           {
            "colorbar": {
             "outlinewidth": 0,
             "ticks": ""
            },
            "colorscale": [
             [
              0,
              "#0d0887"
             ],
             [
              0.1111111111111111,
              "#46039f"
             ],
             [
              0.2222222222222222,
              "#7201a8"
             ],
             [
              0.3333333333333333,
              "#9c179e"
             ],
             [
              0.4444444444444444,
              "#bd3786"
             ],
             [
              0.5555555555555556,
              "#d8576b"
             ],
             [
              0.6666666666666666,
              "#ed7953"
             ],
             [
              0.7777777777777778,
              "#fb9f3a"
             ],
             [
              0.8888888888888888,
              "#fdca26"
             ],
             [
              1,
              "#f0f921"
             ]
            ],
            "type": "histogram2dcontour"
           }
          ],
          "mesh3d": [
           {
            "colorbar": {
             "outlinewidth": 0,
             "ticks": ""
            },
            "type": "mesh3d"
           }
          ],
          "parcoords": [
           {
            "line": {
             "colorbar": {
              "outlinewidth": 0,
              "ticks": ""
             }
            },
            "type": "parcoords"
           }
          ],
          "pie": [
           {
            "automargin": true,
            "type": "pie"
           }
          ],
          "scatter": [
           {
            "marker": {
             "line": {
              "color": "#283442"
             }
            },
            "type": "scatter"
           }
          ],
          "scatter3d": [
           {
            "line": {
             "colorbar": {
              "outlinewidth": 0,
              "ticks": ""
             }
            },
            "marker": {
             "colorbar": {
              "outlinewidth": 0,
              "ticks": ""
             }
            },
            "type": "scatter3d"
           }
          ],
          "scattercarpet": [
           {
            "marker": {
             "colorbar": {
              "outlinewidth": 0,
              "ticks": ""
             }
            },
            "type": "scattercarpet"
           }
          ],
          "scattergeo": [
           {
            "marker": {
             "colorbar": {
              "outlinewidth": 0,
              "ticks": ""
             }
            },
            "type": "scattergeo"
           }
          ],
          "scattergl": [
           {
            "marker": {
             "line": {
              "color": "#283442"
             }
            },
            "type": "scattergl"
           }
          ],
          "scattermap": [
           {
            "marker": {
             "colorbar": {
              "outlinewidth": 0,
              "ticks": ""
             }
            },
            "type": "scattermap"
           }
          ],
          "scattermapbox": [
           {
            "marker": {
             "colorbar": {
              "outlinewidth": 0,
              "ticks": ""
             }
            },
            "type": "scattermapbox"
           }
          ],
          "scatterpolar": [
           {
            "marker": {
             "colorbar": {
              "outlinewidth": 0,
              "ticks": ""
             }
            },
            "type": "scatterpolar"
           }
          ],
          "scatterpolargl": [
           {
            "marker": {
             "colorbar": {
              "outlinewidth": 0,
              "ticks": ""
             }
            },
            "type": "scatterpolargl"
           }
          ],
          "scatterternary": [
           {
            "marker": {
             "colorbar": {
              "outlinewidth": 0,
              "ticks": ""
             }
            },
            "type": "scatterternary"
           }
          ],
          "surface": [
           {
            "colorbar": {
             "outlinewidth": 0,
             "ticks": ""
            },
            "colorscale": [
             [
              0,
              "#0d0887"
             ],
             [
              0.1111111111111111,
              "#46039f"
             ],
             [
              0.2222222222222222,
              "#7201a8"
             ],
             [
              0.3333333333333333,
              "#9c179e"
             ],
             [
              0.4444444444444444,
              "#bd3786"
             ],
             [
              0.5555555555555556,
              "#d8576b"
             ],
             [
              0.6666666666666666,
              "#ed7953"
             ],
             [
              0.7777777777777778,
              "#fb9f3a"
             ],
             [
              0.8888888888888888,
              "#fdca26"
             ],
             [
              1,
              "#f0f921"
             ]
            ],
            "type": "surface"
           }
          ],
          "table": [
           {
            "cells": {
             "fill": {
              "color": "#506784"
             },
             "line": {
              "color": "rgb(17,17,17)"
             }
            },
            "header": {
             "fill": {
              "color": "#2a3f5f"
             },
             "line": {
              "color": "rgb(17,17,17)"
             }
            },
            "type": "table"
           }
          ]
         },
         "layout": {
          "annotationdefaults": {
           "arrowcolor": "#f2f5fa",
           "arrowhead": 0,
           "arrowwidth": 1
          },
          "autotypenumbers": "strict",
          "coloraxis": {
           "colorbar": {
            "outlinewidth": 0,
            "ticks": ""
           }
          },
          "colorscale": {
           "diverging": [
            [
             0,
             "#8e0152"
            ],
            [
             0.1,
             "#c51b7d"
            ],
            [
             0.2,
             "#de77ae"
            ],
            [
             0.3,
             "#f1b6da"
            ],
            [
             0.4,
             "#fde0ef"
            ],
            [
             0.5,
             "#f7f7f7"
            ],
            [
             0.6,
             "#e6f5d0"
            ],
            [
             0.7,
             "#b8e186"
            ],
            [
             0.8,
             "#7fbc41"
            ],
            [
             0.9,
             "#4d9221"
            ],
            [
             1,
             "#276419"
            ]
           ],
           "sequential": [
            [
             0,
             "#0d0887"
            ],
            [
             0.1111111111111111,
             "#46039f"
            ],
            [
             0.2222222222222222,
             "#7201a8"
            ],
            [
             0.3333333333333333,
             "#9c179e"
            ],
            [
             0.4444444444444444,
             "#bd3786"
            ],
            [
             0.5555555555555556,
             "#d8576b"
            ],
            [
             0.6666666666666666,
             "#ed7953"
            ],
            [
             0.7777777777777778,
             "#fb9f3a"
            ],
            [
             0.8888888888888888,
             "#fdca26"
            ],
            [
             1,
             "#f0f921"
            ]
           ],
           "sequentialminus": [
            [
             0,
             "#0d0887"
            ],
            [
             0.1111111111111111,
             "#46039f"
            ],
            [
             0.2222222222222222,
             "#7201a8"
            ],
            [
             0.3333333333333333,
             "#9c179e"
            ],
            [
             0.4444444444444444,
             "#bd3786"
            ],
            [
             0.5555555555555556,
             "#d8576b"
            ],
            [
             0.6666666666666666,
             "#ed7953"
            ],
            [
             0.7777777777777778,
             "#fb9f3a"
            ],
            [
             0.8888888888888888,
             "#fdca26"
            ],
            [
             1,
             "#f0f921"
            ]
           ]
          },
          "colorway": [
           "#636efa",
           "#EF553B",
           "#00cc96",
           "#ab63fa",
           "#FFA15A",
           "#19d3f3",
           "#FF6692",
           "#B6E880",
           "#FF97FF",
           "#FECB52"
          ],
          "font": {
           "color": "#f2f5fa"
          },
          "geo": {
           "bgcolor": "rgb(17,17,17)",
           "lakecolor": "rgb(17,17,17)",
           "landcolor": "rgb(17,17,17)",
           "showlakes": true,
           "showland": true,
           "subunitcolor": "#506784"
          },
          "hoverlabel": {
           "align": "left"
          },
          "hovermode": "closest",
          "mapbox": {
           "style": "dark"
          },
          "paper_bgcolor": "rgb(17,17,17)",
          "plot_bgcolor": "rgb(17,17,17)",
          "polar": {
           "angularaxis": {
            "gridcolor": "#506784",
            "linecolor": "#506784",
            "ticks": ""
           },
           "bgcolor": "rgb(17,17,17)",
           "radialaxis": {
            "gridcolor": "#506784",
            "linecolor": "#506784",
            "ticks": ""
           }
          },
          "scene": {
           "xaxis": {
            "backgroundcolor": "rgb(17,17,17)",
            "gridcolor": "#506784",
            "gridwidth": 2,
            "linecolor": "#506784",
            "showbackground": true,
            "ticks": "",
            "zerolinecolor": "#C8D4E3"
           },
           "yaxis": {
            "backgroundcolor": "rgb(17,17,17)",
            "gridcolor": "#506784",
            "gridwidth": 2,
            "linecolor": "#506784",
            "showbackground": true,
            "ticks": "",
            "zerolinecolor": "#C8D4E3"
           },
           "zaxis": {
            "backgroundcolor": "rgb(17,17,17)",
            "gridcolor": "#506784",
            "gridwidth": 2,
            "linecolor": "#506784",
            "showbackground": true,
            "ticks": "",
            "zerolinecolor": "#C8D4E3"
           }
          },
          "shapedefaults": {
           "line": {
            "color": "#f2f5fa"
           }
          },
          "sliderdefaults": {
           "bgcolor": "#C8D4E3",
           "bordercolor": "rgb(17,17,17)",
           "borderwidth": 1,
           "tickwidth": 0
          },
          "ternary": {
           "aaxis": {
            "gridcolor": "#506784",
            "linecolor": "#506784",
            "ticks": ""
           },
           "baxis": {
            "gridcolor": "#506784",
            "linecolor": "#506784",
            "ticks": ""
           },
           "bgcolor": "rgb(17,17,17)",
           "caxis": {
            "gridcolor": "#506784",
            "linecolor": "#506784",
            "ticks": ""
           }
          },
          "title": {
           "x": 0.05
          },
          "updatemenudefaults": {
           "bgcolor": "#506784",
           "borderwidth": 0
          },
          "xaxis": {
           "automargin": true,
           "gridcolor": "#283442",
           "linecolor": "#506784",
           "ticks": "",
           "title": {
            "standoff": 15
           },
           "zerolinecolor": "#283442",
           "zerolinewidth": 2
          },
          "yaxis": {
           "automargin": true,
           "gridcolor": "#283442",
           "linecolor": "#506784",
           "ticks": "",
           "title": {
            "standoff": 15
           },
           "zerolinecolor": "#283442",
           "zerolinewidth": 2
          }
         }
        },
        "title": {
         "text": "Candlestick Chart with Indicators (2025-03-10)"
        },
        "xaxis": {
         "anchor": "y",
         "domain": [
          0,
          1
         ],
         "matches": "x2",
         "rangeslider": {
          "visible": false
         },
         "showticklabels": false,
         "title": {
          "text": "Time"
         }
        },
        "xaxis2": {
         "anchor": "y2",
         "domain": [
          0,
          1
         ]
        },
        "yaxis": {
         "anchor": "x",
         "domain": [
          0.33499999999999996,
          0.9999999999999999
         ],
         "title": {
          "text": "Price"
         }
        },
        "yaxis2": {
         "anchor": "x2",
         "domain": [
          0,
          0.285
         ]
        }
       }
      }
     },
     "metadata": {},
     "output_type": "display_data"
    }
   ],
   "source": [
    "\n",
    "plot_candlestick_with_indicators(\n",
    "    nqdf,\n",
    "    indicators=[\n",
    "        {'name': 'MACD', 'column': 'MACD', 'color': 'cyan'},\n",
    "        {'name': 'Signal Line', 'column': 'Signal_Line', 'color': 'magenta'},\n",
    "        {'name': 'EMA', 'column': 'EMA', 'color': 'orange'},\n",
    "    ],\n",
    "    day='2025-03-10',\n",
    "    #start_time='09:30',\n",
    "    #end_time='13:00'\n",
    ")\n"
   ]
  },
  {
   "cell_type": "markdown",
   "metadata": {},
   "source": [
    "So on this day, using MACD as an indicator we see that there is a clear MACD Crossover at 9:15, which resulted in a slight reversal to the upside. These indicators definitely work to show reversals-- but from experience, the art of trading comes from descretion and using these indicators with a grain of salt"
   ]
  },
  {
   "cell_type": "markdown",
   "metadata": {},
   "source": []
  }
 ],
 "metadata": {
  "kernelspec": {
   "display_name": "algvenv",
   "language": "python",
   "name": "python3"
  },
  "language_info": {
   "codemirror_mode": {
    "name": "ipython",
    "version": 3
   },
   "file_extension": ".py",
   "mimetype": "text/x-python",
   "name": "python",
   "nbconvert_exporter": "python",
   "pygments_lexer": "ipython3",
   "version": "3.11.0"
  }
 },
 "nbformat": 4,
 "nbformat_minor": 2
}
